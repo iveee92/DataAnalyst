{
 "cells": [
  {
   "cell_type": "markdown",
   "id": "49a081e4",
   "metadata": {},
   "source": [
    "#### Описание проекта\n",
    "\n",
    "Есть стартап, который продаёт продукты питания. Нужно разобраться, как ведут себя пользователи мобильного приложения.\n",
    "Изучим воронку продаж. Узнаем, как пользователи доходят до покупки. Сколько пользователей доходит до покупки, а сколько — «застревает» на предыдущих шагах? На каких именно?\n",
    "\n",
    "После этого исследуем результаты A/A/B-эксперимента. Дизайнеры захотели поменять шрифты во всём приложении, а менеджеры испугались, что пользователям будет непривычно. Договорились принять решение по результатам A/A/B-теста. Пользователей разбили на 3 группы: 2 контрольные со старыми шрифтами и одну экспериментальную — с новыми. Выясните, какой шрифт лучше.\n",
    "\n",
    "Создание двух групп A вместо одной имеет определённые преимущества. Если две контрольные группы окажутся равны, вы можете быть уверены в точности проведенного тестирования. Если же между значениями A и A будут существенные различия, это поможет обнаружить факторы, которые привели к искажению результатов. Сравнение контрольных групп также помогает понять, сколько времени и данных потребуется для дальнейших тестов."
   ]
  },
  {
   "cell_type": "code",
   "execution_count": 1,
   "id": "b27ac304",
   "metadata": {},
   "outputs": [],
   "source": [
    "import pandas as pd\n",
    "from datetime import datetime\n",
    "from scipy import stats as st\n",
    "import math as mth\n",
    "import matplotlib.pyplot as plt"
   ]
  },
  {
   "cell_type": "code",
   "execution_count": 2,
   "id": "9453443f",
   "metadata": {},
   "outputs": [],
   "source": [
    "try: df = pd.read_csv(r'C:\\Users\\v.ipatko\\Desktop\\Pract\\dataset\\project 2\\logs_exp.csv', sep='\\t')\n",
    "except: df = pd.read_csv('/datasets/logs_exp.csv', sep='\\t')"
   ]
  },
  {
   "cell_type": "code",
   "execution_count": 3,
   "id": "904229d3",
   "metadata": {
    "scrolled": false
   },
   "outputs": [
    {
     "data": {
      "text/html": [
       "<div>\n",
       "<style scoped>\n",
       "    .dataframe tbody tr th:only-of-type {\n",
       "        vertical-align: middle;\n",
       "    }\n",
       "\n",
       "    .dataframe tbody tr th {\n",
       "        vertical-align: top;\n",
       "    }\n",
       "\n",
       "    .dataframe thead th {\n",
       "        text-align: right;\n",
       "    }\n",
       "</style>\n",
       "<table border=\"1\" class=\"dataframe\">\n",
       "  <thead>\n",
       "    <tr style=\"text-align: right;\">\n",
       "      <th></th>\n",
       "      <th>EventName</th>\n",
       "      <th>DeviceIDHash</th>\n",
       "      <th>EventTimestamp</th>\n",
       "      <th>ExpId</th>\n",
       "    </tr>\n",
       "  </thead>\n",
       "  <tbody>\n",
       "    <tr>\n",
       "      <th>0</th>\n",
       "      <td>MainScreenAppear</td>\n",
       "      <td>4575588528974610257</td>\n",
       "      <td>1564029816</td>\n",
       "      <td>246</td>\n",
       "    </tr>\n",
       "    <tr>\n",
       "      <th>1</th>\n",
       "      <td>MainScreenAppear</td>\n",
       "      <td>7416695313311560658</td>\n",
       "      <td>1564053102</td>\n",
       "      <td>246</td>\n",
       "    </tr>\n",
       "    <tr>\n",
       "      <th>2</th>\n",
       "      <td>PaymentScreenSuccessful</td>\n",
       "      <td>3518123091307005509</td>\n",
       "      <td>1564054127</td>\n",
       "      <td>248</td>\n",
       "    </tr>\n",
       "    <tr>\n",
       "      <th>3</th>\n",
       "      <td>CartScreenAppear</td>\n",
       "      <td>3518123091307005509</td>\n",
       "      <td>1564054127</td>\n",
       "      <td>248</td>\n",
       "    </tr>\n",
       "    <tr>\n",
       "      <th>4</th>\n",
       "      <td>PaymentScreenSuccessful</td>\n",
       "      <td>6217807653094995999</td>\n",
       "      <td>1564055322</td>\n",
       "      <td>248</td>\n",
       "    </tr>\n",
       "    <tr>\n",
       "      <th>...</th>\n",
       "      <td>...</td>\n",
       "      <td>...</td>\n",
       "      <td>...</td>\n",
       "      <td>...</td>\n",
       "    </tr>\n",
       "    <tr>\n",
       "      <th>244121</th>\n",
       "      <td>MainScreenAppear</td>\n",
       "      <td>4599628364049201812</td>\n",
       "      <td>1565212345</td>\n",
       "      <td>247</td>\n",
       "    </tr>\n",
       "    <tr>\n",
       "      <th>244122</th>\n",
       "      <td>MainScreenAppear</td>\n",
       "      <td>5849806612437486590</td>\n",
       "      <td>1565212439</td>\n",
       "      <td>246</td>\n",
       "    </tr>\n",
       "    <tr>\n",
       "      <th>244123</th>\n",
       "      <td>MainScreenAppear</td>\n",
       "      <td>5746969938801999050</td>\n",
       "      <td>1565212483</td>\n",
       "      <td>246</td>\n",
       "    </tr>\n",
       "    <tr>\n",
       "      <th>244124</th>\n",
       "      <td>MainScreenAppear</td>\n",
       "      <td>5746969938801999050</td>\n",
       "      <td>1565212498</td>\n",
       "      <td>246</td>\n",
       "    </tr>\n",
       "    <tr>\n",
       "      <th>244125</th>\n",
       "      <td>OffersScreenAppear</td>\n",
       "      <td>5746969938801999050</td>\n",
       "      <td>1565212517</td>\n",
       "      <td>246</td>\n",
       "    </tr>\n",
       "  </tbody>\n",
       "</table>\n",
       "<p>244126 rows × 4 columns</p>\n",
       "</div>"
      ],
      "text/plain": [
       "                      EventName         DeviceIDHash  EventTimestamp  ExpId\n",
       "0              MainScreenAppear  4575588528974610257      1564029816    246\n",
       "1              MainScreenAppear  7416695313311560658      1564053102    246\n",
       "2       PaymentScreenSuccessful  3518123091307005509      1564054127    248\n",
       "3              CartScreenAppear  3518123091307005509      1564054127    248\n",
       "4       PaymentScreenSuccessful  6217807653094995999      1564055322    248\n",
       "...                         ...                  ...             ...    ...\n",
       "244121         MainScreenAppear  4599628364049201812      1565212345    247\n",
       "244122         MainScreenAppear  5849806612437486590      1565212439    246\n",
       "244123         MainScreenAppear  5746969938801999050      1565212483    246\n",
       "244124         MainScreenAppear  5746969938801999050      1565212498    246\n",
       "244125       OffersScreenAppear  5746969938801999050      1565212517    246\n",
       "\n",
       "[244126 rows x 4 columns]"
      ]
     },
     "execution_count": 3,
     "metadata": {},
     "output_type": "execute_result"
    }
   ],
   "source": [
    "df"
   ]
  },
  {
   "cell_type": "markdown",
   "id": "d0b2f8fa",
   "metadata": {},
   "source": [
    "#### Заменим названия столбцов"
   ]
  },
  {
   "cell_type": "code",
   "execution_count": 4,
   "id": "1f4a35e2",
   "metadata": {},
   "outputs": [],
   "source": [
    "df = df.rename(columns={'EventName':'event_name', 'DeviceIDHash': 'device_id', 'EventTimestamp': 'timestamp', 'ExpId': 'group'})"
   ]
  },
  {
   "cell_type": "code",
   "execution_count": 5,
   "id": "fbd447a2",
   "metadata": {
    "scrolled": true
   },
   "outputs": [
    {
     "name": "stdout",
     "output_type": "stream",
     "text": [
      "<class 'pandas.core.frame.DataFrame'>\n",
      "RangeIndex: 244126 entries, 0 to 244125\n",
      "Data columns (total 4 columns):\n",
      " #   Column      Non-Null Count   Dtype \n",
      "---  ------      --------------   ----- \n",
      " 0   event_name  244126 non-null  object\n",
      " 1   device_id   244126 non-null  int64 \n",
      " 2   timestamp   244126 non-null  int64 \n",
      " 3   group       244126 non-null  int64 \n",
      "dtypes: int64(3), object(1)\n",
      "memory usage: 7.5+ MB\n"
     ]
    }
   ],
   "source": [
    "df.info()"
   ]
  },
  {
   "cell_type": "markdown",
   "id": "3a498b55",
   "metadata": {},
   "source": [
    "#### Преборазуем типы данных"
   ]
  },
  {
   "cell_type": "code",
   "execution_count": 6,
   "id": "cb3b44a7",
   "metadata": {},
   "outputs": [],
   "source": [
    "df['dt'] = pd.to_datetime(df['timestamp'], unit='s')\n",
    "df['date'] = pd.to_datetime(df['timestamp'], unit='s').dt.date"
   ]
  },
  {
   "cell_type": "code",
   "execution_count": 7,
   "id": "a74ee7fe",
   "metadata": {},
   "outputs": [
    {
     "data": {
      "text/html": [
       "<div>\n",
       "<style scoped>\n",
       "    .dataframe tbody tr th:only-of-type {\n",
       "        vertical-align: middle;\n",
       "    }\n",
       "\n",
       "    .dataframe tbody tr th {\n",
       "        vertical-align: top;\n",
       "    }\n",
       "\n",
       "    .dataframe thead th {\n",
       "        text-align: right;\n",
       "    }\n",
       "</style>\n",
       "<table border=\"1\" class=\"dataframe\">\n",
       "  <thead>\n",
       "    <tr style=\"text-align: right;\">\n",
       "      <th></th>\n",
       "      <th>event_name</th>\n",
       "      <th>device_id</th>\n",
       "      <th>timestamp</th>\n",
       "      <th>group</th>\n",
       "      <th>dt</th>\n",
       "      <th>date</th>\n",
       "    </tr>\n",
       "  </thead>\n",
       "  <tbody>\n",
       "    <tr>\n",
       "      <th>0</th>\n",
       "      <td>MainScreenAppear</td>\n",
       "      <td>4575588528974610257</td>\n",
       "      <td>1564029816</td>\n",
       "      <td>246</td>\n",
       "      <td>2019-07-25 04:43:36</td>\n",
       "      <td>2019-07-25</td>\n",
       "    </tr>\n",
       "    <tr>\n",
       "      <th>1</th>\n",
       "      <td>MainScreenAppear</td>\n",
       "      <td>7416695313311560658</td>\n",
       "      <td>1564053102</td>\n",
       "      <td>246</td>\n",
       "      <td>2019-07-25 11:11:42</td>\n",
       "      <td>2019-07-25</td>\n",
       "    </tr>\n",
       "    <tr>\n",
       "      <th>2</th>\n",
       "      <td>PaymentScreenSuccessful</td>\n",
       "      <td>3518123091307005509</td>\n",
       "      <td>1564054127</td>\n",
       "      <td>248</td>\n",
       "      <td>2019-07-25 11:28:47</td>\n",
       "      <td>2019-07-25</td>\n",
       "    </tr>\n",
       "    <tr>\n",
       "      <th>3</th>\n",
       "      <td>CartScreenAppear</td>\n",
       "      <td>3518123091307005509</td>\n",
       "      <td>1564054127</td>\n",
       "      <td>248</td>\n",
       "      <td>2019-07-25 11:28:47</td>\n",
       "      <td>2019-07-25</td>\n",
       "    </tr>\n",
       "    <tr>\n",
       "      <th>4</th>\n",
       "      <td>PaymentScreenSuccessful</td>\n",
       "      <td>6217807653094995999</td>\n",
       "      <td>1564055322</td>\n",
       "      <td>248</td>\n",
       "      <td>2019-07-25 11:48:42</td>\n",
       "      <td>2019-07-25</td>\n",
       "    </tr>\n",
       "    <tr>\n",
       "      <th>...</th>\n",
       "      <td>...</td>\n",
       "      <td>...</td>\n",
       "      <td>...</td>\n",
       "      <td>...</td>\n",
       "      <td>...</td>\n",
       "      <td>...</td>\n",
       "    </tr>\n",
       "    <tr>\n",
       "      <th>244121</th>\n",
       "      <td>MainScreenAppear</td>\n",
       "      <td>4599628364049201812</td>\n",
       "      <td>1565212345</td>\n",
       "      <td>247</td>\n",
       "      <td>2019-08-07 21:12:25</td>\n",
       "      <td>2019-08-07</td>\n",
       "    </tr>\n",
       "    <tr>\n",
       "      <th>244122</th>\n",
       "      <td>MainScreenAppear</td>\n",
       "      <td>5849806612437486590</td>\n",
       "      <td>1565212439</td>\n",
       "      <td>246</td>\n",
       "      <td>2019-08-07 21:13:59</td>\n",
       "      <td>2019-08-07</td>\n",
       "    </tr>\n",
       "    <tr>\n",
       "      <th>244123</th>\n",
       "      <td>MainScreenAppear</td>\n",
       "      <td>5746969938801999050</td>\n",
       "      <td>1565212483</td>\n",
       "      <td>246</td>\n",
       "      <td>2019-08-07 21:14:43</td>\n",
       "      <td>2019-08-07</td>\n",
       "    </tr>\n",
       "    <tr>\n",
       "      <th>244124</th>\n",
       "      <td>MainScreenAppear</td>\n",
       "      <td>5746969938801999050</td>\n",
       "      <td>1565212498</td>\n",
       "      <td>246</td>\n",
       "      <td>2019-08-07 21:14:58</td>\n",
       "      <td>2019-08-07</td>\n",
       "    </tr>\n",
       "    <tr>\n",
       "      <th>244125</th>\n",
       "      <td>OffersScreenAppear</td>\n",
       "      <td>5746969938801999050</td>\n",
       "      <td>1565212517</td>\n",
       "      <td>246</td>\n",
       "      <td>2019-08-07 21:15:17</td>\n",
       "      <td>2019-08-07</td>\n",
       "    </tr>\n",
       "  </tbody>\n",
       "</table>\n",
       "<p>244126 rows × 6 columns</p>\n",
       "</div>"
      ],
      "text/plain": [
       "                     event_name            device_id   timestamp  group  \\\n",
       "0              MainScreenAppear  4575588528974610257  1564029816    246   \n",
       "1              MainScreenAppear  7416695313311560658  1564053102    246   \n",
       "2       PaymentScreenSuccessful  3518123091307005509  1564054127    248   \n",
       "3              CartScreenAppear  3518123091307005509  1564054127    248   \n",
       "4       PaymentScreenSuccessful  6217807653094995999  1564055322    248   \n",
       "...                         ...                  ...         ...    ...   \n",
       "244121         MainScreenAppear  4599628364049201812  1565212345    247   \n",
       "244122         MainScreenAppear  5849806612437486590  1565212439    246   \n",
       "244123         MainScreenAppear  5746969938801999050  1565212483    246   \n",
       "244124         MainScreenAppear  5746969938801999050  1565212498    246   \n",
       "244125       OffersScreenAppear  5746969938801999050  1565212517    246   \n",
       "\n",
       "                        dt        date  \n",
       "0      2019-07-25 04:43:36  2019-07-25  \n",
       "1      2019-07-25 11:11:42  2019-07-25  \n",
       "2      2019-07-25 11:28:47  2019-07-25  \n",
       "3      2019-07-25 11:28:47  2019-07-25  \n",
       "4      2019-07-25 11:48:42  2019-07-25  \n",
       "...                    ...         ...  \n",
       "244121 2019-08-07 21:12:25  2019-08-07  \n",
       "244122 2019-08-07 21:13:59  2019-08-07  \n",
       "244123 2019-08-07 21:14:43  2019-08-07  \n",
       "244124 2019-08-07 21:14:58  2019-08-07  \n",
       "244125 2019-08-07 21:15:17  2019-08-07  \n",
       "\n",
       "[244126 rows x 6 columns]"
      ]
     },
     "execution_count": 7,
     "metadata": {},
     "output_type": "execute_result"
    }
   ],
   "source": [
    "df"
   ]
  },
  {
   "cell_type": "markdown",
   "id": "6ba71ce9",
   "metadata": {},
   "source": [
    "#### Провериим датасет на наличие дубликатов и удалим их"
   ]
  },
  {
   "cell_type": "code",
   "execution_count": 8,
   "id": "8a4cdc3f",
   "metadata": {},
   "outputs": [
    {
     "data": {
      "text/plain": [
       "413"
      ]
     },
     "execution_count": 8,
     "metadata": {},
     "output_type": "execute_result"
    }
   ],
   "source": [
    "df.duplicated().sum()"
   ]
  },
  {
   "cell_type": "code",
   "execution_count": 9,
   "id": "2ce0c097",
   "metadata": {
    "scrolled": true
   },
   "outputs": [],
   "source": [
    "df.drop_duplicates(inplace=True)"
   ]
  },
  {
   "cell_type": "markdown",
   "id": "8e161d3a",
   "metadata": {},
   "source": [
    "#### Всего событий в логе:"
   ]
  },
  {
   "cell_type": "code",
   "execution_count": 10,
   "id": "6d222777",
   "metadata": {},
   "outputs": [
    {
     "data": {
      "text/plain": [
       "243713"
      ]
     },
     "execution_count": 10,
     "metadata": {},
     "output_type": "execute_result"
    }
   ],
   "source": [
    "df['event_name'].count()"
   ]
  },
  {
   "cell_type": "markdown",
   "id": "1c307656",
   "metadata": {},
   "source": [
    "#### Всего пользователей в логе"
   ]
  },
  {
   "cell_type": "code",
   "execution_count": 11,
   "id": "99eb4052",
   "metadata": {},
   "outputs": [
    {
     "data": {
      "text/plain": [
       "7551"
      ]
     },
     "execution_count": 11,
     "metadata": {},
     "output_type": "execute_result"
    }
   ],
   "source": [
    "users_total = df['device_id'].nunique()\n",
    "users_total"
   ]
  },
  {
   "cell_type": "markdown",
   "id": "293db37f",
   "metadata": {},
   "source": [
    "#### В среднем событий на пользователя: 32"
   ]
  },
  {
   "cell_type": "code",
   "execution_count": 12,
   "id": "e25bcb04",
   "metadata": {},
   "outputs": [
    {
     "data": {
      "text/plain": [
       "32.27559263673685"
      ]
     },
     "execution_count": 12,
     "metadata": {},
     "output_type": "execute_result"
    }
   ],
   "source": [
    "df.groupby('device_id')['event_name'].count().mean()"
   ]
  },
  {
   "cell_type": "markdown",
   "id": "0c76c97f",
   "metadata": {},
   "source": [
    "#### Найдём даты первого и последнего события"
   ]
  },
  {
   "cell_type": "code",
   "execution_count": 13,
   "id": "f465315b",
   "metadata": {},
   "outputs": [
    {
     "data": {
      "text/plain": [
       "datetime.date(2019, 7, 25)"
      ]
     },
     "execution_count": 13,
     "metadata": {},
     "output_type": "execute_result"
    }
   ],
   "source": [
    "df['date'].min()"
   ]
  },
  {
   "cell_type": "code",
   "execution_count": 14,
   "id": "90953193",
   "metadata": {},
   "outputs": [
    {
     "data": {
      "text/plain": [
       "datetime.date(2019, 8, 7)"
      ]
     },
     "execution_count": 14,
     "metadata": {},
     "output_type": "execute_result"
    }
   ],
   "source": [
    "df['date'].max()"
   ]
  },
  {
   "cell_type": "code",
   "execution_count": 15,
   "id": "9c0cedc9",
   "metadata": {},
   "outputs": [
    {
     "data": {
      "text/plain": [
       "Timedelta('13 days 16:31:41')"
      ]
     },
     "execution_count": 15,
     "metadata": {},
     "output_type": "execute_result"
    }
   ],
   "source": [
    "df['dt'].max() - df['dt'].min()  "
   ]
  },
  {
   "cell_type": "markdown",
   "id": "12c6cc61",
   "metadata": {},
   "source": [
    "Располагаем данными за период длинной в две недели"
   ]
  },
  {
   "cell_type": "code",
   "execution_count": 16,
   "id": "ed203686",
   "metadata": {},
   "outputs": [
    {
     "data": {
      "image/png": "[encoded data removed]",
      "text/plain": [
       "<Figure size 1080x288 with 1 Axes>"
      ]
     },
     "metadata": {
      "needs_background": "light"
     },
     "output_type": "display_data"
    }
   ],
   "source": [
    "df['dt'].hist(bins=14,figsize=(15,4))\n",
    "plt.title('Гисторграмма событий по дате и времени')\n",
    "plt.xlabel('Дата')\n",
    "plt.ylabel('Количество событий');"
   ]
  },
  {
   "cell_type": "code",
   "execution_count": 17,
   "id": "458681a0",
   "metadata": {},
   "outputs": [],
   "source": [
    "df_n = df[df['dt'] > '2019-08-01']"
   ]
  },
  {
   "cell_type": "markdown",
   "id": "3085df86",
   "metadata": {},
   "source": [
    "#### Отбросим данные до первого августа, они искажают общую картину. В общей сложности будем рассматривать период длинной в неделю"
   ]
  },
  {
   "cell_type": "code",
   "execution_count": 18,
   "id": "9405f800",
   "metadata": {},
   "outputs": [
    {
     "data": {
      "image/png": "[encoded data removed]",
      "text/plain": [
       "<Figure size 1080x288 with 1 Axes>"
      ]
     },
     "metadata": {
      "needs_background": "light"
     },
     "output_type": "display_data"
    }
   ],
   "source": [
    "df_n['dt'].hist(bins=7,figsize=(15,4))\n",
    "plt.title('Гисторграмма событий по дате и времени')\n",
    "plt.xlabel('Дата')\n",
    "plt.ylabel('Количество событий');"
   ]
  },
  {
   "cell_type": "code",
   "execution_count": 19,
   "id": "5f556a48",
   "metadata": {},
   "outputs": [
    {
     "name": "stdout",
     "output_type": "stream",
     "text": [
      "<class 'pandas.core.frame.DataFrame'>\n",
      "Int64Index: 240887 entries, 2828 to 244125\n",
      "Data columns (total 6 columns):\n",
      " #   Column      Non-Null Count   Dtype         \n",
      "---  ------      --------------   -----         \n",
      " 0   event_name  240887 non-null  object        \n",
      " 1   device_id   240887 non-null  int64         \n",
      " 2   timestamp   240887 non-null  int64         \n",
      " 3   group       240887 non-null  int64         \n",
      " 4   dt          240887 non-null  datetime64[ns]\n",
      " 5   date        240887 non-null  object        \n",
      "dtypes: datetime64[ns](1), int64(3), object(2)\n",
      "memory usage: 12.9+ MB\n"
     ]
    }
   ],
   "source": [
    "df_n.info()"
   ]
  },
  {
   "cell_type": "code",
   "execution_count": 20,
   "id": "886e10b0",
   "metadata": {},
   "outputs": [
    {
     "data": {
      "text/plain": [
       "2826"
      ]
     },
     "execution_count": 20,
     "metadata": {},
     "output_type": "execute_result"
    }
   ],
   "source": [
    "df['event_name'].count() - df_n['event_name'].count()"
   ]
  },
  {
   "cell_type": "code",
   "execution_count": 21,
   "id": "2dbd0061",
   "metadata": {},
   "outputs": [
    {
     "data": {
      "text/plain": [
       "1.159560630741897"
      ]
     },
     "execution_count": 21,
     "metadata": {},
     "output_type": "execute_result"
    }
   ],
   "source": [
    "((df['event_name'].count() - df_n['event_name'].count())/df['event_name'].count()) * 100"
   ]
  },
  {
   "cell_type": "markdown",
   "id": "12c73d32",
   "metadata": {},
   "source": [
    "#### После фильтрации данных мы потеряли 2828 события"
   ]
  },
  {
   "cell_type": "markdown",
   "id": "ca30d295",
   "metadata": {},
   "source": [
    "Что составляет чуть более 1% от первоначальных данных"
   ]
  },
  {
   "cell_type": "code",
   "execution_count": 22,
   "id": "5638da59",
   "metadata": {},
   "outputs": [
    {
     "data": {
      "text/plain": [
       "17"
      ]
     },
     "execution_count": 22,
     "metadata": {},
     "output_type": "execute_result"
    }
   ],
   "source": [
    "df['device_id'].nunique() - df_n['device_id'].nunique()"
   ]
  },
  {
   "cell_type": "code",
   "execution_count": 23,
   "id": "dfaeb819",
   "metadata": {},
   "outputs": [
    {
     "data": {
      "text/plain": [
       "0.22513574361011784"
      ]
     },
     "execution_count": 23,
     "metadata": {},
     "output_type": "execute_result"
    }
   ],
   "source": [
    "((df['device_id'].nunique() - df_n['device_id'].nunique())/df['device_id'].nunique()) * 100"
   ]
  },
  {
   "cell_type": "markdown",
   "id": "a1dbfea8",
   "metadata": {},
   "source": [
    "#### И 17 пользователей"
   ]
  },
  {
   "cell_type": "markdown",
   "id": "6305d879",
   "metadata": {},
   "source": [
    "Что составляет менее половины процента от первоначальных данных"
   ]
  },
  {
   "cell_type": "code",
   "execution_count": 24,
   "id": "a16042a0",
   "metadata": {},
   "outputs": [
    {
     "data": {
      "text/plain": [
       "248    84563\n",
       "246    79302\n",
       "247    77022\n",
       "Name: group, dtype: int64"
      ]
     },
     "execution_count": 24,
     "metadata": {},
     "output_type": "execute_result"
    }
   ],
   "source": [
    "df_n['group'].value_counts()"
   ]
  },
  {
   "cell_type": "code",
   "execution_count": 25,
   "id": "4b15e01a",
   "metadata": {},
   "outputs": [
    {
     "data": {
      "text/plain": [
       "group\n",
       "246    2484\n",
       "247    2513\n",
       "248    2537\n",
       "Name: device_id, dtype: int64"
      ]
     },
     "execution_count": 25,
     "metadata": {},
     "output_type": "execute_result"
    }
   ],
   "source": [
    "df_n.groupby('group')['device_id'].nunique()"
   ]
  },
  {
   "cell_type": "markdown",
   "id": "11fd8b5b",
   "metadata": {},
   "source": [
    "#### В очищенном датасете есть пользователи из всех трёх экспериментальных групп"
   ]
  },
  {
   "cell_type": "code",
   "execution_count": 26,
   "id": "c6c3c58b",
   "metadata": {},
   "outputs": [],
   "source": [
    "events_count = df_n.groupby('event_name').agg({'device_id': 'count'}).sort_values(by='device_id', ascending=False)"
   ]
  },
  {
   "cell_type": "markdown",
   "id": "9705faeb",
   "metadata": {},
   "source": [
    "#### Посмотрим какие события есть в нашем датасете и отсортируем их по частоте"
   ]
  },
  {
   "cell_type": "code",
   "execution_count": 27,
   "id": "410efa28",
   "metadata": {},
   "outputs": [
    {
     "data": {
      "text/html": [
       "<div>\n",
       "<style scoped>\n",
       "    .dataframe tbody tr th:only-of-type {\n",
       "        vertical-align: middle;\n",
       "    }\n",
       "\n",
       "    .dataframe tbody tr th {\n",
       "        vertical-align: top;\n",
       "    }\n",
       "\n",
       "    .dataframe thead th {\n",
       "        text-align: right;\n",
       "    }\n",
       "</style>\n",
       "<table border=\"1\" class=\"dataframe\">\n",
       "  <thead>\n",
       "    <tr style=\"text-align: right;\">\n",
       "      <th></th>\n",
       "      <th>device_id</th>\n",
       "    </tr>\n",
       "    <tr>\n",
       "      <th>event_name</th>\n",
       "      <th></th>\n",
       "    </tr>\n",
       "  </thead>\n",
       "  <tbody>\n",
       "    <tr>\n",
       "      <th>MainScreenAppear</th>\n",
       "      <td>117328</td>\n",
       "    </tr>\n",
       "    <tr>\n",
       "      <th>OffersScreenAppear</th>\n",
       "      <td>46333</td>\n",
       "    </tr>\n",
       "    <tr>\n",
       "      <th>CartScreenAppear</th>\n",
       "      <td>42303</td>\n",
       "    </tr>\n",
       "    <tr>\n",
       "      <th>PaymentScreenSuccessful</th>\n",
       "      <td>33918</td>\n",
       "    </tr>\n",
       "    <tr>\n",
       "      <th>Tutorial</th>\n",
       "      <td>1005</td>\n",
       "    </tr>\n",
       "  </tbody>\n",
       "</table>\n",
       "</div>"
      ],
      "text/plain": [
       "                         device_id\n",
       "event_name                        \n",
       "MainScreenAppear            117328\n",
       "OffersScreenAppear           46333\n",
       "CartScreenAppear             42303\n",
       "PaymentScreenSuccessful      33918\n",
       "Tutorial                      1005"
      ]
     },
     "execution_count": 27,
     "metadata": {},
     "output_type": "execute_result"
    }
   ],
   "source": [
    "events_count"
   ]
  },
  {
   "cell_type": "code",
   "execution_count": 28,
   "id": "d2d9387e",
   "metadata": {},
   "outputs": [],
   "source": [
    "users_count = df_n.groupby('event_name').agg({'device_id': 'nunique'}).sort_values(by='device_id', ascending=False)"
   ]
  },
  {
   "cell_type": "markdown",
   "id": "2b6d60cc",
   "metadata": {},
   "source": [
    "#### Найдём какой процент пользователей совершал каждое событие"
   ]
  },
  {
   "cell_type": "code",
   "execution_count": 29,
   "id": "dadc1874",
   "metadata": {},
   "outputs": [
    {
     "data": {
      "text/html": [
       "<div>\n",
       "<style scoped>\n",
       "    .dataframe tbody tr th:only-of-type {\n",
       "        vertical-align: middle;\n",
       "    }\n",
       "\n",
       "    .dataframe tbody tr th {\n",
       "        vertical-align: top;\n",
       "    }\n",
       "\n",
       "    .dataframe thead th {\n",
       "        text-align: right;\n",
       "    }\n",
       "</style>\n",
       "<table border=\"1\" class=\"dataframe\">\n",
       "  <thead>\n",
       "    <tr style=\"text-align: right;\">\n",
       "      <th></th>\n",
       "      <th>device_id</th>\n",
       "      <th>%</th>\n",
       "    </tr>\n",
       "    <tr>\n",
       "      <th>event_name</th>\n",
       "      <th></th>\n",
       "      <th></th>\n",
       "    </tr>\n",
       "  </thead>\n",
       "  <tbody>\n",
       "    <tr>\n",
       "      <th>MainScreenAppear</th>\n",
       "      <td>7419</td>\n",
       "      <td>0.984736</td>\n",
       "    </tr>\n",
       "    <tr>\n",
       "      <th>OffersScreenAppear</th>\n",
       "      <td>4593</td>\n",
       "      <td>0.609636</td>\n",
       "    </tr>\n",
       "    <tr>\n",
       "      <th>CartScreenAppear</th>\n",
       "      <td>3734</td>\n",
       "      <td>0.495620</td>\n",
       "    </tr>\n",
       "    <tr>\n",
       "      <th>PaymentScreenSuccessful</th>\n",
       "      <td>3539</td>\n",
       "      <td>0.469737</td>\n",
       "    </tr>\n",
       "    <tr>\n",
       "      <th>Tutorial</th>\n",
       "      <td>840</td>\n",
       "      <td>0.111495</td>\n",
       "    </tr>\n",
       "  </tbody>\n",
       "</table>\n",
       "</div>"
      ],
      "text/plain": [
       "                         device_id         %\n",
       "event_name                                  \n",
       "MainScreenAppear              7419  0.984736\n",
       "OffersScreenAppear            4593  0.609636\n",
       "CartScreenAppear              3734  0.495620\n",
       "PaymentScreenSuccessful       3539  0.469737\n",
       "Tutorial                       840  0.111495"
      ]
     },
     "execution_count": 29,
     "metadata": {},
     "output_type": "execute_result"
    }
   ],
   "source": [
    "users_count['%'] = users_count['device_id']/df_n['device_id'].nunique()\n",
    "users_count"
   ]
  },
  {
   "cell_type": "code",
   "execution_count": 30,
   "id": "0d83060e",
   "metadata": {},
   "outputs": [],
   "source": [
    "users_count.drop(index='Tutorial', axis=0, inplace=True)"
   ]
  },
  {
   "cell_type": "markdown",
   "id": "65750817",
   "metadata": {},
   "source": [
    "#### Сначала появляется главный экран - далее экран с предложением, далее корзина, потом экран успешной уплаты. Экран с обучением наверняка где-то совсем в стороне. Возможно после экрана успешной оплаты снова открывается главный экран. "
   ]
  },
  {
   "cell_type": "markdown",
   "id": "048bb34b",
   "metadata": {},
   "source": [
    "Можно исключить из воронки событие tutorial. Это действие не обязательно."
   ]
  },
  {
   "cell_type": "code",
   "execution_count": 31,
   "id": "aafbfdb1",
   "metadata": {},
   "outputs": [
    {
     "data": {
      "text/html": [
       "<div>\n",
       "<style scoped>\n",
       "    .dataframe tbody tr th:only-of-type {\n",
       "        vertical-align: middle;\n",
       "    }\n",
       "\n",
       "    .dataframe tbody tr th {\n",
       "        vertical-align: top;\n",
       "    }\n",
       "\n",
       "    .dataframe thead th {\n",
       "        text-align: right;\n",
       "    }\n",
       "</style>\n",
       "<table border=\"1\" class=\"dataframe\">\n",
       "  <thead>\n",
       "    <tr style=\"text-align: right;\">\n",
       "      <th></th>\n",
       "      <th>device_id</th>\n",
       "      <th>%</th>\n",
       "    </tr>\n",
       "    <tr>\n",
       "      <th>event_name</th>\n",
       "      <th></th>\n",
       "      <th></th>\n",
       "    </tr>\n",
       "  </thead>\n",
       "  <tbody>\n",
       "    <tr>\n",
       "      <th>MainScreenAppear</th>\n",
       "      <td>7419</td>\n",
       "      <td>0.984736</td>\n",
       "    </tr>\n",
       "    <tr>\n",
       "      <th>OffersScreenAppear</th>\n",
       "      <td>4593</td>\n",
       "      <td>0.609636</td>\n",
       "    </tr>\n",
       "    <tr>\n",
       "      <th>CartScreenAppear</th>\n",
       "      <td>3734</td>\n",
       "      <td>0.495620</td>\n",
       "    </tr>\n",
       "    <tr>\n",
       "      <th>PaymentScreenSuccessful</th>\n",
       "      <td>3539</td>\n",
       "      <td>0.469737</td>\n",
       "    </tr>\n",
       "  </tbody>\n",
       "</table>\n",
       "</div>"
      ],
      "text/plain": [
       "                         device_id         %\n",
       "event_name                                  \n",
       "MainScreenAppear              7419  0.984736\n",
       "OffersScreenAppear            4593  0.609636\n",
       "CartScreenAppear              3734  0.495620\n",
       "PaymentScreenSuccessful       3539  0.469737"
      ]
     },
     "execution_count": 31,
     "metadata": {},
     "output_type": "execute_result"
    }
   ],
   "source": [
    "users_count"
   ]
  },
  {
   "cell_type": "code",
   "execution_count": 32,
   "id": "f62740b4",
   "metadata": {},
   "outputs": [],
   "source": [
    "users_count['next_step'] = users_count['device_id'].shift(1, fill_value=0)"
   ]
  },
  {
   "cell_type": "code",
   "execution_count": 33,
   "id": "755ffeab",
   "metadata": {},
   "outputs": [],
   "source": [
    "users_count['conversion'] = (users_count['device_id']/users_count['next_step']) * 100"
   ]
  },
  {
   "cell_type": "code",
   "execution_count": 34,
   "id": "fc7a4385",
   "metadata": {},
   "outputs": [],
   "source": [
    "users_count['losses'] = 100 - users_count['conversion']"
   ]
  },
  {
   "cell_type": "markdown",
   "id": "f5e50aea",
   "metadata": {},
   "source": [
    "#### 38% Пользователей теряются на переходе с главного экрана на экран с приложением"
   ]
  },
  {
   "cell_type": "code",
   "execution_count": 35,
   "id": "68df9d61",
   "metadata": {},
   "outputs": [
    {
     "data": {
      "text/html": [
       "<div>\n",
       "<style scoped>\n",
       "    .dataframe tbody tr th:only-of-type {\n",
       "        vertical-align: middle;\n",
       "    }\n",
       "\n",
       "    .dataframe tbody tr th {\n",
       "        vertical-align: top;\n",
       "    }\n",
       "\n",
       "    .dataframe thead th {\n",
       "        text-align: right;\n",
       "    }\n",
       "</style>\n",
       "<table border=\"1\" class=\"dataframe\">\n",
       "  <thead>\n",
       "    <tr style=\"text-align: right;\">\n",
       "      <th></th>\n",
       "      <th>device_id</th>\n",
       "      <th>%</th>\n",
       "      <th>next_step</th>\n",
       "      <th>conversion</th>\n",
       "      <th>losses</th>\n",
       "    </tr>\n",
       "    <tr>\n",
       "      <th>event_name</th>\n",
       "      <th></th>\n",
       "      <th></th>\n",
       "      <th></th>\n",
       "      <th></th>\n",
       "      <th></th>\n",
       "    </tr>\n",
       "  </thead>\n",
       "  <tbody>\n",
       "    <tr>\n",
       "      <th>MainScreenAppear</th>\n",
       "      <td>7419</td>\n",
       "      <td>0.984736</td>\n",
       "      <td>0</td>\n",
       "      <td>inf</td>\n",
       "      <td>-inf</td>\n",
       "    </tr>\n",
       "    <tr>\n",
       "      <th>OffersScreenAppear</th>\n",
       "      <td>4593</td>\n",
       "      <td>0.609636</td>\n",
       "      <td>7419</td>\n",
       "      <td>61.908613</td>\n",
       "      <td>38.091387</td>\n",
       "    </tr>\n",
       "    <tr>\n",
       "      <th>CartScreenAppear</th>\n",
       "      <td>3734</td>\n",
       "      <td>0.495620</td>\n",
       "      <td>4593</td>\n",
       "      <td>81.297627</td>\n",
       "      <td>18.702373</td>\n",
       "    </tr>\n",
       "    <tr>\n",
       "      <th>PaymentScreenSuccessful</th>\n",
       "      <td>3539</td>\n",
       "      <td>0.469737</td>\n",
       "      <td>3734</td>\n",
       "      <td>94.777718</td>\n",
       "      <td>5.222282</td>\n",
       "    </tr>\n",
       "  </tbody>\n",
       "</table>\n",
       "</div>"
      ],
      "text/plain": [
       "                         device_id         %  next_step  conversion     losses\n",
       "event_name                                                                    \n",
       "MainScreenAppear              7419  0.984736          0         inf       -inf\n",
       "OffersScreenAppear            4593  0.609636       7419   61.908613  38.091387\n",
       "CartScreenAppear              3734  0.495620       4593   81.297627  18.702373\n",
       "PaymentScreenSuccessful       3539  0.469737       3734   94.777718   5.222282"
      ]
     },
     "execution_count": 35,
     "metadata": {},
     "output_type": "execute_result"
    }
   ],
   "source": [
    "users_count"
   ]
  },
  {
   "cell_type": "code",
   "execution_count": 36,
   "id": "27fd524f",
   "metadata": {},
   "outputs": [
    {
     "data": {
      "text/plain": [
       "47.70184661005526"
      ]
     },
     "execution_count": 36,
     "metadata": {},
     "output_type": "execute_result"
    }
   ],
   "source": [
    "users_count['device_id'][3]/users_count['device_id'][0] * 100"
   ]
  },
  {
   "cell_type": "markdown",
   "id": "34e866c7",
   "metadata": {},
   "source": [
    "#### от первого события до оплаты доходят 47% пользователей."
   ]
  },
  {
   "cell_type": "code",
   "execution_count": 37,
   "id": "78a4d80c",
   "metadata": {
    "scrolled": true
   },
   "outputs": [
    {
     "data": {
      "text/plain": [
       "group\n",
       "246    2484\n",
       "247    2513\n",
       "248    2537\n",
       "Name: device_id, dtype: int64"
      ]
     },
     "execution_count": 37,
     "metadata": {},
     "output_type": "execute_result"
    }
   ],
   "source": [
    "df_n.groupby('group')['device_id'].nunique()"
   ]
  },
  {
   "cell_type": "markdown",
   "id": "b3143a13",
   "metadata": {},
   "source": [
    "#### Размеры экспериментальных групп"
   ]
  },
  {
   "cell_type": "code",
   "execution_count": 38,
   "id": "0ff30e46",
   "metadata": {},
   "outputs": [],
   "source": [
    "new = df_n.groupby('device_id')['group'].nunique().to_frame()"
   ]
  },
  {
   "cell_type": "code",
   "execution_count": 39,
   "id": "ebc8bb7e",
   "metadata": {},
   "outputs": [
    {
     "data": {
      "text/html": [
       "<div>\n",
       "<style scoped>\n",
       "    .dataframe tbody tr th:only-of-type {\n",
       "        vertical-align: middle;\n",
       "    }\n",
       "\n",
       "    .dataframe tbody tr th {\n",
       "        vertical-align: top;\n",
       "    }\n",
       "\n",
       "    .dataframe thead th {\n",
       "        text-align: right;\n",
       "    }\n",
       "</style>\n",
       "<table border=\"1\" class=\"dataframe\">\n",
       "  <thead>\n",
       "    <tr style=\"text-align: right;\">\n",
       "      <th></th>\n",
       "      <th>group</th>\n",
       "    </tr>\n",
       "    <tr>\n",
       "      <th>device_id</th>\n",
       "      <th></th>\n",
       "    </tr>\n",
       "  </thead>\n",
       "  <tbody>\n",
       "  </tbody>\n",
       "</table>\n",
       "</div>"
      ],
      "text/plain": [
       "Empty DataFrame\n",
       "Columns: [group]\n",
       "Index: []"
      ]
     },
     "execution_count": 39,
     "metadata": {},
     "output_type": "execute_result"
    }
   ],
   "source": [
    "new[new['group'] > 1]"
   ]
  },
  {
   "cell_type": "markdown",
   "id": "ed96d235",
   "metadata": {},
   "source": [
    "Во всех группах нет пересекающихся пользователей."
   ]
  },
  {
   "cell_type": "markdown",
   "id": "e3c5c8b9",
   "metadata": {},
   "source": [
    "#### Самое популярное событие - открытие главного экрана"
   ]
  },
  {
   "cell_type": "code",
   "execution_count": 40,
   "id": "6c9c80de",
   "metadata": {},
   "outputs": [],
   "source": [
    "group_246 = df_n[df_n['group']==246]\n",
    "group_247 = df_n[df_n['group']==247]\n",
    "\n",
    "trials = []\n",
    "trials.append(group_246['device_id'].nunique())\n",
    "trials.append(group_247['device_id'].nunique())"
   ]
  },
  {
   "cell_type": "code",
   "execution_count": 41,
   "id": "086b89b8",
   "metadata": {},
   "outputs": [
    {
     "name": "stdout",
     "output_type": "stream",
     "text": [
      "В 246 группе 2450 пользователей открыли главный экран\n",
      "Это 98.63 % от общего числа пользователей в группе\n"
     ]
    }
   ],
   "source": [
    "group_246_uniq_by_step = group_246.groupby('event_name').agg({'device_id': 'nunique'}).sort_values(by='device_id', ascending=False)\n",
    "suc_246 = list(group_246_uniq_by_step['device_id'])\n",
    "print(f'В 246 группе {suc_246[0]} пользователей открыли главный экран')\n",
    "print(f'Это {round((suc_246[0]/trials[0])*100, 2)} % от общего числа пользователей в группе')"
   ]
  },
  {
   "cell_type": "code",
   "execution_count": 42,
   "id": "7eb7fe65",
   "metadata": {},
   "outputs": [
    {
     "name": "stdout",
     "output_type": "stream",
     "text": [
      "В 247 группе 2476 пользователей открыли главный экран\n",
      "Это 98.53 % от общего числа пользователей в группе\n"
     ]
    }
   ],
   "source": [
    "group_247_uniq_by_step = group_247.groupby('event_name').agg({'device_id': 'nunique'}).sort_values(by='device_id', ascending=False)\n",
    "suc_247 = list(group_247_uniq_by_step['device_id'])\n",
    "print(f'В 247 группе {suc_247[0]} пользователей открыли главный экран')\n",
    "print(f'Это {round((suc_247[0]/trials[1])*100, 2)} % от общего числа пользователей в группе')"
   ]
  },
  {
   "cell_type": "code",
   "execution_count": 43,
   "id": "5da328e2",
   "metadata": {},
   "outputs": [],
   "source": [
    "def testing(one, two, three, four):\n",
    "    alpha = 0.05\n",
    "    p1 = one/three\n",
    "    p2 = two/four\n",
    "    p_combined = (one+ two)/ (three + four)\n",
    "    dif = p1-p2\n",
    " \n",
    "    z_value = dif / mth.sqrt(p_combined * (1 - p_combined) * (1/three + 1/four))\n",
    "\n",
    "    distr = st.norm(0, 1) \n",
    " \n",
    "    p_value = (1 - distr.cdf(abs(z_value))) * 2 \n",
    "    print(f'p-значение: {p_value}')\n",
    "    if (p_value < alpha):\n",
    "        print(\"Отвергаем нулевую гипотезу: между долями есть значимая разница\")\n",
    "    else:\n",
    "        print(\"Не получилось отвергнуть нулевую гипотезу, нет оснований считать доли разными\")\n",
    "        \n",
    "        \n",
    "    "
   ]
  },
  {
   "cell_type": "markdown",
   "id": "bdd01702",
   "metadata": {},
   "source": [
    "Во всех наших экспериментах мы сравниваем нулевую гипотезу Н0 - доли в обеих группах одинаковы. И альтернативную гипотезу Н1 - доли в сравниваемых группах отличаются"
   ]
  },
  {
   "cell_type": "markdown",
   "id": "f2ac5764",
   "metadata": {},
   "source": [
    "mains screen"
   ]
  },
  {
   "cell_type": "code",
   "execution_count": 44,
   "id": "6862c89e",
   "metadata": {
    "scrolled": true
   },
   "outputs": [
    {
     "name": "stdout",
     "output_type": "stream",
     "text": [
      "p-значение: 0.7570597232046099\n",
      "Не получилось отвергнуть нулевую гипотезу, нет оснований считать доли разными\n"
     ]
    }
   ],
   "source": [
    "testing(suc_246[0], suc_247[0], trials[0], trials[1])"
   ]
  },
  {
   "cell_type": "markdown",
   "id": "fbfd8876",
   "metadata": {},
   "source": [
    "offer screen"
   ]
  },
  {
   "cell_type": "code",
   "execution_count": 45,
   "id": "c9043361",
   "metadata": {},
   "outputs": [
    {
     "name": "stdout",
     "output_type": "stream",
     "text": [
      "p-значение: 0.2480954578522181\n",
      "Не получилось отвергнуть нулевую гипотезу, нет оснований считать доли разными\n"
     ]
    }
   ],
   "source": [
    "testing(suc_246[1], suc_247[1], trials[0], trials[1])"
   ]
  },
  {
   "cell_type": "markdown",
   "id": "15a56dd3",
   "metadata": {},
   "source": [
    "Cart screen"
   ]
  },
  {
   "cell_type": "code",
   "execution_count": 46,
   "id": "2807fc4b",
   "metadata": {},
   "outputs": [
    {
     "name": "stdout",
     "output_type": "stream",
     "text": [
      "p-значение: 0.22883372237997213\n",
      "Не получилось отвергнуть нулевую гипотезу, нет оснований считать доли разными\n"
     ]
    }
   ],
   "source": [
    "testing(suc_246[2], suc_247[2], trials[0], trials[1])"
   ]
  },
  {
   "cell_type": "markdown",
   "id": "fcccaca7",
   "metadata": {},
   "source": [
    "Payment screen"
   ]
  },
  {
   "cell_type": "code",
   "execution_count": 47,
   "id": "62a2fab2",
   "metadata": {},
   "outputs": [
    {
     "name": "stdout",
     "output_type": "stream",
     "text": [
      "p-значение: 0.11456679313141849\n",
      "Не получилось отвергнуть нулевую гипотезу, нет оснований считать доли разными\n"
     ]
    }
   ],
   "source": [
    "testing(suc_246[3], suc_247[3], trials[0], trials[1])"
   ]
  },
  {
   "cell_type": "markdown",
   "id": "497bd661",
   "metadata": {},
   "source": [
    "#### Результаты статистически не значимы, разбиение работает корректно."
   ]
  },
  {
   "cell_type": "code",
   "execution_count": 48,
   "id": "171feb7d",
   "metadata": {},
   "outputs": [],
   "source": [
    "group_248 = df_n[df_n['group']==248]\n",
    "trials.append(group_248['device_id'].nunique())"
   ]
  },
  {
   "cell_type": "code",
   "execution_count": 49,
   "id": "e765b354",
   "metadata": {},
   "outputs": [
    {
     "name": "stdout",
     "output_type": "stream",
     "text": [
      "В 248 группе 2493 пользователей открыли главный экран\n",
      "Это 98.27 % от общего числа пользователей в группе\n"
     ]
    }
   ],
   "source": [
    "group_248_uniq_by_step = group_248.groupby('event_name').agg({'device_id': 'nunique'}).sort_values(by='device_id', ascending=False)\n",
    "suc_248 = list(group_248_uniq_by_step['device_id'])\n",
    "print(f'В 248 группе {suc_248[0]} пользователей открыли главный экран')\n",
    "print(f'Это {round((suc_248[0]/trials[2])*100, 2)} % от общего числа пользователей в группе')"
   ]
  },
  {
   "cell_type": "markdown",
   "id": "d1cab153",
   "metadata": {},
   "source": [
    "main screen"
   ]
  },
  {
   "cell_type": "code",
   "execution_count": 50,
   "id": "f412e144",
   "metadata": {},
   "outputs": [
    {
     "name": "stdout",
     "output_type": "stream",
     "text": [
      "p-значение: 0.2949721933554552\n",
      "Не получилось отвергнуть нулевую гипотезу, нет оснований считать доли разными\n"
     ]
    }
   ],
   "source": [
    "testing(suc_246[0], suc_248[0], trials[0], trials[2])"
   ]
  },
  {
   "cell_type": "markdown",
   "id": "e1fae96e",
   "metadata": {},
   "source": [
    "offer screen"
   ]
  },
  {
   "cell_type": "code",
   "execution_count": 51,
   "id": "ee5bc32b",
   "metadata": {},
   "outputs": [
    {
     "name": "stdout",
     "output_type": "stream",
     "text": [
      "p-значение: 0.20836205402738917\n",
      "Не получилось отвергнуть нулевую гипотезу, нет оснований считать доли разными\n"
     ]
    }
   ],
   "source": [
    "testing(suc_246[1], suc_248[1], trials[0], trials[2])"
   ]
  },
  {
   "cell_type": "markdown",
   "id": "a779933c",
   "metadata": {},
   "source": [
    "cart screen"
   ]
  },
  {
   "cell_type": "code",
   "execution_count": 52,
   "id": "4c7c0fcf",
   "metadata": {
    "scrolled": true
   },
   "outputs": [
    {
     "name": "stdout",
     "output_type": "stream",
     "text": [
      "p-значение: 0.07842923237520116\n",
      "Не получилось отвергнуть нулевую гипотезу, нет оснований считать доли разными\n"
     ]
    }
   ],
   "source": [
    "testing(suc_246[2], suc_248[2], trials[0], trials[2])"
   ]
  },
  {
   "cell_type": "markdown",
   "id": "57a0af64",
   "metadata": {},
   "source": [
    "payment screen"
   ]
  },
  {
   "cell_type": "code",
   "execution_count": 53,
   "id": "413c8026",
   "metadata": {
    "scrolled": true
   },
   "outputs": [
    {
     "name": "stdout",
     "output_type": "stream",
     "text": [
      "p-значение: 0.2122553275697796\n",
      "Не получилось отвергнуть нулевую гипотезу, нет оснований считать доли разными\n"
     ]
    }
   ],
   "source": [
    "testing(suc_246[3], suc_248[3], trials[0], trials[2])"
   ]
  },
  {
   "cell_type": "markdown",
   "id": "ae5b01c7",
   "metadata": {},
   "source": [
    "#### Между 246 и 248 разницы нет"
   ]
  },
  {
   "cell_type": "markdown",
   "id": "f52e268a",
   "metadata": {},
   "source": [
    "### Сравним группы 247 и 248"
   ]
  },
  {
   "cell_type": "markdown",
   "id": "bac1ad06",
   "metadata": {},
   "source": [
    "main screen"
   ]
  },
  {
   "cell_type": "code",
   "execution_count": 54,
   "id": "0d06c9b6",
   "metadata": {},
   "outputs": [
    {
     "name": "stdout",
     "output_type": "stream",
     "text": [
      "p-значение: 0.05661336589860122\n",
      "Не получилось отвергнуть нулевую гипотезу, нет оснований считать доли разными\n"
     ]
    }
   ],
   "source": [
    "testing(suc_246[0], suc_248[0], trials[1], trials[2])"
   ]
  },
  {
   "cell_type": "markdown",
   "id": "eddaace4",
   "metadata": {},
   "source": [
    "offer screen"
   ]
  },
  {
   "cell_type": "code",
   "execution_count": 55,
   "id": "1226941b",
   "metadata": {},
   "outputs": [
    {
     "name": "stdout",
     "output_type": "stream",
     "text": [
      "p-значение: 0.46038693051414503\n",
      "Не получилось отвергнуть нулевую гипотезу, нет оснований считать доли разными\n"
     ]
    }
   ],
   "source": [
    "testing(suc_246[1], suc_248[1], trials[1], trials[2])"
   ]
  },
  {
   "cell_type": "markdown",
   "id": "e6f016d4",
   "metadata": {},
   "source": [
    "cart screen"
   ]
  },
  {
   "cell_type": "code",
   "execution_count": 56,
   "id": "c4fae61a",
   "metadata": {},
   "outputs": [
    {
     "name": "stdout",
     "output_type": "stream",
     "text": [
      "p-значение: 0.17793756017873896\n",
      "Не получилось отвергнуть нулевую гипотезу, нет оснований считать доли разными\n"
     ]
    }
   ],
   "source": [
    "testing(suc_246[2], suc_248[2], trials[1], trials[2])"
   ]
  },
  {
   "cell_type": "markdown",
   "id": "4864d010",
   "metadata": {},
   "source": [
    "payment screen"
   ]
  },
  {
   "cell_type": "code",
   "execution_count": 57,
   "id": "68bcef68",
   "metadata": {},
   "outputs": [
    {
     "name": "stdout",
     "output_type": "stream",
     "text": [
      "p-значение: 0.3927720688492329\n",
      "Не получилось отвергнуть нулевую гипотезу, нет оснований считать доли разными\n"
     ]
    }
   ],
   "source": [
    "testing(suc_246[3], suc_248[3], trials[1], trials[2])"
   ]
  },
  {
   "cell_type": "markdown",
   "id": "6c3a0e22",
   "metadata": {},
   "source": [
    "#### Между 247 и 248 разницы нет"
   ]
  },
  {
   "cell_type": "markdown",
   "id": "746c1b2d",
   "metadata": {},
   "source": [
    "### Сравним с объединённой 246 и 247 с 248"
   ]
  },
  {
   "cell_type": "code",
   "execution_count": 58,
   "id": "3dcb08ce",
   "metadata": {},
   "outputs": [],
   "source": [
    "groups = [246,247]\n",
    "group_d = df_n[df_n['group'].isin(groups)]"
   ]
  },
  {
   "cell_type": "code",
   "execution_count": 59,
   "id": "08ba2fad",
   "metadata": {},
   "outputs": [],
   "source": [
    "trials.append(group_d['device_id'].nunique())"
   ]
  },
  {
   "cell_type": "code",
   "execution_count": 60,
   "id": "e22585fc",
   "metadata": {},
   "outputs": [
    {
     "name": "stdout",
     "output_type": "stream",
     "text": [
      "В объединённой группе 4926 пользователей открыли главный экран\n",
      "Это 98.58 % от общего числа пользователей в группе\n"
     ]
    }
   ],
   "source": [
    "group_d_uniq_by_step = group_d.groupby('event_name').agg({'device_id': 'nunique'}).sort_values(by='device_id', ascending=False)\n",
    "suc_d = list(group_d_uniq_by_step['device_id'])\n",
    "print(f'В объединённой группе {suc_d[0]} пользователей открыли главный экран')\n",
    "print(f'Это {round((suc_d[0]/trials[3])*100, 2)} % от общего числа пользователей в группе')"
   ]
  },
  {
   "cell_type": "markdown",
   "id": "ba5f522a",
   "metadata": {},
   "source": [
    "main screen"
   ]
  },
  {
   "cell_type": "code",
   "execution_count": 61,
   "id": "6646afc2",
   "metadata": {},
   "outputs": [
    {
     "name": "stdout",
     "output_type": "stream",
     "text": [
      "p-значение: 0.29424526837179577\n",
      "Не получилось отвергнуть нулевую гипотезу, нет оснований считать доли разными\n"
     ]
    }
   ],
   "source": [
    "testing(suc_d[0], suc_248[0], trials[3], trials[2])"
   ]
  },
  {
   "cell_type": "markdown",
   "id": "f4fb762a",
   "metadata": {},
   "source": [
    "offer screen"
   ]
  },
  {
   "cell_type": "code",
   "execution_count": 62,
   "id": "f37a62ea",
   "metadata": {},
   "outputs": [
    {
     "name": "stdout",
     "output_type": "stream",
     "text": [
      "p-значение: 0.43425549655188256\n",
      "Не получилось отвергнуть нулевую гипотезу, нет оснований считать доли разными\n"
     ]
    }
   ],
   "source": [
    "testing(suc_d[1], suc_248[1], trials[3], trials[2])"
   ]
  },
  {
   "cell_type": "markdown",
   "id": "4ed876cf",
   "metadata": {},
   "source": [
    "cart screen"
   ]
  },
  {
   "cell_type": "code",
   "execution_count": 63,
   "id": "8b948774",
   "metadata": {},
   "outputs": [
    {
     "name": "stdout",
     "output_type": "stream",
     "text": [
      "p-значение: 0.18175875284404386\n",
      "Не получилось отвергнуть нулевую гипотезу, нет оснований считать доли разными\n"
     ]
    }
   ],
   "source": [
    "testing(suc_d[2], suc_248[2], trials[3], trials[2])"
   ]
  },
  {
   "cell_type": "markdown",
   "id": "5f67f909",
   "metadata": {},
   "source": [
    "payment screen"
   ]
  },
  {
   "cell_type": "code",
   "execution_count": 64,
   "id": "6431091b",
   "metadata": {},
   "outputs": [
    {
     "name": "stdout",
     "output_type": "stream",
     "text": [
      "p-значение: 0.6004294282308704\n",
      "Не получилось отвергнуть нулевую гипотезу, нет оснований считать доли разными\n"
     ]
    }
   ],
   "source": [
    "testing(suc_d[3], suc_248[3], trials[3], trials[2])"
   ]
  },
  {
   "cell_type": "markdown",
   "id": "1d7c174e",
   "metadata": {},
   "source": [
    "#### Сравнение результатов c объединенной контрольной группой также не показало значимой разницы."
   ]
  },
  {
   "cell_type": "markdown",
   "id": "ecf90204",
   "metadata": {},
   "source": [
    "Мы проводим множественный тест, т.е. берем несколько выборок из одного и того же набора данных, в нашем случае по 4 для сравнения каждой из групп. С каждой новой проверкой гипотезы растёт вероятность ошибки первого рода. Поэтому мы должны скорректировать наши конечные p_value для сравнения их значений с alpha (в этом нет необходимости, т.к. ни по одному из проведенных сравнений не обнаружилось статзначимых различий)\n",
    "\n",
    "Если бы был смысл применять поправку на множественные сравнения то я бы выбрал метод Шидака - он наиболее точен. И в нашем случае alpha была бы рассчитана как 1 - (1 - 0.05)^(1/4) = 0.0127"
   ]
  },
  {
   "cell_type": "markdown",
   "id": "c99dbeb0",
   "metadata": {},
   "source": [
    "### Вывод\n",
    "Анализируя гистограмму по дате и времени, мы приняли решение отбросить неполные данные и оставить только период с 2019-08-01.\n",
    "\n",
    "При исследовании воронки событий мы выяснили, что от первого события до оплаты доходит меньше половины пользователей 47,7%.\n",
    "Только 98,5% всех пользователей хотя бы раз открывали главную страницу приложения (возможно оставшиеся пользователи не смогли попасть на главную страницу из-за ошибок/некорректной работы приложения).\n",
    "Только 4593 пользователей хотя бы раз открывали страницу с каталогом товаров (38% пользователей не увидели даже каталог товаров необходимо выяснить причину, возможно приложение не на всех устройствах работает корректно).\n",
    "\n",
    "Мы провели 16 проверок статистических гипотез с уровнем значимости 0.05 (12 из них проверяли разницу между контрольными группами и группой с изменённым шрифтом) и ни одна из них не выявила значимой разницы.\n",
    "\n",
    "При уровне значимости 0.1 каждый десятый раз можно получать ложный результат, поэтому стоит применить изначально выбранный нами уровень значимости 0.05.\n",
    "\n",
    "Исходя из результатов данного A/A/B-эксперимента, мы можем судить, что на поведение пользователей изменение шрифта значимого эффекта не оказало. Что можно считать успехом, т.к. целью было узнать не отпугнут ли изменения пользователей. В то же время учитывая результаты эксперимента, если изменение шрифта не продиктовано проблемами в работе приложения, его можно не менять."
   ]
  }
 ],
 "metadata": {
  "ExecuteTimeLog": [
   {
    "duration": 113,
    "start_time": "2023-02-25T09:12:11.729Z"
   },
   {
    "duration": 1149,
    "start_time": "2023-02-26T03:30:41.624Z"
   },
   {
    "duration": 820,
    "start_time": "2023-02-26T03:30:42.775Z"
   },
   {
    "duration": 12,
    "start_time": "2023-02-26T03:30:43.597Z"
   },
   {
    "duration": 9,
    "start_time": "2023-02-26T03:30:43.612Z"
   },
   {
    "duration": 22,
    "start_time": "2023-02-26T03:30:43.623Z"
   },
   {
    "duration": 79,
    "start_time": "2023-02-26T03:30:43.646Z"
   },
   {
    "duration": 12,
    "start_time": "2023-02-26T03:30:43.727Z"
   },
   {
    "duration": 100,
    "start_time": "2023-02-26T03:30:43.740Z"
   },
   {
    "duration": 111,
    "start_time": "2023-02-26T03:30:43.842Z"
   },
   {
    "duration": 11,
    "start_time": "2023-02-26T03:30:43.956Z"
   },
   {
    "duration": 18,
    "start_time": "2023-02-26T03:30:43.968Z"
   },
   {
    "duration": 15,
    "start_time": "2023-02-26T03:30:43.988Z"
   },
   {
    "duration": 14,
    "start_time": "2023-02-26T03:30:44.005Z"
   },
   {
    "duration": 31,
    "start_time": "2023-02-26T03:30:44.021Z"
   },
   {
    "duration": 278,
    "start_time": "2023-02-26T03:30:44.054Z"
   },
   {
    "duration": 15,
    "start_time": "2023-02-26T03:30:44.333Z"
   },
   {
    "duration": 196,
    "start_time": "2023-02-26T03:30:44.349Z"
   },
   {
    "duration": 24,
    "start_time": "2023-02-26T03:30:44.546Z"
   },
   {
    "duration": 37,
    "start_time": "2023-02-26T03:30:44.572Z"
   },
   {
    "duration": 26,
    "start_time": "2023-02-26T03:30:44.611Z"
   },
   {
    "duration": 10,
    "start_time": "2023-02-26T03:30:44.639Z"
   },
   {
    "duration": 18,
    "start_time": "2023-02-26T03:30:44.651Z"
   },
   {
    "duration": 18,
    "start_time": "2023-02-26T03:30:44.670Z"
   },
   {
    "duration": 38,
    "start_time": "2023-02-26T03:30:44.689Z"
   },
   {
    "duration": 20,
    "start_time": "2023-02-26T03:30:44.728Z"
   },
   {
    "duration": 6,
    "start_time": "2023-02-26T03:30:44.749Z"
   },
   {
    "duration": 66,
    "start_time": "2023-02-26T03:30:44.756Z"
   },
   {
    "duration": 11,
    "start_time": "2023-02-26T03:30:44.826Z"
   },
   {
    "duration": 3,
    "start_time": "2023-02-26T03:30:44.839Z"
   },
   {
    "duration": 8,
    "start_time": "2023-02-26T03:30:44.843Z"
   },
   {
    "duration": 7,
    "start_time": "2023-02-26T03:30:44.853Z"
   },
   {
    "duration": 5,
    "start_time": "2023-02-26T03:30:44.861Z"
   },
   {
    "duration": 7,
    "start_time": "2023-02-26T03:30:44.886Z"
   },
   {
    "duration": 30,
    "start_time": "2023-02-26T03:30:44.894Z"
   },
   {
    "duration": 11,
    "start_time": "2023-02-26T03:30:44.926Z"
   },
   {
    "duration": 36,
    "start_time": "2023-02-26T03:30:44.938Z"
   },
   {
    "duration": 16,
    "start_time": "2023-02-26T03:30:44.975Z"
   },
   {
    "duration": 26,
    "start_time": "2023-02-26T03:30:44.992Z"
   },
   {
    "duration": 25,
    "start_time": "2023-02-26T03:30:45.019Z"
   },
   {
    "duration": 4,
    "start_time": "2023-02-26T03:30:45.046Z"
   },
   {
    "duration": 15,
    "start_time": "2023-02-26T03:30:45.052Z"
   },
   {
    "duration": 12,
    "start_time": "2023-02-26T03:30:45.068Z"
   },
   {
    "duration": 11,
    "start_time": "2023-02-26T03:30:45.082Z"
   },
   {
    "duration": 7,
    "start_time": "2023-02-26T03:30:45.094Z"
   },
   {
    "duration": 17,
    "start_time": "2023-02-26T03:30:45.102Z"
   },
   {
    "duration": 19,
    "start_time": "2023-02-26T03:30:45.120Z"
   },
   {
    "duration": 13,
    "start_time": "2023-02-26T03:30:45.141Z"
   },
   {
    "duration": 8,
    "start_time": "2023-02-26T03:30:45.156Z"
   },
   {
    "duration": 8,
    "start_time": "2023-02-26T03:30:45.168Z"
   },
   {
    "duration": 4,
    "start_time": "2023-02-26T03:30:45.185Z"
   },
   {
    "duration": 19,
    "start_time": "2023-02-26T03:30:45.191Z"
   },
   {
    "duration": 7,
    "start_time": "2023-02-26T03:30:45.211Z"
   },
   {
    "duration": 7,
    "start_time": "2023-02-26T03:30:45.220Z"
   },
   {
    "duration": 11,
    "start_time": "2023-02-26T03:30:45.229Z"
   },
   {
    "duration": 24,
    "start_time": "2023-02-26T03:30:45.242Z"
   },
   {
    "duration": 6,
    "start_time": "2023-02-26T03:30:45.268Z"
   },
   {
    "duration": 43,
    "start_time": "2023-02-26T03:30:45.275Z"
   },
   {
    "duration": 4,
    "start_time": "2023-02-26T03:30:45.320Z"
   },
   {
    "duration": 14,
    "start_time": "2023-02-26T03:30:45.326Z"
   },
   {
    "duration": 8,
    "start_time": "2023-02-26T03:30:45.341Z"
   },
   {
    "duration": 22,
    "start_time": "2023-02-26T03:30:45.350Z"
   },
   {
    "duration": 22,
    "start_time": "2023-02-26T03:31:07.726Z"
   },
   {
    "duration": 6,
    "start_time": "2023-02-26T03:31:24.026Z"
   },
   {
    "duration": 91,
    "start_time": "2023-02-26T03:58:16.716Z"
   },
   {
    "duration": 15,
    "start_time": "2023-02-26T03:58:45.433Z"
   },
   {
    "duration": 50,
    "start_time": "2023-02-26T03:58:52.385Z"
   },
   {
    "duration": 39,
    "start_time": "2023-02-26T03:58:57.921Z"
   },
   {
    "duration": 1138,
    "start_time": "2023-02-26T06:54:29.349Z"
   },
   {
    "duration": 743,
    "start_time": "2023-02-26T06:54:30.491Z"
   },
   {
    "duration": 16,
    "start_time": "2023-02-26T06:54:31.235Z"
   },
   {
    "duration": 27,
    "start_time": "2023-02-26T06:54:31.254Z"
   },
   {
    "duration": 44,
    "start_time": "2023-02-26T06:54:31.283Z"
   },
   {
    "duration": 90,
    "start_time": "2023-02-26T06:54:31.329Z"
   },
   {
    "duration": 12,
    "start_time": "2023-02-26T06:54:31.421Z"
   },
   {
    "duration": 128,
    "start_time": "2023-02-26T06:54:31.434Z"
   },
   {
    "duration": 107,
    "start_time": "2023-02-26T06:54:31.563Z"
   },
   {
    "duration": 21,
    "start_time": "2023-02-26T06:54:31.672Z"
   },
   {
    "duration": 32,
    "start_time": "2023-02-26T06:54:31.695Z"
   },
   {
    "duration": 27,
    "start_time": "2023-02-26T06:54:31.728Z"
   },
   {
    "duration": 17,
    "start_time": "2023-02-26T06:54:31.757Z"
   },
   {
    "duration": 21,
    "start_time": "2023-02-26T06:54:31.776Z"
   },
   {
    "duration": 300,
    "start_time": "2023-02-26T06:54:31.798Z"
   },
   {
    "duration": 16,
    "start_time": "2023-02-26T06:54:32.100Z"
   },
   {
    "duration": 215,
    "start_time": "2023-02-26T06:54:32.118Z"
   },
   {
    "duration": 28,
    "start_time": "2023-02-26T06:54:32.335Z"
   },
   {
    "duration": 29,
    "start_time": "2023-02-26T06:54:32.364Z"
   },
   {
    "duration": 29,
    "start_time": "2023-02-26T06:54:32.394Z"
   },
   {
    "duration": 11,
    "start_time": "2023-02-26T06:54:32.424Z"
   },
   {
    "duration": 12,
    "start_time": "2023-02-26T06:54:32.436Z"
   },
   {
    "duration": 6,
    "start_time": "2023-02-26T06:54:32.450Z"
   },
   {
    "duration": 29,
    "start_time": "2023-02-26T06:54:32.493Z"
   },
   {
    "duration": 21,
    "start_time": "2023-02-26T06:54:32.523Z"
   },
   {
    "duration": 5,
    "start_time": "2023-02-26T06:54:32.545Z"
   },
   {
    "duration": 69,
    "start_time": "2023-02-26T06:54:32.552Z"
   },
   {
    "duration": 11,
    "start_time": "2023-02-26T06:54:32.624Z"
   },
   {
    "duration": 3,
    "start_time": "2023-02-26T06:54:32.636Z"
   },
   {
    "duration": 9,
    "start_time": "2023-02-26T06:54:32.641Z"
   },
   {
    "duration": 6,
    "start_time": "2023-02-26T06:54:32.651Z"
   },
   {
    "duration": 7,
    "start_time": "2023-02-26T06:54:32.658Z"
   },
   {
    "duration": 5,
    "start_time": "2023-02-26T06:54:32.691Z"
   },
   {
    "duration": 10,
    "start_time": "2023-02-26T06:54:32.697Z"
   },
   {
    "duration": 6,
    "start_time": "2023-02-26T06:54:32.708Z"
   },
   {
    "duration": 41,
    "start_time": "2023-02-26T06:54:32.716Z"
   },
   {
    "duration": 4,
    "start_time": "2023-02-26T06:54:32.758Z"
   },
   {
    "duration": 42,
    "start_time": "2023-02-26T06:54:32.764Z"
   },
   {
    "duration": 24,
    "start_time": "2023-02-26T06:54:32.808Z"
   },
   {
    "duration": 18,
    "start_time": "2023-02-26T06:54:32.834Z"
   },
   {
    "duration": 5,
    "start_time": "2023-02-26T06:54:32.853Z"
   },
   {
    "duration": 12,
    "start_time": "2023-02-26T06:54:32.859Z"
   },
   {
    "duration": 24,
    "start_time": "2023-02-26T06:54:32.872Z"
   },
   {
    "duration": 8,
    "start_time": "2023-02-26T06:54:32.897Z"
   },
   {
    "duration": 8,
    "start_time": "2023-02-26T06:54:32.907Z"
   },
   {
    "duration": 13,
    "start_time": "2023-02-26T06:54:32.916Z"
   },
   {
    "duration": 30,
    "start_time": "2023-02-26T06:54:32.931Z"
   },
   {
    "duration": 3,
    "start_time": "2023-02-26T06:54:32.963Z"
   },
   {
    "duration": 9,
    "start_time": "2023-02-26T06:54:32.968Z"
   },
   {
    "duration": 5,
    "start_time": "2023-02-26T06:54:32.991Z"
   },
   {
    "duration": 7,
    "start_time": "2023-02-26T06:54:32.998Z"
   },
   {
    "duration": 7,
    "start_time": "2023-02-26T06:54:33.007Z"
   },
   {
    "duration": 9,
    "start_time": "2023-02-26T06:54:33.015Z"
   },
   {
    "duration": 6,
    "start_time": "2023-02-26T06:54:33.026Z"
   },
   {
    "duration": 7,
    "start_time": "2023-02-26T06:54:33.033Z"
   },
   {
    "duration": 17,
    "start_time": "2023-02-26T06:54:33.042Z"
   },
   {
    "duration": 31,
    "start_time": "2023-02-26T06:54:33.061Z"
   },
   {
    "duration": 33,
    "start_time": "2023-02-26T06:54:33.094Z"
   },
   {
    "duration": 4,
    "start_time": "2023-02-26T06:54:33.128Z"
   },
   {
    "duration": 7,
    "start_time": "2023-02-26T06:54:33.133Z"
   },
   {
    "duration": 6,
    "start_time": "2023-02-26T06:54:33.142Z"
   },
   {
    "duration": 5,
    "start_time": "2023-02-26T06:54:33.150Z"
   },
   {
    "duration": 5,
    "start_time": "2023-02-26T06:55:19.432Z"
   },
   {
    "duration": 50,
    "start_time": "2023-02-26T06:55:58.951Z"
   },
   {
    "duration": 40,
    "start_time": "2023-02-26T06:56:11.314Z"
   },
   {
    "duration": 14,
    "start_time": "2023-02-26T06:57:00.472Z"
   },
   {
    "duration": 36,
    "start_time": "2023-02-26T06:57:10.515Z"
   },
   {
    "duration": 36,
    "start_time": "2023-02-26T06:57:37.504Z"
   },
   {
    "duration": 40,
    "start_time": "2023-02-26T06:57:44.063Z"
   },
   {
    "duration": 45,
    "start_time": "2023-02-26T06:58:01.022Z"
   },
   {
    "duration": 151,
    "start_time": "2023-02-26T06:58:24.810Z"
   },
   {
    "duration": 39,
    "start_time": "2023-02-26T06:58:40.705Z"
   },
   {
    "duration": 35,
    "start_time": "2023-02-26T06:59:17.865Z"
   },
   {
    "duration": 8,
    "start_time": "2023-02-26T06:59:21.706Z"
   },
   {
    "duration": 6,
    "start_time": "2023-02-26T06:59:42.824Z"
   },
   {
    "duration": 1099,
    "start_time": "2023-05-06T16:18:24.728Z"
   },
   {
    "duration": 595,
    "start_time": "2023-05-06T16:18:25.829Z"
   },
   {
    "duration": 19,
    "start_time": "2023-05-06T16:18:26.427Z"
   },
   {
    "duration": 11,
    "start_time": "2023-05-06T16:18:26.449Z"
   },
   {
    "duration": 21,
    "start_time": "2023-05-06T16:18:26.462Z"
   },
   {
    "duration": 117,
    "start_time": "2023-05-06T16:18:26.485Z"
   },
   {
    "duration": 20,
    "start_time": "2023-05-06T16:18:26.604Z"
   },
   {
    "duration": 139,
    "start_time": "2023-05-06T16:18:26.626Z"
   },
   {
    "duration": 129,
    "start_time": "2023-05-06T16:18:26.767Z"
   },
   {
    "duration": 13,
    "start_time": "2023-05-06T16:18:26.900Z"
   },
   {
    "duration": 27,
    "start_time": "2023-05-06T16:18:26.915Z"
   },
   {
    "duration": 20,
    "start_time": "2023-05-06T16:18:26.944Z"
   },
   {
    "duration": 16,
    "start_time": "2023-05-06T16:18:26.966Z"
   },
   {
    "duration": 19,
    "start_time": "2023-05-06T16:18:26.983Z"
   },
   {
    "duration": 339,
    "start_time": "2023-05-06T16:18:27.004Z"
   },
   {
    "duration": 15,
    "start_time": "2023-05-06T16:18:27.345Z"
   },
   {
    "duration": 236,
    "start_time": "2023-05-06T16:18:27.361Z"
   },
   {
    "duration": 27,
    "start_time": "2023-05-06T16:18:27.599Z"
   },
   {
    "duration": 20,
    "start_time": "2023-05-06T16:18:27.640Z"
   },
   {
    "duration": 28,
    "start_time": "2023-05-06T16:18:27.662Z"
   },
   {
    "duration": 11,
    "start_time": "2023-05-06T16:18:27.692Z"
   },
   {
    "duration": 48,
    "start_time": "2023-05-06T16:18:27.705Z"
   },
   {
    "duration": 7,
    "start_time": "2023-05-06T16:18:27.755Z"
   },
   {
    "duration": 35,
    "start_time": "2023-05-06T16:18:27.764Z"
   },
   {
    "duration": 55,
    "start_time": "2023-05-06T16:18:27.800Z"
   },
   {
    "duration": 6,
    "start_time": "2023-05-06T16:18:27.857Z"
   },
   {
    "duration": 59,
    "start_time": "2023-05-06T16:18:27.865Z"
   },
   {
    "duration": 15,
    "start_time": "2023-05-06T16:18:27.940Z"
   },
   {
    "duration": 4,
    "start_time": "2023-05-06T16:18:27.957Z"
   },
   {
    "duration": 14,
    "start_time": "2023-05-06T16:18:27.962Z"
   },
   {
    "duration": 5,
    "start_time": "2023-05-06T16:18:27.977Z"
   },
   {
    "duration": 9,
    "start_time": "2023-05-06T16:18:27.984Z"
   },
   {
    "duration": 7,
    "start_time": "2023-05-06T16:18:27.995Z"
   },
   {
    "duration": 13,
    "start_time": "2023-05-06T16:18:28.004Z"
   },
   {
    "duration": 5,
    "start_time": "2023-05-06T16:18:28.042Z"
   },
   {
    "duration": 59,
    "start_time": "2023-05-06T16:18:28.049Z"
   },
   {
    "duration": 52,
    "start_time": "2023-05-06T16:18:28.110Z"
   },
   {
    "duration": 8,
    "start_time": "2023-05-06T16:18:28.164Z"
   },
   {
    "duration": 30,
    "start_time": "2023-05-06T16:18:28.174Z"
   },
   {
    "duration": 36,
    "start_time": "2023-05-06T16:18:28.206Z"
   },
   {
    "duration": 31,
    "start_time": "2023-05-06T16:18:28.245Z"
   },
   {
    "duration": 5,
    "start_time": "2023-05-06T16:18:28.278Z"
   },
   {
    "duration": 9,
    "start_time": "2023-05-06T16:18:28.285Z"
   },
   {
    "duration": 9,
    "start_time": "2023-05-06T16:18:28.296Z"
   },
   {
    "duration": 34,
    "start_time": "2023-05-06T16:18:28.307Z"
   },
   {
    "duration": 7,
    "start_time": "2023-05-06T16:18:28.343Z"
   },
   {
    "duration": 15,
    "start_time": "2023-05-06T16:18:28.352Z"
   },
   {
    "duration": 27,
    "start_time": "2023-05-06T16:18:28.369Z"
   },
   {
    "duration": 5,
    "start_time": "2023-05-06T16:18:28.398Z"
   },
   {
    "duration": 8,
    "start_time": "2023-05-06T16:18:28.404Z"
   },
   {
    "duration": 28,
    "start_time": "2023-05-06T16:18:28.414Z"
   },
   {
    "duration": 7,
    "start_time": "2023-05-06T16:18:28.444Z"
   },
   {
    "duration": 7,
    "start_time": "2023-05-06T16:18:28.453Z"
   },
   {
    "duration": 10,
    "start_time": "2023-05-06T16:18:28.461Z"
   },
   {
    "duration": 8,
    "start_time": "2023-05-06T16:18:28.473Z"
   },
   {
    "duration": 7,
    "start_time": "2023-05-06T16:18:28.483Z"
   },
   {
    "duration": 18,
    "start_time": "2023-05-06T16:18:28.491Z"
   },
   {
    "duration": 37,
    "start_time": "2023-05-06T16:18:28.511Z"
   },
   {
    "duration": 39,
    "start_time": "2023-05-06T16:18:28.550Z"
   },
   {
    "duration": 5,
    "start_time": "2023-05-06T16:18:28.591Z"
   },
   {
    "duration": 8,
    "start_time": "2023-05-06T16:18:28.597Z"
   },
   {
    "duration": 35,
    "start_time": "2023-05-06T16:18:28.607Z"
   },
   {
    "duration": 11,
    "start_time": "2023-05-06T16:18:28.644Z"
   },
   {
    "duration": 72,
    "start_time": "2023-05-18T10:48:14.402Z"
   },
   {
    "duration": 1048,
    "start_time": "2023-05-18T10:48:19.982Z"
   },
   {
    "duration": 888,
    "start_time": "2023-05-18T10:48:21.032Z"
   },
   {
    "duration": 16,
    "start_time": "2023-05-18T10:48:21.921Z"
   },
   {
    "duration": 18,
    "start_time": "2023-05-18T10:48:21.940Z"
   },
   {
    "duration": 25,
    "start_time": "2023-05-18T10:48:21.968Z"
   },
   {
    "duration": 93,
    "start_time": "2023-05-18T10:48:21.995Z"
   },
   {
    "duration": 17,
    "start_time": "2023-05-18T10:48:22.090Z"
   },
   {
    "duration": 126,
    "start_time": "2023-05-18T10:48:22.109Z"
   },
   {
    "duration": 132,
    "start_time": "2023-05-18T10:48:22.237Z"
   },
   {
    "duration": 19,
    "start_time": "2023-05-18T10:48:22.375Z"
   },
   {
    "duration": 24,
    "start_time": "2023-05-18T10:48:22.396Z"
   },
   {
    "duration": 44,
    "start_time": "2023-05-18T10:48:22.422Z"
   },
   {
    "duration": 18,
    "start_time": "2023-05-18T10:48:22.470Z"
   },
   {
    "duration": 48,
    "start_time": "2023-05-18T10:48:22.489Z"
   },
   {
    "duration": 7,
    "start_time": "2023-05-18T10:48:22.539Z"
   },
   {
    "duration": 324,
    "start_time": "2023-05-18T10:48:22.548Z"
   },
   {
    "duration": 16,
    "start_time": "2023-05-18T10:48:22.874Z"
   },
   {
    "duration": 239,
    "start_time": "2023-05-18T10:48:22.892Z"
   },
   {
    "duration": 43,
    "start_time": "2023-05-18T10:48:23.133Z"
   },
   {
    "duration": 20,
    "start_time": "2023-05-18T10:48:23.177Z"
   },
   {
    "duration": 35,
    "start_time": "2023-05-18T10:48:23.199Z"
   },
   {
    "duration": 38,
    "start_time": "2023-05-18T10:48:23.236Z"
   },
   {
    "duration": 16,
    "start_time": "2023-05-18T10:48:23.275Z"
   },
   {
    "duration": 7,
    "start_time": "2023-05-18T10:48:23.292Z"
   },
   {
    "duration": 66,
    "start_time": "2023-05-18T10:48:23.301Z"
   },
   {
    "duration": 24,
    "start_time": "2023-05-18T10:48:23.370Z"
   },
   {
    "duration": 16,
    "start_time": "2023-05-18T10:48:23.396Z"
   },
   {
    "duration": 57,
    "start_time": "2023-05-18T10:48:23.418Z"
   },
   {
    "duration": 12,
    "start_time": "2023-05-18T10:48:23.477Z"
   },
   {
    "duration": 15,
    "start_time": "2023-05-18T10:48:23.491Z"
   },
   {
    "duration": 31,
    "start_time": "2023-05-18T10:48:23.508Z"
   },
   {
    "duration": 31,
    "start_time": "2023-05-18T10:48:23.541Z"
   },
   {
    "duration": 15,
    "start_time": "2023-05-18T10:48:23.574Z"
   },
   {
    "duration": 37,
    "start_time": "2023-05-18T10:48:23.590Z"
   },
   {
    "duration": 33,
    "start_time": "2023-05-18T10:48:23.629Z"
   },
   {
    "duration": 23,
    "start_time": "2023-05-18T10:48:23.668Z"
   },
   {
    "duration": 63,
    "start_time": "2023-05-18T10:48:23.693Z"
   },
   {
    "duration": 38,
    "start_time": "2023-05-18T10:48:23.766Z"
   },
   {
    "duration": 28,
    "start_time": "2023-05-18T10:48:23.806Z"
   },
   {
    "duration": 34,
    "start_time": "2023-05-18T10:48:23.836Z"
   },
   {
    "duration": 33,
    "start_time": "2023-05-18T10:48:23.873Z"
   },
   {
    "duration": 21,
    "start_time": "2023-05-18T10:48:23.908Z"
   },
   {
    "duration": 6,
    "start_time": "2023-05-18T10:48:23.931Z"
   },
   {
    "duration": 31,
    "start_time": "2023-05-18T10:48:23.938Z"
   },
   {
    "duration": 22,
    "start_time": "2023-05-18T10:48:23.970Z"
   },
   {
    "duration": 33,
    "start_time": "2023-05-18T10:48:23.994Z"
   },
   {
    "duration": 8,
    "start_time": "2023-05-18T10:48:24.029Z"
   },
   {
    "duration": 46,
    "start_time": "2023-05-18T10:48:24.039Z"
   },
   {
    "duration": 24,
    "start_time": "2023-05-18T10:48:24.087Z"
   },
   {
    "duration": 5,
    "start_time": "2023-05-18T10:48:24.113Z"
   },
   {
    "duration": 14,
    "start_time": "2023-05-18T10:48:24.120Z"
   },
   {
    "duration": 15,
    "start_time": "2023-05-18T10:48:24.136Z"
   },
   {
    "duration": 31,
    "start_time": "2023-05-18T10:48:24.153Z"
   },
   {
    "duration": 21,
    "start_time": "2023-05-18T10:48:24.186Z"
   },
   {
    "duration": 36,
    "start_time": "2023-05-18T10:48:24.209Z"
   },
   {
    "duration": 5,
    "start_time": "2023-05-18T10:48:24.247Z"
   },
   {
    "duration": 37,
    "start_time": "2023-05-18T10:48:24.254Z"
   },
   {
    "duration": 30,
    "start_time": "2023-05-18T10:48:24.293Z"
   },
   {
    "duration": 9,
    "start_time": "2023-05-18T10:48:24.325Z"
   },
   {
    "duration": 56,
    "start_time": "2023-05-18T10:48:24.336Z"
   },
   {
    "duration": 10,
    "start_time": "2023-05-18T10:48:24.394Z"
   },
   {
    "duration": 7,
    "start_time": "2023-05-18T10:48:24.406Z"
   },
   {
    "duration": 8,
    "start_time": "2023-05-18T10:48:24.415Z"
   },
   {
    "duration": 5,
    "start_time": "2023-05-18T10:48:24.425Z"
   }
  ],
  "kernelspec": {
   "display_name": "Python 3 (ipykernel)",
   "language": "python",
   "name": "python3"
  },
  "language_info": {
   "codemirror_mode": {
    "name": "ipython",
    "version": 3
   },
   "file_extension": ".py",
   "mimetype": "text/x-python",
   "name": "python",
   "nbconvert_exporter": "python",
   "pygments_lexer": "ipython3",
   "version": "3.9.5"
  },
  "toc": {
   "base_numbering": 1,
   "nav_menu": {},
   "number_sections": true,
   "sideBar": true,
   "skip_h1_title": true,
   "title_cell": "Table of Contents",
   "title_sidebar": "Contents",
   "toc_cell": false,
   "toc_position": {},
   "toc_section_display": true,
   "toc_window_display": false
  }
 },
 "nbformat": 4,
 "nbformat_minor": 5
}
