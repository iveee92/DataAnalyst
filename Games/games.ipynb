{
 "cells": [
  {
   "cell_type": "markdown",
   "id": "9f764e64",
   "metadata": {},
   "source": [
    "# Описание проекта\n",
    "Из открытых источников доступны исторические данные о продажах игр, оценки пользователей и экспертов, жанры и платформы (например, Xbox или PlayStation). Нужно выявить определяющие успешность игры закономерности. Это позволит сделать ставку на потенциально популярный продукт и спланировать рекламные кампании.\n",
    "Перед нами данные до 2016 года. Сейчас декабрь 2016 г., и мы планируем кампанию на 2017-й. Нужно отработать принцип работы с данными. Неважно, прогнозируем ли мы продажи на 2017 год по данным 2016-го или же 2027-й — по данным 2026 года.\n",
    "В наборе данных попадается аббревиатура ESRB (Entertainment Software Rating Board) — это ассоциация, определяющая возрастной рейтинг компьютерных игр. ESRB оценивает игровой контент и присваивает ему подходящую возрастную категорию, например, «Для взрослых», «Для детей младшего возраста» или «Для подростков»."
   ]
  },
  {
   "cell_type": "code",
   "execution_count": 1,
   "id": "4f83e61c",
   "metadata": {},
   "outputs": [],
   "source": [
    "import pandas as pd\n",
    "from scipy import stats as st\n",
    "import matplotlib.pyplot as plt"
   ]
  },
  {
   "cell_type": "code",
   "execution_count": 2,
   "id": "fa4dc61c",
   "metadata": {},
   "outputs": [],
   "source": [
    "try: df = pd.read_csv(r'C:\\Users\\v.ipatko\\Desktop\\Pract\\dataset\\games.csv')\n",
    "except: df = pd.read_csv('/datasets/games.csv')"
   ]
  },
  {
   "cell_type": "code",
   "execution_count": 3,
   "id": "7566408f",
   "metadata": {},
   "outputs": [
    {
     "name": "stdout",
     "output_type": "stream",
     "text": [
      "<class 'pandas.core.frame.DataFrame'>\n",
      "RangeIndex: 16715 entries, 0 to 16714\n",
      "Data columns (total 11 columns):\n",
      " #   Column           Non-Null Count  Dtype  \n",
      "---  ------           --------------  -----  \n",
      " 0   Name             16713 non-null  object \n",
      " 1   Platform         16715 non-null  object \n",
      " 2   Year_of_Release  16446 non-null  float64\n",
      " 3   Genre            16713 non-null  object \n",
      " 4   NA_sales         16715 non-null  float64\n",
      " 5   EU_sales         16715 non-null  float64\n",
      " 6   JP_sales         16715 non-null  float64\n",
      " 7   Other_sales      16715 non-null  float64\n",
      " 8   Critic_Score     8137 non-null   float64\n",
      " 9   User_Score       10014 non-null  object \n",
      " 10  Rating           9949 non-null   object \n",
      "dtypes: float64(6), object(5)\n",
      "memory usage: 1.4+ MB\n"
     ]
    }
   ],
   "source": [
    "df.info()"
   ]
  },
  {
   "cell_type": "code",
   "execution_count": 4,
   "id": "fdc7b799",
   "metadata": {},
   "outputs": [
    {
     "data": {
      "text/html": [
       "<div>\n",
       "<style scoped>\n",
       "    .dataframe tbody tr th:only-of-type {\n",
       "        vertical-align: middle;\n",
       "    }\n",
       "\n",
       "    .dataframe tbody tr th {\n",
       "        vertical-align: top;\n",
       "    }\n",
       "\n",
       "    .dataframe thead th {\n",
       "        text-align: right;\n",
       "    }\n",
       "</style>\n",
       "<table border=\"1\" class=\"dataframe\">\n",
       "  <thead>\n",
       "    <tr style=\"text-align: right;\">\n",
       "      <th></th>\n",
       "      <th>Name</th>\n",
       "      <th>Platform</th>\n",
       "      <th>Year_of_Release</th>\n",
       "      <th>Genre</th>\n",
       "      <th>NA_sales</th>\n",
       "      <th>EU_sales</th>\n",
       "      <th>JP_sales</th>\n",
       "      <th>Other_sales</th>\n",
       "      <th>Critic_Score</th>\n",
       "      <th>User_Score</th>\n",
       "      <th>Rating</th>\n",
       "    </tr>\n",
       "  </thead>\n",
       "  <tbody>\n",
       "    <tr>\n",
       "      <th>0</th>\n",
       "      <td>Wii Sports</td>\n",
       "      <td>Wii</td>\n",
       "      <td>2006.0</td>\n",
       "      <td>Sports</td>\n",
       "      <td>41.36</td>\n",
       "      <td>28.96</td>\n",
       "      <td>3.77</td>\n",
       "      <td>8.45</td>\n",
       "      <td>76.0</td>\n",
       "      <td>8</td>\n",
       "      <td>E</td>\n",
       "    </tr>\n",
       "    <tr>\n",
       "      <th>1</th>\n",
       "      <td>Super Mario Bros.</td>\n",
       "      <td>NES</td>\n",
       "      <td>1985.0</td>\n",
       "      <td>Platform</td>\n",
       "      <td>29.08</td>\n",
       "      <td>3.58</td>\n",
       "      <td>6.81</td>\n",
       "      <td>0.77</td>\n",
       "      <td>NaN</td>\n",
       "      <td>NaN</td>\n",
       "      <td>NaN</td>\n",
       "    </tr>\n",
       "    <tr>\n",
       "      <th>2</th>\n",
       "      <td>Mario Kart Wii</td>\n",
       "      <td>Wii</td>\n",
       "      <td>2008.0</td>\n",
       "      <td>Racing</td>\n",
       "      <td>15.68</td>\n",
       "      <td>12.76</td>\n",
       "      <td>3.79</td>\n",
       "      <td>3.29</td>\n",
       "      <td>82.0</td>\n",
       "      <td>8.3</td>\n",
       "      <td>E</td>\n",
       "    </tr>\n",
       "    <tr>\n",
       "      <th>3</th>\n",
       "      <td>Wii Sports Resort</td>\n",
       "      <td>Wii</td>\n",
       "      <td>2009.0</td>\n",
       "      <td>Sports</td>\n",
       "      <td>15.61</td>\n",
       "      <td>10.93</td>\n",
       "      <td>3.28</td>\n",
       "      <td>2.95</td>\n",
       "      <td>80.0</td>\n",
       "      <td>8</td>\n",
       "      <td>E</td>\n",
       "    </tr>\n",
       "    <tr>\n",
       "      <th>4</th>\n",
       "      <td>Pokemon Red/Pokemon Blue</td>\n",
       "      <td>GB</td>\n",
       "      <td>1996.0</td>\n",
       "      <td>Role-Playing</td>\n",
       "      <td>11.27</td>\n",
       "      <td>8.89</td>\n",
       "      <td>10.22</td>\n",
       "      <td>1.00</td>\n",
       "      <td>NaN</td>\n",
       "      <td>NaN</td>\n",
       "      <td>NaN</td>\n",
       "    </tr>\n",
       "  </tbody>\n",
       "</table>\n",
       "</div>"
      ],
      "text/plain": [
       "                       Name Platform  Year_of_Release         Genre  NA_sales  \\\n",
       "0                Wii Sports      Wii           2006.0        Sports     41.36   \n",
       "1         Super Mario Bros.      NES           1985.0      Platform     29.08   \n",
       "2            Mario Kart Wii      Wii           2008.0        Racing     15.68   \n",
       "3         Wii Sports Resort      Wii           2009.0        Sports     15.61   \n",
       "4  Pokemon Red/Pokemon Blue       GB           1996.0  Role-Playing     11.27   \n",
       "\n",
       "   EU_sales  JP_sales  Other_sales  Critic_Score User_Score Rating  \n",
       "0     28.96      3.77         8.45          76.0          8      E  \n",
       "1      3.58      6.81         0.77           NaN        NaN    NaN  \n",
       "2     12.76      3.79         3.29          82.0        8.3      E  \n",
       "3     10.93      3.28         2.95          80.0          8      E  \n",
       "4      8.89     10.22         1.00           NaN        NaN    NaN  "
      ]
     },
     "execution_count": 4,
     "metadata": {},
     "output_type": "execute_result"
    }
   ],
   "source": [
    "df.head()"
   ]
  },
  {
   "cell_type": "code",
   "execution_count": 5,
   "id": "0d8f65be",
   "metadata": {},
   "outputs": [
    {
     "data": {
      "text/plain": [
       "Name                  2\n",
       "Platform              0\n",
       "Year_of_Release     269\n",
       "Genre                 2\n",
       "NA_sales              0\n",
       "EU_sales              0\n",
       "JP_sales              0\n",
       "Other_sales           0\n",
       "Critic_Score       8578\n",
       "User_Score         6701\n",
       "Rating             6766\n",
       "dtype: int64"
      ]
     },
     "execution_count": 5,
     "metadata": {},
     "output_type": "execute_result"
    }
   ],
   "source": [
    "df.isna().sum()"
   ]
  },
  {
   "cell_type": "code",
   "execution_count": 6,
   "id": "95706901",
   "metadata": {},
   "outputs": [],
   "source": [
    "df.columns = df.columns.str.lower()"
   ]
  },
  {
   "cell_type": "markdown",
   "id": "5f2a298c",
   "metadata": {},
   "source": [
    "Привели названия всех колонок к нижнему регистру."
   ]
  },
  {
   "cell_type": "code",
   "execution_count": 7,
   "id": "93e521e9",
   "metadata": {},
   "outputs": [
    {
     "data": {
      "text/html": [
       "<div>\n",
       "<style scoped>\n",
       "    .dataframe tbody tr th:only-of-type {\n",
       "        vertical-align: middle;\n",
       "    }\n",
       "\n",
       "    .dataframe tbody tr th {\n",
       "        vertical-align: top;\n",
       "    }\n",
       "\n",
       "    .dataframe thead th {\n",
       "        text-align: right;\n",
       "    }\n",
       "</style>\n",
       "<table border=\"1\" class=\"dataframe\">\n",
       "  <thead>\n",
       "    <tr style=\"text-align: right;\">\n",
       "      <th></th>\n",
       "      <th>name</th>\n",
       "      <th>platform</th>\n",
       "      <th>year_of_release</th>\n",
       "      <th>genre</th>\n",
       "      <th>na_sales</th>\n",
       "      <th>eu_sales</th>\n",
       "      <th>jp_sales</th>\n",
       "      <th>other_sales</th>\n",
       "      <th>critic_score</th>\n",
       "      <th>user_score</th>\n",
       "      <th>rating</th>\n",
       "    </tr>\n",
       "  </thead>\n",
       "  <tbody>\n",
       "    <tr>\n",
       "      <th>183</th>\n",
       "      <td>Madden NFL 2004</td>\n",
       "      <td>PS2</td>\n",
       "      <td>NaN</td>\n",
       "      <td>Sports</td>\n",
       "      <td>4.26</td>\n",
       "      <td>0.26</td>\n",
       "      <td>0.01</td>\n",
       "      <td>0.71</td>\n",
       "      <td>94.0</td>\n",
       "      <td>8.5</td>\n",
       "      <td>E</td>\n",
       "    </tr>\n",
       "    <tr>\n",
       "      <th>377</th>\n",
       "      <td>FIFA Soccer 2004</td>\n",
       "      <td>PS2</td>\n",
       "      <td>NaN</td>\n",
       "      <td>Sports</td>\n",
       "      <td>0.59</td>\n",
       "      <td>2.36</td>\n",
       "      <td>0.04</td>\n",
       "      <td>0.51</td>\n",
       "      <td>84.0</td>\n",
       "      <td>6.4</td>\n",
       "      <td>E</td>\n",
       "    </tr>\n",
       "    <tr>\n",
       "      <th>456</th>\n",
       "      <td>LEGO Batman: The Videogame</td>\n",
       "      <td>Wii</td>\n",
       "      <td>NaN</td>\n",
       "      <td>Action</td>\n",
       "      <td>1.80</td>\n",
       "      <td>0.97</td>\n",
       "      <td>0.00</td>\n",
       "      <td>0.29</td>\n",
       "      <td>74.0</td>\n",
       "      <td>7.9</td>\n",
       "      <td>E10+</td>\n",
       "    </tr>\n",
       "    <tr>\n",
       "      <th>475</th>\n",
       "      <td>wwe Smackdown vs. Raw 2006</td>\n",
       "      <td>PS2</td>\n",
       "      <td>NaN</td>\n",
       "      <td>Fighting</td>\n",
       "      <td>1.57</td>\n",
       "      <td>1.02</td>\n",
       "      <td>0.00</td>\n",
       "      <td>0.41</td>\n",
       "      <td>NaN</td>\n",
       "      <td>NaN</td>\n",
       "      <td>NaN</td>\n",
       "    </tr>\n",
       "    <tr>\n",
       "      <th>609</th>\n",
       "      <td>Space Invaders</td>\n",
       "      <td>2600</td>\n",
       "      <td>NaN</td>\n",
       "      <td>Shooter</td>\n",
       "      <td>2.36</td>\n",
       "      <td>0.14</td>\n",
       "      <td>0.00</td>\n",
       "      <td>0.03</td>\n",
       "      <td>NaN</td>\n",
       "      <td>NaN</td>\n",
       "      <td>NaN</td>\n",
       "    </tr>\n",
       "    <tr>\n",
       "      <th>...</th>\n",
       "      <td>...</td>\n",
       "      <td>...</td>\n",
       "      <td>...</td>\n",
       "      <td>...</td>\n",
       "      <td>...</td>\n",
       "      <td>...</td>\n",
       "      <td>...</td>\n",
       "      <td>...</td>\n",
       "      <td>...</td>\n",
       "      <td>...</td>\n",
       "      <td>...</td>\n",
       "    </tr>\n",
       "    <tr>\n",
       "      <th>16373</th>\n",
       "      <td>PDC World Championship Darts 2008</td>\n",
       "      <td>PSP</td>\n",
       "      <td>NaN</td>\n",
       "      <td>Sports</td>\n",
       "      <td>0.01</td>\n",
       "      <td>0.00</td>\n",
       "      <td>0.00</td>\n",
       "      <td>0.00</td>\n",
       "      <td>43.0</td>\n",
       "      <td>tbd</td>\n",
       "      <td>E10+</td>\n",
       "    </tr>\n",
       "    <tr>\n",
       "      <th>16405</th>\n",
       "      <td>Freaky Flyers</td>\n",
       "      <td>GC</td>\n",
       "      <td>NaN</td>\n",
       "      <td>Racing</td>\n",
       "      <td>0.01</td>\n",
       "      <td>0.00</td>\n",
       "      <td>0.00</td>\n",
       "      <td>0.00</td>\n",
       "      <td>69.0</td>\n",
       "      <td>6.5</td>\n",
       "      <td>T</td>\n",
       "    </tr>\n",
       "    <tr>\n",
       "      <th>16448</th>\n",
       "      <td>Inversion</td>\n",
       "      <td>PC</td>\n",
       "      <td>NaN</td>\n",
       "      <td>Shooter</td>\n",
       "      <td>0.01</td>\n",
       "      <td>0.00</td>\n",
       "      <td>0.00</td>\n",
       "      <td>0.00</td>\n",
       "      <td>59.0</td>\n",
       "      <td>6.7</td>\n",
       "      <td>M</td>\n",
       "    </tr>\n",
       "    <tr>\n",
       "      <th>16458</th>\n",
       "      <td>Hakuouki: Shinsengumi Kitan</td>\n",
       "      <td>PS3</td>\n",
       "      <td>NaN</td>\n",
       "      <td>Adventure</td>\n",
       "      <td>0.01</td>\n",
       "      <td>0.00</td>\n",
       "      <td>0.00</td>\n",
       "      <td>0.00</td>\n",
       "      <td>NaN</td>\n",
       "      <td>NaN</td>\n",
       "      <td>NaN</td>\n",
       "    </tr>\n",
       "    <tr>\n",
       "      <th>16522</th>\n",
       "      <td>Virtua Quest</td>\n",
       "      <td>GC</td>\n",
       "      <td>NaN</td>\n",
       "      <td>Role-Playing</td>\n",
       "      <td>0.01</td>\n",
       "      <td>0.00</td>\n",
       "      <td>0.00</td>\n",
       "      <td>0.00</td>\n",
       "      <td>55.0</td>\n",
       "      <td>5.5</td>\n",
       "      <td>T</td>\n",
       "    </tr>\n",
       "  </tbody>\n",
       "</table>\n",
       "<p>269 rows × 11 columns</p>\n",
       "</div>"
      ],
      "text/plain": [
       "                                    name platform  year_of_release  \\\n",
       "183                      Madden NFL 2004      PS2              NaN   \n",
       "377                     FIFA Soccer 2004      PS2              NaN   \n",
       "456           LEGO Batman: The Videogame      Wii              NaN   \n",
       "475           wwe Smackdown vs. Raw 2006      PS2              NaN   \n",
       "609                       Space Invaders     2600              NaN   \n",
       "...                                  ...      ...              ...   \n",
       "16373  PDC World Championship Darts 2008      PSP              NaN   \n",
       "16405                      Freaky Flyers       GC              NaN   \n",
       "16448                          Inversion       PC              NaN   \n",
       "16458        Hakuouki: Shinsengumi Kitan      PS3              NaN   \n",
       "16522                       Virtua Quest       GC              NaN   \n",
       "\n",
       "              genre  na_sales  eu_sales  jp_sales  other_sales  critic_score  \\\n",
       "183          Sports      4.26      0.26      0.01         0.71          94.0   \n",
       "377          Sports      0.59      2.36      0.04         0.51          84.0   \n",
       "456          Action      1.80      0.97      0.00         0.29          74.0   \n",
       "475        Fighting      1.57      1.02      0.00         0.41           NaN   \n",
       "609         Shooter      2.36      0.14      0.00         0.03           NaN   \n",
       "...             ...       ...       ...       ...          ...           ...   \n",
       "16373        Sports      0.01      0.00      0.00         0.00          43.0   \n",
       "16405        Racing      0.01      0.00      0.00         0.00          69.0   \n",
       "16448       Shooter      0.01      0.00      0.00         0.00          59.0   \n",
       "16458     Adventure      0.01      0.00      0.00         0.00           NaN   \n",
       "16522  Role-Playing      0.01      0.00      0.00         0.00          55.0   \n",
       "\n",
       "      user_score rating  \n",
       "183          8.5      E  \n",
       "377          6.4      E  \n",
       "456          7.9   E10+  \n",
       "475          NaN    NaN  \n",
       "609          NaN    NaN  \n",
       "...          ...    ...  \n",
       "16373        tbd   E10+  \n",
       "16405        6.5      T  \n",
       "16448        6.7      M  \n",
       "16458        NaN    NaN  \n",
       "16522        5.5      T  \n",
       "\n",
       "[269 rows x 11 columns]"
      ]
     },
     "metadata": {},
     "output_type": "display_data"
    }
   ],
   "source": [
    "display(df[df['year_of_release'].isna()])"
   ]
  },
  {
   "cell_type": "code",
   "execution_count": 8,
   "id": "4ade69a3",
   "metadata": {},
   "outputs": [],
   "source": [
    "df['year_of_release'] = df['year_of_release'].fillna(0)"
   ]
  },
  {
   "cell_type": "code",
   "execution_count": 9,
   "id": "3c00f2ee",
   "metadata": {},
   "outputs": [],
   "source": [
    "df['year_of_release'] = df['year_of_release'].astype('int')"
   ]
  },
  {
   "cell_type": "markdown",
   "id": "30f5170a",
   "metadata": {},
   "source": [
    "Заполнили все пропуски в колонке \"Дата выхода\" для того что бы привести колонку к целочисленному типу."
   ]
  },
  {
   "cell_type": "code",
   "execution_count": 10,
   "id": "c4dcb76a",
   "metadata": {},
   "outputs": [
    {
     "data": {
      "text/html": [
       "<div>\n",
       "<style scoped>\n",
       "    .dataframe tbody tr th:only-of-type {\n",
       "        vertical-align: middle;\n",
       "    }\n",
       "\n",
       "    .dataframe tbody tr th {\n",
       "        vertical-align: top;\n",
       "    }\n",
       "\n",
       "    .dataframe thead th {\n",
       "        text-align: right;\n",
       "    }\n",
       "</style>\n",
       "<table border=\"1\" class=\"dataframe\">\n",
       "  <thead>\n",
       "    <tr style=\"text-align: right;\">\n",
       "      <th></th>\n",
       "      <th>name</th>\n",
       "      <th>platform</th>\n",
       "      <th>year_of_release</th>\n",
       "      <th>genre</th>\n",
       "      <th>na_sales</th>\n",
       "      <th>eu_sales</th>\n",
       "      <th>jp_sales</th>\n",
       "      <th>other_sales</th>\n",
       "      <th>critic_score</th>\n",
       "      <th>user_score</th>\n",
       "      <th>rating</th>\n",
       "    </tr>\n",
       "  </thead>\n",
       "  <tbody>\n",
       "    <tr>\n",
       "      <th>119</th>\n",
       "      <td>Zumba Fitness</td>\n",
       "      <td>Wii</td>\n",
       "      <td>2010</td>\n",
       "      <td>Sports</td>\n",
       "      <td>3.45</td>\n",
       "      <td>2.59</td>\n",
       "      <td>0.0</td>\n",
       "      <td>0.66</td>\n",
       "      <td>NaN</td>\n",
       "      <td>tbd</td>\n",
       "      <td>E</td>\n",
       "    </tr>\n",
       "    <tr>\n",
       "      <th>301</th>\n",
       "      <td>Namco Museum: 50th Anniversary</td>\n",
       "      <td>PS2</td>\n",
       "      <td>2005</td>\n",
       "      <td>Misc</td>\n",
       "      <td>2.08</td>\n",
       "      <td>1.35</td>\n",
       "      <td>0.0</td>\n",
       "      <td>0.54</td>\n",
       "      <td>61.0</td>\n",
       "      <td>tbd</td>\n",
       "      <td>E10+</td>\n",
       "    </tr>\n",
       "    <tr>\n",
       "      <th>520</th>\n",
       "      <td>Zumba Fitness 2</td>\n",
       "      <td>Wii</td>\n",
       "      <td>2011</td>\n",
       "      <td>Sports</td>\n",
       "      <td>1.51</td>\n",
       "      <td>1.03</td>\n",
       "      <td>0.0</td>\n",
       "      <td>0.27</td>\n",
       "      <td>NaN</td>\n",
       "      <td>tbd</td>\n",
       "      <td>T</td>\n",
       "    </tr>\n",
       "    <tr>\n",
       "      <th>645</th>\n",
       "      <td>uDraw Studio</td>\n",
       "      <td>Wii</td>\n",
       "      <td>2010</td>\n",
       "      <td>Misc</td>\n",
       "      <td>1.65</td>\n",
       "      <td>0.57</td>\n",
       "      <td>0.0</td>\n",
       "      <td>0.20</td>\n",
       "      <td>71.0</td>\n",
       "      <td>tbd</td>\n",
       "      <td>E</td>\n",
       "    </tr>\n",
       "    <tr>\n",
       "      <th>657</th>\n",
       "      <td>Frogger's Adventures: Temple of the Frog</td>\n",
       "      <td>GBA</td>\n",
       "      <td>0</td>\n",
       "      <td>Adventure</td>\n",
       "      <td>2.15</td>\n",
       "      <td>0.18</td>\n",
       "      <td>0.0</td>\n",
       "      <td>0.07</td>\n",
       "      <td>73.0</td>\n",
       "      <td>tbd</td>\n",
       "      <td>E</td>\n",
       "    </tr>\n",
       "    <tr>\n",
       "      <th>...</th>\n",
       "      <td>...</td>\n",
       "      <td>...</td>\n",
       "      <td>...</td>\n",
       "      <td>...</td>\n",
       "      <td>...</td>\n",
       "      <td>...</td>\n",
       "      <td>...</td>\n",
       "      <td>...</td>\n",
       "      <td>...</td>\n",
       "      <td>...</td>\n",
       "      <td>...</td>\n",
       "    </tr>\n",
       "    <tr>\n",
       "      <th>16695</th>\n",
       "      <td>Planet Monsters</td>\n",
       "      <td>GBA</td>\n",
       "      <td>2001</td>\n",
       "      <td>Action</td>\n",
       "      <td>0.01</td>\n",
       "      <td>0.00</td>\n",
       "      <td>0.0</td>\n",
       "      <td>0.00</td>\n",
       "      <td>67.0</td>\n",
       "      <td>tbd</td>\n",
       "      <td>E</td>\n",
       "    </tr>\n",
       "    <tr>\n",
       "      <th>16697</th>\n",
       "      <td>Bust-A-Move 3000</td>\n",
       "      <td>GC</td>\n",
       "      <td>2003</td>\n",
       "      <td>Puzzle</td>\n",
       "      <td>0.01</td>\n",
       "      <td>0.00</td>\n",
       "      <td>0.0</td>\n",
       "      <td>0.00</td>\n",
       "      <td>53.0</td>\n",
       "      <td>tbd</td>\n",
       "      <td>E</td>\n",
       "    </tr>\n",
       "    <tr>\n",
       "      <th>16698</th>\n",
       "      <td>Mega Brain Boost</td>\n",
       "      <td>DS</td>\n",
       "      <td>2008</td>\n",
       "      <td>Puzzle</td>\n",
       "      <td>0.01</td>\n",
       "      <td>0.00</td>\n",
       "      <td>0.0</td>\n",
       "      <td>0.00</td>\n",
       "      <td>48.0</td>\n",
       "      <td>tbd</td>\n",
       "      <td>E</td>\n",
       "    </tr>\n",
       "    <tr>\n",
       "      <th>16704</th>\n",
       "      <td>Plushees</td>\n",
       "      <td>DS</td>\n",
       "      <td>2008</td>\n",
       "      <td>Simulation</td>\n",
       "      <td>0.01</td>\n",
       "      <td>0.00</td>\n",
       "      <td>0.0</td>\n",
       "      <td>0.00</td>\n",
       "      <td>NaN</td>\n",
       "      <td>tbd</td>\n",
       "      <td>E</td>\n",
       "    </tr>\n",
       "    <tr>\n",
       "      <th>16706</th>\n",
       "      <td>Men in Black II: Alien Escape</td>\n",
       "      <td>GC</td>\n",
       "      <td>2003</td>\n",
       "      <td>Shooter</td>\n",
       "      <td>0.01</td>\n",
       "      <td>0.00</td>\n",
       "      <td>0.0</td>\n",
       "      <td>0.00</td>\n",
       "      <td>NaN</td>\n",
       "      <td>tbd</td>\n",
       "      <td>T</td>\n",
       "    </tr>\n",
       "  </tbody>\n",
       "</table>\n",
       "<p>2424 rows × 11 columns</p>\n",
       "</div>"
      ],
      "text/plain": [
       "                                           name platform  year_of_release  \\\n",
       "119                               Zumba Fitness      Wii             2010   \n",
       "301              Namco Museum: 50th Anniversary      PS2             2005   \n",
       "520                             Zumba Fitness 2      Wii             2011   \n",
       "645                                uDraw Studio      Wii             2010   \n",
       "657    Frogger's Adventures: Temple of the Frog      GBA                0   \n",
       "...                                         ...      ...              ...   \n",
       "16695                           Planet Monsters      GBA             2001   \n",
       "16697                          Bust-A-Move 3000       GC             2003   \n",
       "16698                          Mega Brain Boost       DS             2008   \n",
       "16704                                  Plushees       DS             2008   \n",
       "16706             Men in Black II: Alien Escape       GC             2003   \n",
       "\n",
       "            genre  na_sales  eu_sales  jp_sales  other_sales  critic_score  \\\n",
       "119        Sports      3.45      2.59       0.0         0.66           NaN   \n",
       "301          Misc      2.08      1.35       0.0         0.54          61.0   \n",
       "520        Sports      1.51      1.03       0.0         0.27           NaN   \n",
       "645          Misc      1.65      0.57       0.0         0.20          71.0   \n",
       "657     Adventure      2.15      0.18       0.0         0.07          73.0   \n",
       "...           ...       ...       ...       ...          ...           ...   \n",
       "16695      Action      0.01      0.00       0.0         0.00          67.0   \n",
       "16697      Puzzle      0.01      0.00       0.0         0.00          53.0   \n",
       "16698      Puzzle      0.01      0.00       0.0         0.00          48.0   \n",
       "16704  Simulation      0.01      0.00       0.0         0.00           NaN   \n",
       "16706     Shooter      0.01      0.00       0.0         0.00           NaN   \n",
       "\n",
       "      user_score rating  \n",
       "119          tbd      E  \n",
       "301          tbd   E10+  \n",
       "520          tbd      T  \n",
       "645          tbd      E  \n",
       "657          tbd      E  \n",
       "...          ...    ...  \n",
       "16695        tbd      E  \n",
       "16697        tbd      E  \n",
       "16698        tbd      E  \n",
       "16704        tbd      E  \n",
       "16706        tbd      T  \n",
       "\n",
       "[2424 rows x 11 columns]"
      ]
     },
     "execution_count": 10,
     "metadata": {},
     "output_type": "execute_result"
    }
   ],
   "source": [
    "df[df['user_score'] == 'tbd']"
   ]
  },
  {
   "cell_type": "code",
   "execution_count": 11,
   "id": "51cb5dce",
   "metadata": {},
   "outputs": [
    {
     "data": {
      "text/plain": [
       "array(['8', nan, '8.3', '8.5', '6.6', '8.4', '8.6', '7.7', '6.3', '7.4',\n",
       "       '8.2', '9', '7.9', '8.1', '8.7', '7.1', '3.4', '5.3', '4.8', '3.2',\n",
       "       '8.9', '6.4', '7.8', '7.5', '2.6', '7.2', '9.2', '7', '7.3', '4.3',\n",
       "       '7.6', '5.7', '5', '9.1', '6.5', 'tbd', '8.8', '6.9', '9.4', '6.8',\n",
       "       '6.1', '6.7', '5.4', '4', '4.9', '4.5', '9.3', '6.2', '4.2', '6',\n",
       "       '3.7', '4.1', '5.8', '5.6', '5.5', '4.4', '4.6', '5.9', '3.9',\n",
       "       '3.1', '2.9', '5.2', '3.3', '4.7', '5.1', '3.5', '2.5', '1.9', '3',\n",
       "       '2.7', '2.2', '2', '9.5', '2.1', '3.6', '2.8', '1.8', '3.8', '0',\n",
       "       '1.6', '9.6', '2.4', '1.7', '1.1', '0.3', '1.5', '0.7', '1.2',\n",
       "       '2.3', '0.5', '1.3', '0.2', '0.6', '1.4', '0.9', '1', '9.7'],\n",
       "      dtype=object)"
      ]
     },
     "execution_count": 11,
     "metadata": {},
     "output_type": "execute_result"
    }
   ],
   "source": [
    "df['user_score'].unique()"
   ]
  },
  {
   "cell_type": "markdown",
   "id": "3ef5ad36",
   "metadata": {},
   "source": [
    "TBD - воспринимаем как пропуск. Это значит что пользовательский рейтинг ещё не определён.\n"
   ]
  },
  {
   "cell_type": "code",
   "execution_count": 12,
   "id": "6c415ae7",
   "metadata": {},
   "outputs": [],
   "source": [
    "df['user_score'] = df['user_score'].fillna(10)"
   ]
  },
  {
   "cell_type": "markdown",
   "id": "b595677e",
   "metadata": {},
   "source": [
    "Нули в оценках пользователей присутствуют, а вот 10 нет, замениим пропуски на оценки в 10 баллов."
   ]
  },
  {
   "cell_type": "code",
   "execution_count": 13,
   "id": "08e8401e",
   "metadata": {},
   "outputs": [],
   "source": [
    "df.loc[df['user_score'] == 'tbd', 'user_score'] = 10"
   ]
  },
  {
   "cell_type": "code",
   "execution_count": 14,
   "id": "5c259b60",
   "metadata": {},
   "outputs": [],
   "source": [
    "df['user_score'] = df['user_score'].astype('float')"
   ]
  },
  {
   "cell_type": "code",
   "execution_count": 15,
   "id": "6c222770",
   "metadata": {},
   "outputs": [],
   "source": [
    "df['rating'] = df['rating'].fillna('undefined')"
   ]
  },
  {
   "cell_type": "markdown",
   "id": "cc91d245",
   "metadata": {},
   "source": [
    "Заменил пропуски в столбце рейтинг на значения \"не определено\""
   ]
  },
  {
   "cell_type": "markdown",
   "id": "d2f64314",
   "metadata": {},
   "source": [
    "Пропуски в датасете пристутсвуют в столбце с датой релиза игры, возможно из-за того что точно год выхода установить уже не явлется возможнмы или из-за того что он дублируется в названии в случае с симуляторами, а так же в трех последних столбцах с рейтингами коммиссий, оценкой польтзователей и критиков. Вероятно эти данные были присоединены из другого источника, частично они отсутствуют потому что ещё не оценены игры, а частично возможно из-за ошибок при переносе"
   ]
  },
  {
   "cell_type": "markdown",
   "id": "3d4cfdfc",
   "metadata": {},
   "source": [
    "Привели значения в столбце \"Оценка пользователей\" к численному типу для дальнейшей работы с ним."
   ]
  },
  {
   "cell_type": "code",
   "execution_count": 16,
   "id": "4e126ebe",
   "metadata": {},
   "outputs": [
    {
     "name": "stdout",
     "output_type": "stream",
     "text": [
      "<class 'pandas.core.frame.DataFrame'>\n",
      "RangeIndex: 16715 entries, 0 to 16714\n",
      "Data columns (total 11 columns):\n",
      " #   Column           Non-Null Count  Dtype  \n",
      "---  ------           --------------  -----  \n",
      " 0   name             16713 non-null  object \n",
      " 1   platform         16715 non-null  object \n",
      " 2   year_of_release  16715 non-null  int64  \n",
      " 3   genre            16713 non-null  object \n",
      " 4   na_sales         16715 non-null  float64\n",
      " 5   eu_sales         16715 non-null  float64\n",
      " 6   jp_sales         16715 non-null  float64\n",
      " 7   other_sales      16715 non-null  float64\n",
      " 8   critic_score     8137 non-null   float64\n",
      " 9   user_score       16715 non-null  float64\n",
      " 10  rating           16715 non-null  object \n",
      "dtypes: float64(6), int64(1), object(4)\n",
      "memory usage: 1.4+ MB\n"
     ]
    }
   ],
   "source": [
    "df.info()"
   ]
  },
  {
   "cell_type": "code",
   "execution_count": 17,
   "id": "33b5910e",
   "metadata": {},
   "outputs": [],
   "source": [
    "df['total_sales'] = df['na_sales'] + df['eu_sales'] + df['jp_sales'] + df['other_sales']"
   ]
  },
  {
   "cell_type": "markdown",
   "id": "84a79500",
   "metadata": {},
   "source": [
    "# ШАГ 3 Исследовательский анализ данных"
   ]
  },
  {
   "cell_type": "code",
   "execution_count": 102,
   "id": "69032e8b",
   "metadata": {
    "scrolled": false
   },
   "outputs": [
    {
     "data": {
      "image/png": "[encoded data removed]",
      "text/plain": [
       "<Figure size 432x288 with 1 Axes>"
      ]
     },
     "metadata": {
      "needs_background": "light"
     },
     "output_type": "display_data"
    }
   ],
   "source": [
    "df.groupby('year_of_release')['genre'].count().plot(kind='bar')\n",
    "plt.title('Продажи по жанрам по годам')\n",
    "plt.xlabel('жанр')\n",
    "plt.ylabel('количество');"
   ]
  },
  {
   "cell_type": "markdown",
   "id": "a7c4f109",
   "metadata": {},
   "source": [
    "До 95 года игр выходило очень мало и данные за этот период не важны, так же есть аномалия на 0 из-за того что мы заполняли им пропуски, этими данными тоже можно пренебречь."
   ]
  },
  {
   "cell_type": "code",
   "execution_count": 101,
   "id": "180f0397",
   "metadata": {},
   "outputs": [
    {
     "data": {
      "image/png": "[encoded data removed]",
      "text/plain": [
       "<Figure size 432x288 with 1 Axes>"
      ]
     },
     "metadata": {
      "needs_background": "light"
     },
     "output_type": "display_data"
    }
   ],
   "source": [
    "df.groupby('platform')['total_sales'].sum().sort_values().plot(kind='bar')\n",
    "plt.title('Продажи по платформам по годам')\n",
    "plt.xlabel('платформа')\n",
    "plt.ylabel('количество');"
   ]
  },
  {
   "cell_type": "code",
   "execution_count": 20,
   "id": "5bd552bc",
   "metadata": {},
   "outputs": [],
   "source": [
    "ps = df.loc[df['platform'] == 'PS']"
   ]
  },
  {
   "cell_type": "code",
   "execution_count": 100,
   "id": "a45de9a1",
   "metadata": {},
   "outputs": [
    {
     "data": {
      "image/png": "[encoded data removed]",
      "text/plain": [
       "<Figure size 432x288 with 1 Axes>"
      ]
     },
     "metadata": {
      "needs_background": "light"
     },
     "output_type": "display_data"
    }
   ],
   "source": [
    "ps.groupby('year_of_release')['total_sales'].sum().plot(kind='bar')\n",
    "plt.title('Продажи на PS')\n",
    "plt.xlabel('год выпуска')\n",
    "plt.ylabel('количество');"
   ]
  },
  {
   "cell_type": "code",
   "execution_count": 22,
   "id": "e40b87f4",
   "metadata": {},
   "outputs": [],
   "source": [
    "ds = df.loc[df['platform'] == 'DS']"
   ]
  },
  {
   "cell_type": "code",
   "execution_count": 99,
   "id": "49ac885d",
   "metadata": {},
   "outputs": [
    {
     "data": {
      "image/png": "[encoded data removed]",
      "text/plain": [
       "<Figure size 432x288 with 1 Axes>"
      ]
     },
     "metadata": {
      "needs_background": "light"
     },
     "output_type": "display_data"
    }
   ],
   "source": [
    "ds.groupby('year_of_release')['total_sales'].sum().plot(kind='bar')\n",
    "plt.title('Продажи на Nintendo DS')\n",
    "plt.xlabel('год выпуска')\n",
    "plt.ylabel('количество');"
   ]
  },
  {
   "cell_type": "code",
   "execution_count": 24,
   "id": "81a2fc3d",
   "metadata": {},
   "outputs": [],
   "source": [
    "wii = df.loc[df['platform'] == 'Wii']"
   ]
  },
  {
   "cell_type": "code",
   "execution_count": 98,
   "id": "e88b078a",
   "metadata": {},
   "outputs": [
    {
     "data": {
      "image/png": "[encoded data removed]",
      "text/plain": [
       "<Figure size 432x288 with 1 Axes>"
      ]
     },
     "metadata": {
      "needs_background": "light"
     },
     "output_type": "display_data"
    }
   ],
   "source": [
    "wii.groupby('year_of_release')['total_sales'].sum().plot(kind='bar')\n",
    "plt.title('Продажи на Nintendo Wii')\n",
    "plt.xlabel('год выпуска')\n",
    "plt.ylabel('количество');"
   ]
  },
  {
   "cell_type": "code",
   "execution_count": 26,
   "id": "3e7d7644",
   "metadata": {},
   "outputs": [],
   "source": [
    "ps_3 = df.loc[df['platform'] == 'PS3']"
   ]
  },
  {
   "cell_type": "code",
   "execution_count": 97,
   "id": "8fbdb9d7",
   "metadata": {},
   "outputs": [
    {
     "data": {
      "image/png": "[encoded data removed]",
      "text/plain": [
       "<Figure size 432x288 with 1 Axes>"
      ]
     },
     "metadata": {
      "needs_background": "light"
     },
     "output_type": "display_data"
    }
   ],
   "source": [
    "ps_3.groupby('year_of_release')['total_sales'].sum().plot(kind='bar')\n",
    "plt.title('Продажи на PS3')\n",
    "plt.xlabel('год выпуска')\n",
    "plt.ylabel('количество');"
   ]
  },
  {
   "cell_type": "code",
   "execution_count": 28,
   "id": "4ec4186a",
   "metadata": {},
   "outputs": [],
   "source": [
    "x_360 = df.loc[df['platform'] == 'X360']"
   ]
  },
  {
   "cell_type": "code",
   "execution_count": 96,
   "id": "eb6f4a6d",
   "metadata": {},
   "outputs": [
    {
     "data": {
      "image/png": "[encoded data removed]",
      "text/plain": [
       "<Figure size 432x288 with 1 Axes>"
      ]
     },
     "metadata": {
      "needs_background": "light"
     },
     "output_type": "display_data"
    }
   ],
   "source": [
    "x_360.groupby('year_of_release')['total_sales'].sum().plot(kind='bar')\n",
    "plt.title('Продажи на Xbox360')\n",
    "plt.xlabel('год выпуска')\n",
    "plt.ylabel('количество');"
   ]
  },
  {
   "cell_type": "code",
   "execution_count": 30,
   "id": "6d36f28e",
   "metadata": {},
   "outputs": [],
   "source": [
    "ps_2 = df.loc[df['platform'] == 'PS2']"
   ]
  },
  {
   "cell_type": "code",
   "execution_count": 103,
   "id": "ff6a5075",
   "metadata": {},
   "outputs": [
    {
     "data": {
      "image/png": "[encoded data removed]",
      "text/plain": [
       "<Figure size 432x288 with 1 Axes>"
      ]
     },
     "metadata": {
      "needs_background": "light"
     },
     "output_type": "display_data"
    }
   ],
   "source": [
    "ps_2.groupby('year_of_release')['total_sales'].sum().plot(kind='bar')\n",
    "plt.title('Продажи на PS2')\n",
    "plt.xlabel('год выпуска')\n",
    "plt.ylabel('количество');"
   ]
  },
  {
   "cell_type": "markdown",
   "id": "252cb33e",
   "metadata": {},
   "source": [
    "Новые платформы появляются примерно раз в 5 лет, а устаревают за 10"
   ]
  },
  {
   "cell_type": "code",
   "execution_count": 32,
   "id": "b179bc77",
   "metadata": {},
   "outputs": [],
   "source": [
    "dfa = df.loc[df['year_of_release'] >= 2012]"
   ]
  },
  {
   "cell_type": "code",
   "execution_count": 33,
   "id": "dabb0081",
   "metadata": {},
   "outputs": [],
   "source": [
    "ds_3 = dfa.loc[df['platform'] == '3DS']"
   ]
  },
  {
   "cell_type": "code",
   "execution_count": 107,
   "id": "73e866aa",
   "metadata": {},
   "outputs": [
    {
     "data": {
      "image/png": "[encoded data removed]",
      "text/plain": [
       "<Figure size 432x288 with 1 Axes>"
      ]
     },
     "metadata": {
      "needs_background": "light"
     },
     "output_type": "display_data"
    }
   ],
   "source": [
    "ds_3.groupby('year_of_release')['total_sales'].sum().plot(kind='bar')\n",
    "plt.title('Продажи на Nintendo 3DS')\n",
    "plt.xlabel('год выпуска')\n",
    "plt.ylabel('кол-во игр');"
   ]
  },
  {
   "cell_type": "code",
   "execution_count": 108,
   "id": "8961acc0",
   "metadata": {},
   "outputs": [
    {
     "data": {
      "image/png": "[encoded data removed]",
      "text/plain": [
       "<Figure size 432x288 with 1 Axes>"
      ]
     },
     "metadata": {
      "needs_background": "light"
     },
     "output_type": "display_data"
    }
   ],
   "source": [
    "dfa.groupby('platform')['total_sales'].sum().sort_values().plot(kind='bar')\n",
    "plt.title('Продажи по платформам')\n",
    "plt.xlabel('платформа')\n",
    "plt.ylabel('кол-во игр');"
   ]
  },
  {
   "cell_type": "markdown",
   "id": "117127a7",
   "metadata": {},
   "source": [
    "За период с 2012 лидирует по продажам PS4 и при этом доля продаж этой приставки растёт, 3DS, PS3 и X360 теряют продажи, XOne растёт"
   ]
  },
  {
   "cell_type": "code",
   "execution_count": 36,
   "id": "65faa474",
   "metadata": {},
   "outputs": [],
   "source": [
    "top_p = ['PS4', 'PS3', 'X360', '3DS', 'XOne', 'WiiU', 'PC']"
   ]
  },
  {
   "cell_type": "code",
   "execution_count": 37,
   "id": "993ff607",
   "metadata": {},
   "outputs": [],
   "source": [
    "dfa_top = dfa.loc[df['platform'].isin(top_p)]"
   ]
  },
  {
   "cell_type": "code",
   "execution_count": 110,
   "id": "ba009d5a",
   "metadata": {},
   "outputs": [
    {
     "data": {
      "image/png": "[encoded data removed]",
      "text/plain": [
       "<Figure size 432x288 with 1 Axes>"
      ]
     },
     "metadata": {
      "needs_background": "light"
     },
     "output_type": "display_data"
    }
   ],
   "source": [
    "dfa_top.pivot_table(index='year_of_release', columns='platform', values='total_sales', aggfunc='sum').plot()\n",
    "plt.title('Продажи по платформам')\n",
    "plt.xlabel('платформа')\n",
    "plt.ylabel('количество');"
   ]
  },
  {
   "cell_type": "code",
   "execution_count": 114,
   "id": "295db565",
   "metadata": {},
   "outputs": [
    {
     "data": {
      "image/png": "[encoded data removed]",
      "text/plain": [
       "<Figure size 720x1440 with 1 Axes>"
      ]
     },
     "metadata": {
      "needs_background": "light"
     },
     "output_type": "display_data"
    }
   ],
   "source": [
    "dfa.boxplot(column=['total_sales'], by='platform', figsize=(10,20))\n",
    "plt.title('Диаграмма размаха продаж по платформам')\n",
    "plt.xlabel('год')\n",
    "plt.ylabel('количество');"
   ]
  },
  {
   "cell_type": "markdown",
   "id": "70ef1bca",
   "metadata": {},
   "source": [
    "Рекордсмен по продажам (хитовым играм продающимся самым большим тиражом) PS3, за ним с отрывом в 5 миллионов идет X360, а третье место на двоих заняли PS4 и 3DS. Меньше всего денег собрали PSP, DS и PSV."
   ]
  },
  {
   "cell_type": "code",
   "execution_count": 115,
   "id": "a0165d8c",
   "metadata": {
    "scrolled": false
   },
   "outputs": [
    {
     "data": {
      "image/png": "[encoded data removed]",
      "text/plain": [
       "<Figure size 720x1440 with 1 Axes>"
      ]
     },
     "metadata": {
      "needs_background": "light"
     },
     "output_type": "display_data"
    }
   ],
   "source": [
    "dfa_top.boxplot(column=['total_sales'], by='platform', figsize=(10,20))\n",
    "plt.ylim(0, 2)\n",
    "plt.title('Диаграмма размаха продаж по платформам')\n",
    "plt.xlabel('год')\n",
    "plt.ylabel('количество');"
   ]
  },
  {
   "cell_type": "markdown",
   "id": "dcc1bea1",
   "metadata": {},
   "source": [
    "Медиана по продажам игр у X360 выше, чем у остальных платформ, Значит в среднем каждая игра на этой приставке продаётся большим тиражом чем на других платформах."
   ]
  },
  {
   "cell_type": "code",
   "execution_count": 41,
   "id": "415164a0",
   "metadata": {},
   "outputs": [],
   "source": [
    "dfa = dfa[dfa['user_score'] < 10]"
   ]
  },
  {
   "cell_type": "code",
   "execution_count": 42,
   "id": "ec84a389",
   "metadata": {},
   "outputs": [],
   "source": [
    "xbox360 = dfa.loc[df['platform'] == 'X360']"
   ]
  },
  {
   "cell_type": "code",
   "execution_count": 117,
   "id": "4110648d",
   "metadata": {},
   "outputs": [
    {
     "data": {
      "image/png": "[encoded data removed]",
      "text/plain": [
       "<Figure size 432x288 with 1 Axes>"
      ]
     },
     "metadata": {
      "needs_background": "light"
     },
     "output_type": "display_data"
    }
   ],
   "source": [
    "xbox360.plot(x='total_sales', y='critic_score', kind='scatter')\n",
    "plt.title('Диаграмма рассеяния оценок критиков на Xbox360')\n",
    "plt.xlabel('всего продаж')\n",
    "plt.ylabel('оценка критиков');"
   ]
  },
  {
   "cell_type": "markdown",
   "id": "14bc4b18",
   "metadata": {},
   "source": [
    "Игра имеющая самый высокие оценки критиков показывает наибольшие продажи, но при этом много игр с хорошей оценкой плохо продаётся."
   ]
  },
  {
   "cell_type": "code",
   "execution_count": 118,
   "id": "c5846988",
   "metadata": {},
   "outputs": [
    {
     "data": {
      "image/png": "[encoded data removed]",
      "text/plain": [
       "<Figure size 432x288 with 1 Axes>"
      ]
     },
     "metadata": {
      "needs_background": "light"
     },
     "output_type": "display_data"
    }
   ],
   "source": [
    "xbox360.plot(x='total_sales', y='user_score', kind='scatter')\n",
    "plt.title('Диаграмма рассеяния оценок пользователей на Xbox360')\n",
    "plt.xlabel('всего продаж')\n",
    "plt.ylabel('оценка пользователей');"
   ]
  },
  {
   "cell_type": "markdown",
   "id": "adf0686e",
   "metadata": {},
   "source": [
    "По оценкам пользователей самая продаваемая игра не заслужила наивысших оценок. Есть игры хуже продащиея, но с более высокой оценкой."
   ]
  },
  {
   "cell_type": "code",
   "execution_count": 45,
   "id": "079634e8",
   "metadata": {},
   "outputs": [
    {
     "data": {
      "text/plain": [
       "0.3605734888507336"
      ]
     },
     "execution_count": 45,
     "metadata": {},
     "output_type": "execute_result"
    }
   ],
   "source": [
    "xbox360['critic_score'].corr(xbox360['total_sales'])"
   ]
  },
  {
   "cell_type": "code",
   "execution_count": 46,
   "id": "6a844142",
   "metadata": {},
   "outputs": [
    {
     "data": {
      "text/plain": [
       "0.006163978646213326"
      ]
     },
     "execution_count": 46,
     "metadata": {},
     "output_type": "execute_result"
    }
   ],
   "source": [
    "xbox360['user_score'].corr(xbox360['total_sales'])"
   ]
  },
  {
   "cell_type": "markdown",
   "id": "df634024",
   "metadata": {},
   "source": [
    "Продажи на X360 имеют слабую корреляцию с оценками критиков и не зависят от оценок пользователей."
   ]
  },
  {
   "cell_type": "code",
   "execution_count": 47,
   "id": "b606a0d8",
   "metadata": {},
   "outputs": [
    {
     "data": {
      "text/html": [
       "<div>\n",
       "<style scoped>\n",
       "    .dataframe tbody tr th:only-of-type {\n",
       "        vertical-align: middle;\n",
       "    }\n",
       "\n",
       "    .dataframe tbody tr th {\n",
       "        vertical-align: top;\n",
       "    }\n",
       "\n",
       "    .dataframe thead th {\n",
       "        text-align: right;\n",
       "    }\n",
       "</style>\n",
       "<table border=\"1\" class=\"dataframe\">\n",
       "  <thead>\n",
       "    <tr style=\"text-align: right;\">\n",
       "      <th></th>\n",
       "      <th>year_of_release</th>\n",
       "      <th>na_sales</th>\n",
       "      <th>eu_sales</th>\n",
       "      <th>jp_sales</th>\n",
       "      <th>other_sales</th>\n",
       "      <th>critic_score</th>\n",
       "      <th>user_score</th>\n",
       "      <th>total_sales</th>\n",
       "    </tr>\n",
       "  </thead>\n",
       "  <tbody>\n",
       "    <tr>\n",
       "      <th>year_of_release</th>\n",
       "      <td>1.000000</td>\n",
       "      <td>-0.144179</td>\n",
       "      <td>-0.081823</td>\n",
       "      <td>-0.104177</td>\n",
       "      <td>-0.091386</td>\n",
       "      <td>0.017716</td>\n",
       "      <td>-0.019996</td>\n",
       "      <td>-0.128350</td>\n",
       "    </tr>\n",
       "    <tr>\n",
       "      <th>na_sales</th>\n",
       "      <td>-0.144179</td>\n",
       "      <td>1.000000</td>\n",
       "      <td>0.719814</td>\n",
       "      <td>0.249276</td>\n",
       "      <td>0.762570</td>\n",
       "      <td>0.288522</td>\n",
       "      <td>-0.014217</td>\n",
       "      <td>0.909843</td>\n",
       "    </tr>\n",
       "    <tr>\n",
       "      <th>eu_sales</th>\n",
       "      <td>-0.081823</td>\n",
       "      <td>0.719814</td>\n",
       "      <td>1.000000</td>\n",
       "      <td>0.284713</td>\n",
       "      <td>0.930867</td>\n",
       "      <td>0.281959</td>\n",
       "      <td>-0.022042</td>\n",
       "      <td>0.927912</td>\n",
       "    </tr>\n",
       "    <tr>\n",
       "      <th>jp_sales</th>\n",
       "      <td>-0.104177</td>\n",
       "      <td>0.249276</td>\n",
       "      <td>0.284713</td>\n",
       "      <td>1.000000</td>\n",
       "      <td>0.244057</td>\n",
       "      <td>0.115022</td>\n",
       "      <td>0.163980</td>\n",
       "      <td>0.404741</td>\n",
       "    </tr>\n",
       "    <tr>\n",
       "      <th>other_sales</th>\n",
       "      <td>-0.091386</td>\n",
       "      <td>0.762570</td>\n",
       "      <td>0.930867</td>\n",
       "      <td>0.244057</td>\n",
       "      <td>1.000000</td>\n",
       "      <td>0.271063</td>\n",
       "      <td>-0.010909</td>\n",
       "      <td>0.922396</td>\n",
       "    </tr>\n",
       "    <tr>\n",
       "      <th>critic_score</th>\n",
       "      <td>0.017716</td>\n",
       "      <td>0.288522</td>\n",
       "      <td>0.281959</td>\n",
       "      <td>0.115022</td>\n",
       "      <td>0.271063</td>\n",
       "      <td>1.000000</td>\n",
       "      <td>0.517727</td>\n",
       "      <td>0.306516</td>\n",
       "    </tr>\n",
       "    <tr>\n",
       "      <th>user_score</th>\n",
       "      <td>-0.019996</td>\n",
       "      <td>-0.014217</td>\n",
       "      <td>-0.022042</td>\n",
       "      <td>0.163980</td>\n",
       "      <td>-0.010909</td>\n",
       "      <td>0.517727</td>\n",
       "      <td>1.000000</td>\n",
       "      <td>0.004429</td>\n",
       "    </tr>\n",
       "    <tr>\n",
       "      <th>total_sales</th>\n",
       "      <td>-0.128350</td>\n",
       "      <td>0.909843</td>\n",
       "      <td>0.927912</td>\n",
       "      <td>0.404741</td>\n",
       "      <td>0.922396</td>\n",
       "      <td>0.306516</td>\n",
       "      <td>0.004429</td>\n",
       "      <td>1.000000</td>\n",
       "    </tr>\n",
       "  </tbody>\n",
       "</table>\n",
       "</div>"
      ],
      "text/plain": [
       "                 year_of_release  na_sales  eu_sales  jp_sales  other_sales  \\\n",
       "year_of_release         1.000000 -0.144179 -0.081823 -0.104177    -0.091386   \n",
       "na_sales               -0.144179  1.000000  0.719814  0.249276     0.762570   \n",
       "eu_sales               -0.081823  0.719814  1.000000  0.284713     0.930867   \n",
       "jp_sales               -0.104177  0.249276  0.284713  1.000000     0.244057   \n",
       "other_sales            -0.091386  0.762570  0.930867  0.244057     1.000000   \n",
       "critic_score            0.017716  0.288522  0.281959  0.115022     0.271063   \n",
       "user_score             -0.019996 -0.014217 -0.022042  0.163980    -0.010909   \n",
       "total_sales            -0.128350  0.909843  0.927912  0.404741     0.922396   \n",
       "\n",
       "                 critic_score  user_score  total_sales  \n",
       "year_of_release      0.017716   -0.019996    -0.128350  \n",
       "na_sales             0.288522   -0.014217     0.909843  \n",
       "eu_sales             0.281959   -0.022042     0.927912  \n",
       "jp_sales             0.115022    0.163980     0.404741  \n",
       "other_sales          0.271063   -0.010909     0.922396  \n",
       "critic_score         1.000000    0.517727     0.306516  \n",
       "user_score           0.517727    1.000000     0.004429  \n",
       "total_sales          0.306516    0.004429     1.000000  "
      ]
     },
     "execution_count": 47,
     "metadata": {},
     "output_type": "execute_result"
    }
   ],
   "source": [
    "dfa.corr()"
   ]
  },
  {
   "cell_type": "markdown",
   "id": "e8219891",
   "metadata": {},
   "source": [
    "В среднем корреляция между оценкой критиков и продажами чуть меньше чем корреляция на X360, зато оценки пользователей в среднем по платформам влияют на продажи больше, чем на X360."
   ]
  },
  {
   "cell_type": "code",
   "execution_count": 48,
   "id": "baef6d0c",
   "metadata": {},
   "outputs": [
    {
     "data": {
      "text/html": [
       "<div>\n",
       "<style scoped>\n",
       "    .dataframe tbody tr th:only-of-type {\n",
       "        vertical-align: middle;\n",
       "    }\n",
       "\n",
       "    .dataframe tbody tr th {\n",
       "        vertical-align: top;\n",
       "    }\n",
       "\n",
       "    .dataframe thead th {\n",
       "        text-align: right;\n",
       "    }\n",
       "</style>\n",
       "<table border=\"1\" class=\"dataframe\">\n",
       "  <thead>\n",
       "    <tr style=\"text-align: right;\">\n",
       "      <th></th>\n",
       "      <th>year_of_release</th>\n",
       "      <th>na_sales</th>\n",
       "      <th>eu_sales</th>\n",
       "      <th>jp_sales</th>\n",
       "      <th>other_sales</th>\n",
       "      <th>critic_score</th>\n",
       "      <th>user_score</th>\n",
       "      <th>total_sales</th>\n",
       "    </tr>\n",
       "  </thead>\n",
       "  <tbody>\n",
       "    <tr>\n",
       "      <th>year_of_release</th>\n",
       "      <td>1.000000</td>\n",
       "      <td>-0.082787</td>\n",
       "      <td>-0.086559</td>\n",
       "      <td>-0.033883</td>\n",
       "      <td>-0.078176</td>\n",
       "      <td>-0.048492</td>\n",
       "      <td>0.095125</td>\n",
       "      <td>-0.071661</td>\n",
       "    </tr>\n",
       "    <tr>\n",
       "      <th>na_sales</th>\n",
       "      <td>-0.082787</td>\n",
       "      <td>1.000000</td>\n",
       "      <td>0.931508</td>\n",
       "      <td>0.666101</td>\n",
       "      <td>0.991136</td>\n",
       "      <td>0.328829</td>\n",
       "      <td>-0.089111</td>\n",
       "      <td>0.939587</td>\n",
       "    </tr>\n",
       "    <tr>\n",
       "      <th>eu_sales</th>\n",
       "      <td>-0.086559</td>\n",
       "      <td>0.931508</td>\n",
       "      <td>1.000000</td>\n",
       "      <td>0.684292</td>\n",
       "      <td>0.963864</td>\n",
       "      <td>0.259721</td>\n",
       "      <td>-0.079927</td>\n",
       "      <td>0.940331</td>\n",
       "    </tr>\n",
       "    <tr>\n",
       "      <th>jp_sales</th>\n",
       "      <td>-0.033883</td>\n",
       "      <td>0.666101</td>\n",
       "      <td>0.684292</td>\n",
       "      <td>1.000000</td>\n",
       "      <td>0.680866</td>\n",
       "      <td>0.307799</td>\n",
       "      <td>0.052281</td>\n",
       "      <td>0.868770</td>\n",
       "    </tr>\n",
       "    <tr>\n",
       "      <th>other_sales</th>\n",
       "      <td>-0.078176</td>\n",
       "      <td>0.991136</td>\n",
       "      <td>0.963864</td>\n",
       "      <td>0.680866</td>\n",
       "      <td>1.000000</td>\n",
       "      <td>0.309119</td>\n",
       "      <td>-0.083814</td>\n",
       "      <td>0.951971</td>\n",
       "    </tr>\n",
       "    <tr>\n",
       "      <th>critic_score</th>\n",
       "      <td>-0.048492</td>\n",
       "      <td>0.328829</td>\n",
       "      <td>0.259721</td>\n",
       "      <td>0.307799</td>\n",
       "      <td>0.309119</td>\n",
       "      <td>1.000000</td>\n",
       "      <td>0.543210</td>\n",
       "      <td>0.320803</td>\n",
       "    </tr>\n",
       "    <tr>\n",
       "      <th>user_score</th>\n",
       "      <td>0.095125</td>\n",
       "      <td>-0.089111</td>\n",
       "      <td>-0.079927</td>\n",
       "      <td>0.052281</td>\n",
       "      <td>-0.083814</td>\n",
       "      <td>0.543210</td>\n",
       "      <td>1.000000</td>\n",
       "      <td>-0.037690</td>\n",
       "    </tr>\n",
       "    <tr>\n",
       "      <th>total_sales</th>\n",
       "      <td>-0.071661</td>\n",
       "      <td>0.939587</td>\n",
       "      <td>0.940331</td>\n",
       "      <td>0.868770</td>\n",
       "      <td>0.951971</td>\n",
       "      <td>0.320803</td>\n",
       "      <td>-0.037690</td>\n",
       "      <td>1.000000</td>\n",
       "    </tr>\n",
       "  </tbody>\n",
       "</table>\n",
       "</div>"
      ],
      "text/plain": [
       "                 year_of_release  na_sales  eu_sales  jp_sales  other_sales  \\\n",
       "year_of_release         1.000000 -0.082787 -0.086559 -0.033883    -0.078176   \n",
       "na_sales               -0.082787  1.000000  0.931508  0.666101     0.991136   \n",
       "eu_sales               -0.086559  0.931508  1.000000  0.684292     0.963864   \n",
       "jp_sales               -0.033883  0.666101  0.684292  1.000000     0.680866   \n",
       "other_sales            -0.078176  0.991136  0.963864  0.680866     1.000000   \n",
       "critic_score           -0.048492  0.328829  0.259721  0.307799     0.309119   \n",
       "user_score              0.095125 -0.089111 -0.079927  0.052281    -0.083814   \n",
       "total_sales            -0.071661  0.939587  0.940331  0.868770     0.951971   \n",
       "\n",
       "                 critic_score  user_score  total_sales  \n",
       "year_of_release     -0.048492    0.095125    -0.071661  \n",
       "na_sales             0.328829   -0.089111     0.939587  \n",
       "eu_sales             0.259721   -0.079927     0.940331  \n",
       "jp_sales             0.307799    0.052281     0.868770  \n",
       "other_sales          0.309119   -0.083814     0.951971  \n",
       "critic_score         1.000000    0.543210     0.320803  \n",
       "user_score           0.543210    1.000000    -0.037690  \n",
       "total_sales          0.320803   -0.037690     1.000000  "
      ]
     },
     "execution_count": 48,
     "metadata": {},
     "output_type": "execute_result"
    }
   ],
   "source": [
    "ds_3.corr()"
   ]
  },
  {
   "cell_type": "markdown",
   "id": "ae5bba96",
   "metadata": {},
   "source": [
    "На 3ds Оценки пользователей совсем не влияют на продажи, а оценки критиков влияют очень слабо"
   ]
  },
  {
   "cell_type": "code",
   "execution_count": 49,
   "id": "8e9ce9ce",
   "metadata": {},
   "outputs": [],
   "source": [
    "pc = df.loc[df['platform'] == 'PC']"
   ]
  },
  {
   "cell_type": "code",
   "execution_count": 50,
   "id": "8006ff1e",
   "metadata": {},
   "outputs": [
    {
     "data": {
      "text/html": [
       "<div>\n",
       "<style scoped>\n",
       "    .dataframe tbody tr th:only-of-type {\n",
       "        vertical-align: middle;\n",
       "    }\n",
       "\n",
       "    .dataframe tbody tr th {\n",
       "        vertical-align: top;\n",
       "    }\n",
       "\n",
       "    .dataframe thead th {\n",
       "        text-align: right;\n",
       "    }\n",
       "</style>\n",
       "<table border=\"1\" class=\"dataframe\">\n",
       "  <thead>\n",
       "    <tr style=\"text-align: right;\">\n",
       "      <th></th>\n",
       "      <th>year_of_release</th>\n",
       "      <th>na_sales</th>\n",
       "      <th>eu_sales</th>\n",
       "      <th>jp_sales</th>\n",
       "      <th>other_sales</th>\n",
       "      <th>critic_score</th>\n",
       "      <th>user_score</th>\n",
       "      <th>total_sales</th>\n",
       "    </tr>\n",
       "  </thead>\n",
       "  <tbody>\n",
       "    <tr>\n",
       "      <th>year_of_release</th>\n",
       "      <td>1.000000</td>\n",
       "      <td>0.005828</td>\n",
       "      <td>0.006330</td>\n",
       "      <td>0.004551</td>\n",
       "      <td>-0.012370</td>\n",
       "      <td>-0.003325</td>\n",
       "      <td>0.026580</td>\n",
       "      <td>0.005587</td>\n",
       "    </tr>\n",
       "    <tr>\n",
       "      <th>na_sales</th>\n",
       "      <td>0.005828</td>\n",
       "      <td>1.000000</td>\n",
       "      <td>0.406504</td>\n",
       "      <td>0.399241</td>\n",
       "      <td>0.393763</td>\n",
       "      <td>0.192117</td>\n",
       "      <td>0.038576</td>\n",
       "      <td>0.806029</td>\n",
       "    </tr>\n",
       "    <tr>\n",
       "      <th>eu_sales</th>\n",
       "      <td>0.006330</td>\n",
       "      <td>0.406504</td>\n",
       "      <td>1.000000</td>\n",
       "      <td>-0.015430</td>\n",
       "      <td>0.559366</td>\n",
       "      <td>0.222479</td>\n",
       "      <td>-0.017763</td>\n",
       "      <td>0.863323</td>\n",
       "    </tr>\n",
       "    <tr>\n",
       "      <th>jp_sales</th>\n",
       "      <td>0.004551</td>\n",
       "      <td>0.399241</td>\n",
       "      <td>-0.015430</td>\n",
       "      <td>1.000000</td>\n",
       "      <td>-0.015282</td>\n",
       "      <td>0.095064</td>\n",
       "      <td>0.035578</td>\n",
       "      <td>0.203516</td>\n",
       "    </tr>\n",
       "    <tr>\n",
       "      <th>other_sales</th>\n",
       "      <td>-0.012370</td>\n",
       "      <td>0.393763</td>\n",
       "      <td>0.559366</td>\n",
       "      <td>-0.015282</td>\n",
       "      <td>1.000000</td>\n",
       "      <td>0.209204</td>\n",
       "      <td>-0.064331</td>\n",
       "      <td>0.639056</td>\n",
       "    </tr>\n",
       "    <tr>\n",
       "      <th>critic_score</th>\n",
       "      <td>-0.003325</td>\n",
       "      <td>0.192117</td>\n",
       "      <td>0.222479</td>\n",
       "      <td>0.095064</td>\n",
       "      <td>0.209204</td>\n",
       "      <td>1.000000</td>\n",
       "      <td>0.527021</td>\n",
       "      <td>0.256887</td>\n",
       "    </tr>\n",
       "    <tr>\n",
       "      <th>user_score</th>\n",
       "      <td>0.026580</td>\n",
       "      <td>0.038576</td>\n",
       "      <td>-0.017763</td>\n",
       "      <td>0.035578</td>\n",
       "      <td>-0.064331</td>\n",
       "      <td>0.527021</td>\n",
       "      <td>1.000000</td>\n",
       "      <td>0.003301</td>\n",
       "    </tr>\n",
       "    <tr>\n",
       "      <th>total_sales</th>\n",
       "      <td>0.005587</td>\n",
       "      <td>0.806029</td>\n",
       "      <td>0.863323</td>\n",
       "      <td>0.203516</td>\n",
       "      <td>0.639056</td>\n",
       "      <td>0.256887</td>\n",
       "      <td>0.003301</td>\n",
       "      <td>1.000000</td>\n",
       "    </tr>\n",
       "  </tbody>\n",
       "</table>\n",
       "</div>"
      ],
      "text/plain": [
       "                 year_of_release  na_sales  eu_sales  jp_sales  other_sales  \\\n",
       "year_of_release         1.000000  0.005828  0.006330  0.004551    -0.012370   \n",
       "na_sales                0.005828  1.000000  0.406504  0.399241     0.393763   \n",
       "eu_sales                0.006330  0.406504  1.000000 -0.015430     0.559366   \n",
       "jp_sales                0.004551  0.399241 -0.015430  1.000000    -0.015282   \n",
       "other_sales            -0.012370  0.393763  0.559366 -0.015282     1.000000   \n",
       "critic_score           -0.003325  0.192117  0.222479  0.095064     0.209204   \n",
       "user_score              0.026580  0.038576 -0.017763  0.035578    -0.064331   \n",
       "total_sales             0.005587  0.806029  0.863323  0.203516     0.639056   \n",
       "\n",
       "                 critic_score  user_score  total_sales  \n",
       "year_of_release     -0.003325    0.026580     0.005587  \n",
       "na_sales             0.192117    0.038576     0.806029  \n",
       "eu_sales             0.222479   -0.017763     0.863323  \n",
       "jp_sales             0.095064    0.035578     0.203516  \n",
       "other_sales          0.209204   -0.064331     0.639056  \n",
       "critic_score         1.000000    0.527021     0.256887  \n",
       "user_score           0.527021    1.000000     0.003301  \n",
       "total_sales          0.256887    0.003301     1.000000  "
      ]
     },
     "execution_count": 50,
     "metadata": {},
     "output_type": "execute_result"
    }
   ],
   "source": [
    "pc.corr()"
   ]
  },
  {
   "cell_type": "markdown",
   "id": "300de87e",
   "metadata": {},
   "source": [
    "На pc Оценки пользователей совсем не влияют на продажи, а оценки критиков влияют ещё слабее чем на 3ds"
   ]
  },
  {
   "cell_type": "code",
   "execution_count": 51,
   "id": "0c70bdcb",
   "metadata": {},
   "outputs": [],
   "source": [
    "ps_4 = df.loc[df['platform'] == 'PS4']"
   ]
  },
  {
   "cell_type": "code",
   "execution_count": 52,
   "id": "7e40c7f2",
   "metadata": {},
   "outputs": [
    {
     "data": {
      "text/html": [
       "<div>\n",
       "<style scoped>\n",
       "    .dataframe tbody tr th:only-of-type {\n",
       "        vertical-align: middle;\n",
       "    }\n",
       "\n",
       "    .dataframe tbody tr th {\n",
       "        vertical-align: top;\n",
       "    }\n",
       "\n",
       "    .dataframe thead th {\n",
       "        text-align: right;\n",
       "    }\n",
       "</style>\n",
       "<table border=\"1\" class=\"dataframe\">\n",
       "  <thead>\n",
       "    <tr style=\"text-align: right;\">\n",
       "      <th></th>\n",
       "      <th>year_of_release</th>\n",
       "      <th>na_sales</th>\n",
       "      <th>eu_sales</th>\n",
       "      <th>jp_sales</th>\n",
       "      <th>other_sales</th>\n",
       "      <th>critic_score</th>\n",
       "      <th>user_score</th>\n",
       "      <th>total_sales</th>\n",
       "    </tr>\n",
       "  </thead>\n",
       "  <tbody>\n",
       "    <tr>\n",
       "      <th>year_of_release</th>\n",
       "      <td>1.000000</td>\n",
       "      <td>-0.248961</td>\n",
       "      <td>-0.208306</td>\n",
       "      <td>-0.060993</td>\n",
       "      <td>-0.234796</td>\n",
       "      <td>-0.021142</td>\n",
       "      <td>0.168788</td>\n",
       "      <td>-0.235032</td>\n",
       "    </tr>\n",
       "    <tr>\n",
       "      <th>na_sales</th>\n",
       "      <td>-0.248961</td>\n",
       "      <td>1.000000</td>\n",
       "      <td>0.785362</td>\n",
       "      <td>0.472981</td>\n",
       "      <td>0.944259</td>\n",
       "      <td>0.415008</td>\n",
       "      <td>-0.107729</td>\n",
       "      <td>0.928160</td>\n",
       "    </tr>\n",
       "    <tr>\n",
       "      <th>eu_sales</th>\n",
       "      <td>-0.208306</td>\n",
       "      <td>0.785362</td>\n",
       "      <td>1.000000</td>\n",
       "      <td>0.464563</td>\n",
       "      <td>0.944698</td>\n",
       "      <td>0.346720</td>\n",
       "      <td>-0.132775</td>\n",
       "      <td>0.958157</td>\n",
       "    </tr>\n",
       "    <tr>\n",
       "      <th>jp_sales</th>\n",
       "      <td>-0.060993</td>\n",
       "      <td>0.472981</td>\n",
       "      <td>0.464563</td>\n",
       "      <td>1.000000</td>\n",
       "      <td>0.496467</td>\n",
       "      <td>0.322358</td>\n",
       "      <td>0.144788</td>\n",
       "      <td>0.527129</td>\n",
       "    </tr>\n",
       "    <tr>\n",
       "      <th>other_sales</th>\n",
       "      <td>-0.234796</td>\n",
       "      <td>0.944259</td>\n",
       "      <td>0.944698</td>\n",
       "      <td>0.496467</td>\n",
       "      <td>1.000000</td>\n",
       "      <td>0.409191</td>\n",
       "      <td>-0.123621</td>\n",
       "      <td>0.998051</td>\n",
       "    </tr>\n",
       "    <tr>\n",
       "      <th>critic_score</th>\n",
       "      <td>-0.021142</td>\n",
       "      <td>0.415008</td>\n",
       "      <td>0.346720</td>\n",
       "      <td>0.322358</td>\n",
       "      <td>0.409191</td>\n",
       "      <td>1.000000</td>\n",
       "      <td>0.534148</td>\n",
       "      <td>0.406568</td>\n",
       "    </tr>\n",
       "    <tr>\n",
       "      <th>user_score</th>\n",
       "      <td>0.168788</td>\n",
       "      <td>-0.107729</td>\n",
       "      <td>-0.132775</td>\n",
       "      <td>0.144788</td>\n",
       "      <td>-0.123621</td>\n",
       "      <td>0.534148</td>\n",
       "      <td>1.000000</td>\n",
       "      <td>-0.119320</td>\n",
       "    </tr>\n",
       "    <tr>\n",
       "      <th>total_sales</th>\n",
       "      <td>-0.235032</td>\n",
       "      <td>0.928160</td>\n",
       "      <td>0.958157</td>\n",
       "      <td>0.527129</td>\n",
       "      <td>0.998051</td>\n",
       "      <td>0.406568</td>\n",
       "      <td>-0.119320</td>\n",
       "      <td>1.000000</td>\n",
       "    </tr>\n",
       "  </tbody>\n",
       "</table>\n",
       "</div>"
      ],
      "text/plain": [
       "                 year_of_release  na_sales  eu_sales  jp_sales  other_sales  \\\n",
       "year_of_release         1.000000 -0.248961 -0.208306 -0.060993    -0.234796   \n",
       "na_sales               -0.248961  1.000000  0.785362  0.472981     0.944259   \n",
       "eu_sales               -0.208306  0.785362  1.000000  0.464563     0.944698   \n",
       "jp_sales               -0.060993  0.472981  0.464563  1.000000     0.496467   \n",
       "other_sales            -0.234796  0.944259  0.944698  0.496467     1.000000   \n",
       "critic_score           -0.021142  0.415008  0.346720  0.322358     0.409191   \n",
       "user_score              0.168788 -0.107729 -0.132775  0.144788    -0.123621   \n",
       "total_sales            -0.235032  0.928160  0.958157  0.527129     0.998051   \n",
       "\n",
       "                 critic_score  user_score  total_sales  \n",
       "year_of_release     -0.021142    0.168788    -0.235032  \n",
       "na_sales             0.415008   -0.107729     0.928160  \n",
       "eu_sales             0.346720   -0.132775     0.958157  \n",
       "jp_sales             0.322358    0.144788     0.527129  \n",
       "other_sales          0.409191   -0.123621     0.998051  \n",
       "critic_score         1.000000    0.534148     0.406568  \n",
       "user_score           0.534148    1.000000    -0.119320  \n",
       "total_sales          0.406568   -0.119320     1.000000  "
      ]
     },
     "execution_count": 52,
     "metadata": {},
     "output_type": "execute_result"
    }
   ],
   "source": [
    "ps_4.corr()"
   ]
  },
  {
   "cell_type": "markdown",
   "id": "c2ba4916",
   "metadata": {},
   "source": [
    "На PS4 Оценки пользователей имееют очень слабую отрицательную корреляцию с продажами, то есть при хорошей оценке продажи даже чуть хуже, а оценки критиков влияют сильнее чем на других платформах"
   ]
  },
  {
   "cell_type": "code",
   "execution_count": 120,
   "id": "a910f9f9",
   "metadata": {},
   "outputs": [
    {
     "data": {
      "image/png": "[encoded data removed]",
      "text/plain": [
       "<Figure size 432x288 with 1 Axes>"
      ]
     },
     "metadata": {
      "needs_background": "light"
     },
     "output_type": "display_data"
    }
   ],
   "source": [
    "dfa.groupby('genre')['total_sales'].sum().sort_values().plot(kind='bar')\n",
    "plt.title('Продажи по жанрам')\n",
    "plt.xlabel('жанр')\n",
    "plt.ylabel('кол-во');"
   ]
  },
  {
   "cell_type": "markdown",
   "id": "6bd2f1b6",
   "metadata": {},
   "source": [
    "Лучше всего продаются Экшены, Шутеры, РПГ и спортивные игры, а хуже всего паззлы, стратегии, приключения и симуляторы."
   ]
  },
  {
   "cell_type": "code",
   "execution_count": 123,
   "id": "95315cab",
   "metadata": {},
   "outputs": [
    {
     "data": {
      "image/png": "[encoded data removed]",
      "text/plain": [
       "<Figure size 432x288 with 1 Axes>"
      ]
     },
     "metadata": {
      "needs_background": "light"
     },
     "output_type": "display_data"
    }
   ],
   "source": [
    "dfa.groupby('genre')['year_of_release'].count().sort_values().plot(kind='bar')\n",
    "plt.title('Кол-во игр - представителей каждого жанра')\n",
    "plt.xlabel('жанр')\n",
    "plt.ylabel('кол-во');"
   ]
  },
  {
   "cell_type": "markdown",
   "id": "ba505440",
   "metadata": {},
   "source": [
    "Количество экшнов сильно превышает количество игр в остальных жанрах, будем смотреть медианные продажи\n"
   ]
  },
  {
   "cell_type": "code",
   "execution_count": 124,
   "id": "1721d822",
   "metadata": {},
   "outputs": [
    {
     "data": {
      "image/png": "[encoded data removed]",
      "text/plain": [
       "<Figure size 432x288 with 1 Axes>"
      ]
     },
     "metadata": {
      "needs_background": "light"
     },
     "output_type": "display_data"
    }
   ],
   "source": [
    "dfa.groupby('genre')['total_sales'].median().sort_values().plot(kind='bar')\n",
    "plt.title('Медианные продажи по жанрам')\n",
    "plt.xlabel('жанр')\n",
    "plt.ylabel('кол-во');"
   ]
  },
  {
   "cell_type": "markdown",
   "id": "3838616a",
   "metadata": {},
   "source": [
    "Всё таки лучше всего продаются Шутеры, спортивные игры и платформеры, за ними идут рпг, гонки и файтинги. Экшны по мединным продажам далеко в конце."
   ]
  },
  {
   "cell_type": "markdown",
   "id": "23b7bf9c",
   "metadata": {},
   "source": [
    "# ШАГ 4 Портрет пользователя каждого региона"
   ]
  },
  {
   "cell_type": "code",
   "execution_count": 126,
   "id": "82239e4c",
   "metadata": {},
   "outputs": [
    {
     "data": {
      "image/png": "[encoded data removed]",
      "text/plain": [
       "<Figure size 432x288 with 1 Axes>"
      ]
     },
     "metadata": {},
     "output_type": "display_data"
    }
   ],
   "source": [
    "dfa.groupby('platform')['na_sales'].sum().sort_values().plot(kind='pie',autopct='%1.1f%%')\n",
    "plt.title('Продажи в Северной Америке по платформам');"
   ]
  },
  {
   "cell_type": "markdown",
   "id": "cca40930",
   "metadata": {},
   "source": [
    "В Северной Америке лидером по продажам является X360, за ним следуют PS4 и PS3, четвертое место за XOne и замыкает пятёрку 3DS."
   ]
  },
  {
   "cell_type": "code",
   "execution_count": 127,
   "id": "d6c95e7e",
   "metadata": {},
   "outputs": [
    {
     "data": {
      "image/png": "[encoded data removed]",
      "text/plain": [
       "<Figure size 432x288 with 1 Axes>"
      ]
     },
     "metadata": {},
     "output_type": "display_data"
    }
   ],
   "source": [
    "dfa.groupby('platform')['eu_sales'].sum().sort_values().plot(kind='pie',autopct='%1.1f%%')\n",
    "plt.title('Продажи в Европе по платформам');"
   ]
  },
  {
   "cell_type": "markdown",
   "id": "fd55f9e7",
   "metadata": {},
   "source": [
    "В Европе лидерами по продажам являетсю PS4 и PS3, за ними следует X360 и XOne и замыкает пятёрку 3DS."
   ]
  },
  {
   "cell_type": "code",
   "execution_count": 128,
   "id": "1c20842d",
   "metadata": {},
   "outputs": [
    {
     "data": {
      "image/png": "[encoded data removed]",
      "text/plain": [
       "<Figure size 432x288 with 1 Axes>"
      ]
     },
     "metadata": {},
     "output_type": "display_data"
    }
   ],
   "source": [
    "dfa.groupby('platform')['jp_sales'].sum().sort_values().plot(kind='pie',autopct='%1.1f%%')\n",
    "plt.title('Продажи в Японии по платформам');"
   ]
  },
  {
   "cell_type": "markdown",
   "id": "3eecd482",
   "metadata": {},
   "source": [
    "В Японии безоговорочным лидером является 3DS, за ним следуют PS3 и PSV и замыкает пятёрку PS4."
   ]
  },
  {
   "cell_type": "code",
   "execution_count": 130,
   "id": "559284c0",
   "metadata": {},
   "outputs": [
    {
     "data": {
      "image/png": "[encoded data removed]",
      "text/plain": [
       "<Figure size 576x576 with 1 Axes>"
      ]
     },
     "metadata": {},
     "output_type": "display_data"
    }
   ],
   "source": [
    "dfa.groupby('genre')['na_sales'].sum().sort_values().plot(kind='pie', figsize=(8,8),autopct='%1.1f%%')\n",
    "plt.title('Продажи в Северной Америке по жанрам');"
   ]
  },
  {
   "cell_type": "markdown",
   "id": "c7ec6fd8",
   "metadata": {},
   "source": [
    "В Северной Америке пользователи больше всего предпочитают играть в Экшны, Шутеры и спортивные игры. А замыкают топ 5 РПГ и смешанные жанры."
   ]
  },
  {
   "cell_type": "code",
   "execution_count": 131,
   "id": "485b140a",
   "metadata": {},
   "outputs": [
    {
     "data": {
      "image/png": "[encoded data removed]",
      "text/plain": [
       "<Figure size 576x576 with 1 Axes>"
      ]
     },
     "metadata": {},
     "output_type": "display_data"
    }
   ],
   "source": [
    "dfa.groupby('genre')['eu_sales'].sum().sort_values().plot(kind='pie', figsize=(8,8),autopct='%1.1f%%')\n",
    "plt.title('Продажи в Европе по жанрам');"
   ]
  },
  {
   "cell_type": "markdown",
   "id": "4aa5699e",
   "metadata": {},
   "source": [
    "В Европе картина похожая, с небольшим лишь различие на 5 месте, вместо смешанных жанров европейцы предпочитают гонки."
   ]
  },
  {
   "cell_type": "code",
   "execution_count": 132,
   "id": "19528f8b",
   "metadata": {},
   "outputs": [
    {
     "data": {
      "image/png": "[encoded data removed]",
      "text/plain": [
       "<Figure size 576x576 with 1 Axes>"
      ]
     },
     "metadata": {},
     "output_type": "display_data"
    }
   ],
   "source": [
    "dfa.groupby('genre')['jp_sales'].sum().sort_values().plot(kind='pie', figsize=(8,8),autopct='%1.1f%%')\n",
    "plt.title('Продажи в Японии по жанрам');"
   ]
  },
  {
   "cell_type": "markdown",
   "id": "79c3ec6c",
   "metadata": {},
   "source": [
    "У японцев на первом месте ролевые игры, на втором экшны, третье место занимают игры смешанных жанров, а замыкают пятёрку симуляторы и файтинги. Такое различие наверняка связано с популярностью разных игровых платформам и удобствами игры на них в определенные жанры."
   ]
  },
  {
   "cell_type": "code",
   "execution_count": 134,
   "id": "78c811cf",
   "metadata": {},
   "outputs": [
    {
     "data": {
      "image/png": "[encoded data removed]",
      "text/plain": [
       "<Figure size 432x288 with 1 Axes>"
      ]
     },
     "metadata": {
      "needs_background": "light"
     },
     "output_type": "display_data"
    }
   ],
   "source": [
    "dfa.groupby('rating')['na_sales'].sum().plot(kind='bar')\n",
    "plt.title('Продажи в Северной Америке по возрастным рейтингам')\n",
    "plt.xlabel('рейтинг')\n",
    "plt.ylabel('кол-во');"
   ]
  },
  {
   "cell_type": "markdown",
   "id": "07e4970a",
   "metadata": {},
   "source": [
    "В Северной Америке наибольшая доля продаж приходится на игры для взрослых, следом идут игры без ограничения по возрасту и игры с неопределённой категорией, а за ними 10+ и тинейджеры."
   ]
  },
  {
   "cell_type": "code",
   "execution_count": 135,
   "id": "a5ab8797",
   "metadata": {},
   "outputs": [
    {
     "data": {
      "image/png": "[encoded data removed]",
      "text/plain": [
       "<Figure size 432x288 with 1 Axes>"
      ]
     },
     "metadata": {
      "needs_background": "light"
     },
     "output_type": "display_data"
    }
   ],
   "source": [
    "dfa.groupby('rating')['eu_sales'].sum().plot(kind='bar')\n",
    "plt.title('Продажи в Европе по возрастным рейтингам')\n",
    "plt.xlabel('рейтинг')\n",
    "plt.ylabel('кол-во');"
   ]
  },
  {
   "cell_type": "markdown",
   "id": "19eaee10",
   "metadata": {},
   "source": [
    "В Европе наибольшая доля продаж приходится на игры для взрослых, следом идут игры без ограничения по возрасту и игры без категории, а за ними 10+ и тинейджеры."
   ]
  },
  {
   "cell_type": "code",
   "execution_count": 136,
   "id": "108b8ecb",
   "metadata": {},
   "outputs": [
    {
     "data": {
      "image/png": "[encoded data removed]",
      "text/plain": [
       "<Figure size 432x288 with 1 Axes>"
      ]
     },
     "metadata": {
      "needs_background": "light"
     },
     "output_type": "display_data"
    }
   ],
   "source": [
    "dfa.groupby('rating')['jp_sales'].sum().plot(kind='bar')\n",
    "plt.title('Продажи в Японии по возрастным рейтингам')\n",
    "plt.xlabel('рейтинг')\n",
    "plt.ylabel('кол-во');"
   ]
  },
  {
   "cell_type": "markdown",
   "id": "c00a55f9",
   "metadata": {},
   "source": [
    "В Японии наибольшая доля продаж приходится на игры не оценённые возрастным рейтингом, остальыне все продаются практически одинаково, меньше всего игры для детей 10+"
   ]
  },
  {
   "cell_type": "markdown",
   "id": "c1774283",
   "metadata": {},
   "source": [
    "# Шаг 5 Проверка Гипотез"
   ]
  },
  {
   "cell_type": "markdown",
   "id": "daa23867",
   "metadata": {},
   "source": [
    "Нулевая гипотеза - Средние пользовательские рейтинги платформ Xbox One и PC одинаковые. Альтернативная гипотеза  - рейтинги отличаются"
   ]
  },
  {
   "cell_type": "code",
   "execution_count": 65,
   "id": "09661ac5",
   "metadata": {},
   "outputs": [],
   "source": [
    "array_1 = dfa.loc[dfa['platform'] == 'XOne']"
   ]
  },
  {
   "cell_type": "code",
   "execution_count": 66,
   "id": "285a1a54",
   "metadata": {},
   "outputs": [],
   "source": [
    "array_2 = dfa.loc[dfa['platform'] == 'PC']"
   ]
  },
  {
   "cell_type": "code",
   "execution_count": 67,
   "id": "a1e0aa7e",
   "metadata": {},
   "outputs": [],
   "source": [
    "alpha = 0.01"
   ]
  },
  {
   "cell_type": "code",
   "execution_count": 68,
   "id": "beab8ef3",
   "metadata": {},
   "outputs": [
    {
     "name": "stdout",
     "output_type": "stream",
     "text": [
      "p-значение:  0.5535080500643661\n",
      "Гипотезу отвергнуть не получилось - рейтинги одинаковые\n"
     ]
    }
   ],
   "source": [
    "results = st.ttest_ind(array_1['user_score'], array_2['user_score'])\n",
    "print('p-значение: ', results.pvalue)\n",
    "if alpha > results.pvalue:\n",
    "    print('Отвергаем нулевую гипотезу, рейтинги отличаются')\n",
    "else:\n",
    "    print('Гипотезу отвергнуть не получилось - рейтинги одинаковые')"
   ]
  },
  {
   "cell_type": "code",
   "execution_count": 69,
   "id": "0b4a0ac6",
   "metadata": {},
   "outputs": [
    {
     "data": {
      "text/plain": [
       "6.521428571428572"
      ]
     },
     "execution_count": 69,
     "metadata": {},
     "output_type": "execute_result"
    }
   ],
   "source": [
    "array_1['user_score'].mean()"
   ]
  },
  {
   "cell_type": "code",
   "execution_count": 70,
   "id": "4d9a9841",
   "metadata": {},
   "outputs": [
    {
     "data": {
      "text/plain": [
       "6.4286407766990274"
      ]
     },
     "execution_count": 70,
     "metadata": {},
     "output_type": "execute_result"
    }
   ],
   "source": [
    "array_2['user_score'].mean()"
   ]
  },
  {
   "cell_type": "markdown",
   "id": "d6cfb50a",
   "metadata": {},
   "source": [
    "Нулевая гипотеза - средние пользовательские рейтинги жанров Action и Sports равны. Соответсвенно проверяем альтернативную гипотезу, о том что рейтинги отличаются."
   ]
  },
  {
   "cell_type": "code",
   "execution_count": 71,
   "id": "4191fbc3",
   "metadata": {},
   "outputs": [],
   "source": [
    "array_3 = dfa.loc[dfa['genre'] == 'Action']"
   ]
  },
  {
   "cell_type": "code",
   "execution_count": 72,
   "id": "2ffb604f",
   "metadata": {},
   "outputs": [],
   "source": [
    "array_4 = dfa.loc[dfa['genre'] == 'Sports']"
   ]
  },
  {
   "cell_type": "code",
   "execution_count": 73,
   "id": "15fc2c62",
   "metadata": {},
   "outputs": [
    {
     "name": "stdout",
     "output_type": "stream",
     "text": [
      "p-значение:  3.7163089460934874e-26\n",
      "Нулевую гипотезу отвеграем\n"
     ]
    }
   ],
   "source": [
    "results = st.ttest_ind(array_3['user_score'], array_4['user_score'])\n",
    "print('p-значение: ', results.pvalue)\n",
    "if alpha > results.pvalue:\n",
    "    print('Нулевую гипотезу отвеграем')\n",
    "else:\n",
    "    print('Гипотезу отвергнуть не получилось')"
   ]
  },
  {
   "cell_type": "markdown",
   "id": "a5690011",
   "metadata": {},
   "source": [
    "Сответственно альтернативную гипотезу о том, что рейтинги отличаются мы подтверждаем."
   ]
  },
  {
   "cell_type": "code",
   "execution_count": 74,
   "id": "5f61d5ed",
   "metadata": {},
   "outputs": [
    {
     "data": {
      "text/plain": [
       "6.825047801147227"
      ]
     },
     "execution_count": 74,
     "metadata": {},
     "output_type": "execute_result"
    }
   ],
   "source": [
    "array_3['user_score'].mean()"
   ]
  },
  {
   "cell_type": "code",
   "execution_count": 75,
   "id": "8f4ba349",
   "metadata": {},
   "outputs": [
    {
     "data": {
      "text/plain": [
       "5.455897435897437"
      ]
     },
     "execution_count": 75,
     "metadata": {},
     "output_type": "execute_result"
    }
   ],
   "source": [
    "array_4['user_score'].mean()"
   ]
  },
  {
   "cell_type": "markdown",
   "id": "5e31053f",
   "metadata": {},
   "source": [
    "# ШАГ 6 Общий вывод"
   ]
  },
  {
   "cell_type": "markdown",
   "id": "3a3dacd8",
   "metadata": {},
   "source": [
    "   \n",
    "   До 95 года игр выходило очень мало и данные за этот период не важны, так же есть аномалия на 0 из-за того что мы заполняли им пропуски, этими данными тоже можно пренебречь. Новые платформы появляются примерно раз в 5 лет, а устаревают за 10. За период с 2012 лидирует по продажам PS4 и при этом доля продаж этой приставки растёт, 3DS, PS3 и X360 теряют долю продаж, доля XOne  также растёт.\n",
    "\n",
    "   Рекордсмен по продажам (хитовым играм продающимся самым большим тиражом) PS3, за ним с отрывом в 5 миллионов идет X360, а третье место на двоих заняли PS4 и 3DS. Меньше всего денег собрали PSP, DS и PSV. Игры имеющая самый высокие оценки критиков показывает наибольшие продажи, но при этом много игр с хорошей оценкой плохо продаётся. По оценкам пользователей самая продаваемая игра не заслужила наивысших оценок. Есть игры хуже продащиеся, но с более высокой оценкой.      \n",
    "   \n",
    "   Продажи на X360 имеют слабую корреляцию с оценками критиков и почти не зависят от оценок пользователей. В среднем корреляция между оценкой критиков и продажами чуть меньше, чем корреляция на X360, зато оценки пользователей в среднем по платформам влияют на продажи больше, чем на X360. Лучше всего продаются Экшены, Шутеры, РПГ и спортивные игры, а хуже всего паззлы, стратегии, приключения и симуляторы.                  \n",
    "   \n",
    "   \n",
    "В Северной Америке лидером по продажам является X360, за ним следуют PS4 и PS3, четвертое место за XOne и замыкает пятёрку 3DS. В Европе лидерами по продажам являетсю PS4 и PS3, за ними следует X360 и XOne и замыкает пятёрку 3DS. В Японии поддерживают отечественного производителя - безоговорочным лидером является 3DS, за ним следуют PS3 и PSV и замыкает пятёрку PS4.    \n",
    "\n",
    "\n",
    "В Северной Америке пользователи больше всего предпочитают играть в Экшны, Шутеры и спортивные игры. А замыкают топ 5 РПГ и смешанные жанры. В Европе картина похожая, с небольшим лишь различием в конце списка, вместо смешанных жанров европейцы предпочитают гонки. У японцев на первом месте ролевые игры, на втором экшны, третье место занимают игры смешанных жанров, а замыкают пятёрку симуляторы и файтинги. Такое различие наверняка связано с популярностью разных игровых платформам и удобствами игры на них в определенные жанры.                                  \n",
    "\n",
    "\n",
    "В Северной Америке наибольшая доля продаж приходится на игры ценённые ESRB как игры для взрослых, следом идут игры без ограничения по возрасту, а за ними 10+ и тинейджеры. В Европе наибольшая доля продаж приходится на игры для взрослых, следом идут игры без ограничения по возрасту, а за ними 10+ и тинейджеры. В Японии наибольшая доля продаж приходится на игры без ограничения по возрасту, следом идут игры разрешенные тинейджерам и только потом игры для взрослых и детей старше 10 лет.   \n",
    "\n",
    "\n",
    "Средние пользовательские рейтинги платформ Xbox One и PC различаются как и средние пользовательские рейтинги жанров Action и Sports."
   ]
  }
 ],
 "metadata": {
  "ExecuteTimeLog": [
   {
    "duration": 419,
    "start_time": "2022-11-30T08:31:20.013Z"
   },
   {
    "duration": 96,
    "start_time": "2022-11-30T08:31:20.434Z"
   },
   {
    "duration": 0,
    "start_time": "2022-11-30T08:31:20.533Z"
   },
   {
    "duration": 0,
    "start_time": "2022-11-30T08:31:20.534Z"
   },
   {
    "duration": 0,
    "start_time": "2022-11-30T08:31:20.535Z"
   },
   {
    "duration": 0,
    "start_time": "2022-11-30T08:31:20.536Z"
   },
   {
    "duration": 0,
    "start_time": "2022-11-30T08:31:20.537Z"
   },
   {
    "duration": 0,
    "start_time": "2022-11-30T08:31:20.538Z"
   },
   {
    "duration": 0,
    "start_time": "2022-11-30T08:31:20.539Z"
   },
   {
    "duration": 0,
    "start_time": "2022-11-30T08:31:20.540Z"
   },
   {
    "duration": 0,
    "start_time": "2022-11-30T08:31:20.541Z"
   },
   {
    "duration": 0,
    "start_time": "2022-11-30T08:31:20.542Z"
   },
   {
    "duration": 0,
    "start_time": "2022-11-30T08:31:20.543Z"
   },
   {
    "duration": 0,
    "start_time": "2022-11-30T08:31:20.544Z"
   },
   {
    "duration": 0,
    "start_time": "2022-11-30T08:31:20.545Z"
   },
   {
    "duration": 0,
    "start_time": "2022-11-30T08:31:20.546Z"
   },
   {
    "duration": 0,
    "start_time": "2022-11-30T08:31:20.547Z"
   },
   {
    "duration": 0,
    "start_time": "2022-11-30T08:31:20.548Z"
   },
   {
    "duration": 0,
    "start_time": "2022-11-30T08:31:20.549Z"
   },
   {
    "duration": 0,
    "start_time": "2022-11-30T08:31:20.550Z"
   },
   {
    "duration": 0,
    "start_time": "2022-11-30T08:31:20.551Z"
   },
   {
    "duration": 0,
    "start_time": "2022-11-30T08:31:20.552Z"
   },
   {
    "duration": 0,
    "start_time": "2022-11-30T08:31:20.553Z"
   },
   {
    "duration": 0,
    "start_time": "2022-11-30T08:31:20.554Z"
   },
   {
    "duration": 0,
    "start_time": "2022-11-30T08:31:20.556Z"
   },
   {
    "duration": 0,
    "start_time": "2022-11-30T08:31:20.556Z"
   },
   {
    "duration": 0,
    "start_time": "2022-11-30T08:31:20.558Z"
   },
   {
    "duration": 0,
    "start_time": "2022-11-30T08:31:20.559Z"
   },
   {
    "duration": 0,
    "start_time": "2022-11-30T08:31:20.560Z"
   },
   {
    "duration": 0,
    "start_time": "2022-11-30T08:31:20.560Z"
   },
   {
    "duration": 0,
    "start_time": "2022-11-30T08:31:20.561Z"
   },
   {
    "duration": 0,
    "start_time": "2022-11-30T08:31:20.562Z"
   },
   {
    "duration": 0,
    "start_time": "2022-11-30T08:31:20.563Z"
   },
   {
    "duration": 0,
    "start_time": "2022-11-30T08:31:20.564Z"
   },
   {
    "duration": 0,
    "start_time": "2022-11-30T08:31:20.565Z"
   },
   {
    "duration": 0,
    "start_time": "2022-11-30T08:31:20.566Z"
   },
   {
    "duration": 0,
    "start_time": "2022-11-30T08:31:20.567Z"
   },
   {
    "duration": 0,
    "start_time": "2022-11-30T08:31:20.613Z"
   },
   {
    "duration": 0,
    "start_time": "2022-11-30T08:31:20.614Z"
   },
   {
    "duration": 0,
    "start_time": "2022-11-30T08:31:20.615Z"
   },
   {
    "duration": 0,
    "start_time": "2022-11-30T08:31:20.616Z"
   },
   {
    "duration": 0,
    "start_time": "2022-11-30T08:31:20.617Z"
   },
   {
    "duration": 0,
    "start_time": "2022-11-30T08:31:20.618Z"
   },
   {
    "duration": 0,
    "start_time": "2022-11-30T08:31:20.619Z"
   },
   {
    "duration": 0,
    "start_time": "2022-11-30T08:31:20.619Z"
   },
   {
    "duration": 1,
    "start_time": "2022-11-30T08:31:20.620Z"
   },
   {
    "duration": 0,
    "start_time": "2022-11-30T08:31:20.621Z"
   },
   {
    "duration": 0,
    "start_time": "2022-11-30T08:31:20.622Z"
   },
   {
    "duration": 0,
    "start_time": "2022-11-30T08:31:20.624Z"
   },
   {
    "duration": 0,
    "start_time": "2022-11-30T08:31:20.624Z"
   },
   {
    "duration": 0,
    "start_time": "2022-11-30T08:31:20.625Z"
   },
   {
    "duration": 0,
    "start_time": "2022-11-30T08:31:20.628Z"
   },
   {
    "duration": 0,
    "start_time": "2022-11-30T08:31:20.628Z"
   },
   {
    "duration": 0,
    "start_time": "2022-11-30T08:31:20.629Z"
   },
   {
    "duration": 0,
    "start_time": "2022-11-30T08:31:20.630Z"
   },
   {
    "duration": 0,
    "start_time": "2022-11-30T08:31:20.631Z"
   },
   {
    "duration": 0,
    "start_time": "2022-11-30T08:31:20.632Z"
   },
   {
    "duration": 0,
    "start_time": "2022-11-30T08:31:20.633Z"
   },
   {
    "duration": 0,
    "start_time": "2022-11-30T08:31:20.634Z"
   },
   {
    "duration": 0,
    "start_time": "2022-11-30T08:31:20.635Z"
   },
   {
    "duration": 0,
    "start_time": "2022-11-30T08:31:20.635Z"
   },
   {
    "duration": 0,
    "start_time": "2022-11-30T08:31:20.636Z"
   },
   {
    "duration": 409,
    "start_time": "2022-11-30T08:32:52.007Z"
   },
   {
    "duration": 175,
    "start_time": "2022-11-30T08:32:52.418Z"
   },
   {
    "duration": 16,
    "start_time": "2022-11-30T08:32:52.594Z"
   },
   {
    "duration": 22,
    "start_time": "2022-11-30T08:32:52.612Z"
   },
   {
    "duration": 10,
    "start_time": "2022-11-30T08:32:52.636Z"
   },
   {
    "duration": 4,
    "start_time": "2022-11-30T08:32:52.648Z"
   },
   {
    "duration": 22,
    "start_time": "2022-11-30T08:32:52.653Z"
   },
   {
    "duration": 4,
    "start_time": "2022-11-30T08:32:52.676Z"
   },
   {
    "duration": 32,
    "start_time": "2022-11-30T08:32:52.681Z"
   },
   {
    "duration": 21,
    "start_time": "2022-11-30T08:32:52.715Z"
   },
   {
    "duration": 4,
    "start_time": "2022-11-30T08:32:52.738Z"
   },
   {
    "duration": 21,
    "start_time": "2022-11-30T08:32:52.744Z"
   },
   {
    "duration": 6,
    "start_time": "2022-11-30T08:32:52.766Z"
   },
   {
    "duration": 15,
    "start_time": "2022-11-30T08:32:52.774Z"
   },
   {
    "duration": 23,
    "start_time": "2022-11-30T08:32:52.790Z"
   },
   {
    "duration": 689,
    "start_time": "2022-11-30T08:32:52.814Z"
   },
   {
    "duration": 245,
    "start_time": "2022-11-30T08:32:53.505Z"
   },
   {
    "duration": 6,
    "start_time": "2022-11-30T08:32:53.752Z"
   },
   {
    "duration": 229,
    "start_time": "2022-11-30T08:32:53.759Z"
   },
   {
    "duration": 5,
    "start_time": "2022-11-30T08:32:53.989Z"
   },
   {
    "duration": 158,
    "start_time": "2022-11-30T08:32:53.996Z"
   },
   {
    "duration": 5,
    "start_time": "2022-11-30T08:32:54.156Z"
   },
   {
    "duration": 169,
    "start_time": "2022-11-30T08:32:54.162Z"
   },
   {
    "duration": 5,
    "start_time": "2022-11-30T08:32:54.332Z"
   },
   {
    "duration": 166,
    "start_time": "2022-11-30T08:32:54.338Z"
   },
   {
    "duration": 8,
    "start_time": "2022-11-30T08:32:54.506Z"
   },
   {
    "duration": 183,
    "start_time": "2022-11-30T08:32:54.516Z"
   },
   {
    "duration": 10,
    "start_time": "2022-11-30T08:32:54.704Z"
   },
   {
    "duration": 162,
    "start_time": "2022-11-30T08:32:54.716Z"
   },
   {
    "duration": 5,
    "start_time": "2022-11-30T08:32:54.879Z"
   },
   {
    "duration": 8,
    "start_time": "2022-11-30T08:32:54.885Z"
   },
   {
    "duration": 127,
    "start_time": "2022-11-30T08:32:54.895Z"
   },
   {
    "duration": 151,
    "start_time": "2022-11-30T08:32:55.024Z"
   },
   {
    "duration": 280,
    "start_time": "2022-11-30T08:32:55.176Z"
   },
   {
    "duration": 5,
    "start_time": "2022-11-30T08:32:55.458Z"
   },
   {
    "duration": 168,
    "start_time": "2022-11-30T08:32:55.464Z"
   },
   {
    "duration": 206,
    "start_time": "2022-11-30T08:32:55.633Z"
   },
   {
    "duration": 5,
    "start_time": "2022-11-30T08:32:55.840Z"
   },
   {
    "duration": 17,
    "start_time": "2022-11-30T08:32:55.846Z"
   },
   {
    "duration": 15,
    "start_time": "2022-11-30T08:32:55.864Z"
   },
   {
    "duration": 160,
    "start_time": "2022-11-30T08:32:55.880Z"
   },
   {
    "duration": 120,
    "start_time": "2022-11-30T08:32:56.042Z"
   },
   {
    "duration": 123,
    "start_time": "2022-11-30T08:32:56.164Z"
   },
   {
    "duration": 125,
    "start_time": "2022-11-30T08:32:56.289Z"
   },
   {
    "duration": 160,
    "start_time": "2022-11-30T08:32:56.416Z"
   },
   {
    "duration": 157,
    "start_time": "2022-11-30T08:32:56.577Z"
   },
   {
    "duration": 158,
    "start_time": "2022-11-30T08:32:56.736Z"
   },
   {
    "duration": 130,
    "start_time": "2022-11-30T08:32:56.896Z"
   },
   {
    "duration": 128,
    "start_time": "2022-11-30T08:32:57.028Z"
   },
   {
    "duration": 108,
    "start_time": "2022-11-30T08:32:57.157Z"
   },
   {
    "duration": 4,
    "start_time": "2022-11-30T08:32:57.267Z"
   },
   {
    "duration": 8,
    "start_time": "2022-11-30T08:32:57.272Z"
   },
   {
    "duration": 519,
    "start_time": "2022-11-30T08:32:57.281Z"
   },
   {
    "duration": 3,
    "start_time": "2022-11-30T08:32:57.801Z"
   },
   {
    "duration": 14,
    "start_time": "2022-11-30T08:32:57.805Z"
   },
   {
    "duration": 14,
    "start_time": "2022-11-30T08:32:57.821Z"
   },
   {
    "duration": 8,
    "start_time": "2022-11-30T08:32:57.837Z"
   },
   {
    "duration": 6,
    "start_time": "2022-11-30T08:32:57.846Z"
   },
   {
    "duration": 11,
    "start_time": "2022-11-30T08:32:57.854Z"
   },
   {
    "duration": 7,
    "start_time": "2022-11-30T08:32:57.866Z"
   },
   {
    "duration": 6,
    "start_time": "2022-11-30T08:32:57.875Z"
   },
   {
    "duration": 8,
    "start_time": "2022-11-30T08:32:57.882Z"
   },
   {
    "duration": 135,
    "start_time": "2022-11-30T08:49:09.005Z"
   },
   {
    "duration": 1275,
    "start_time": "2022-12-07T09:17:03.843Z"
   },
   {
    "duration": 164,
    "start_time": "2022-12-07T09:17:05.120Z"
   },
   {
    "duration": 15,
    "start_time": "2022-12-07T09:17:05.286Z"
   },
   {
    "duration": 37,
    "start_time": "2022-12-07T09:17:05.303Z"
   },
   {
    "duration": 19,
    "start_time": "2022-12-07T09:17:05.342Z"
   },
   {
    "duration": 18,
    "start_time": "2022-12-07T09:17:05.363Z"
   },
   {
    "duration": 38,
    "start_time": "2022-12-07T09:17:05.382Z"
   },
   {
    "duration": 4,
    "start_time": "2022-12-07T09:17:05.422Z"
   },
   {
    "duration": 15,
    "start_time": "2022-12-07T09:17:05.427Z"
   },
   {
    "duration": 34,
    "start_time": "2022-12-07T09:17:05.444Z"
   },
   {
    "duration": 22,
    "start_time": "2022-12-07T09:17:05.479Z"
   },
   {
    "duration": 19,
    "start_time": "2022-12-07T09:17:05.503Z"
   },
   {
    "duration": 33,
    "start_time": "2022-12-07T09:17:05.523Z"
   },
   {
    "duration": 23,
    "start_time": "2022-12-07T09:17:05.557Z"
   },
   {
    "duration": 11,
    "start_time": "2022-12-07T09:17:05.581Z"
   },
   {
    "duration": 31,
    "start_time": "2022-12-07T09:17:05.593Z"
   },
   {
    "duration": 35,
    "start_time": "2022-12-07T09:17:05.627Z"
   },
   {
    "duration": 322,
    "start_time": "2022-12-07T09:17:05.663Z"
   },
   {
    "duration": 237,
    "start_time": "2022-12-07T09:17:05.986Z"
   },
   {
    "duration": 6,
    "start_time": "2022-12-07T09:17:06.225Z"
   },
   {
    "duration": 173,
    "start_time": "2022-12-07T09:17:06.232Z"
   },
   {
    "duration": 5,
    "start_time": "2022-12-07T09:17:06.406Z"
   },
   {
    "duration": 157,
    "start_time": "2022-12-07T09:17:06.412Z"
   },
   {
    "duration": 5,
    "start_time": "2022-12-07T09:17:06.570Z"
   },
   {
    "duration": 163,
    "start_time": "2022-12-07T09:17:06.576Z"
   },
   {
    "duration": 5,
    "start_time": "2022-12-07T09:17:06.740Z"
   },
   {
    "duration": 165,
    "start_time": "2022-12-07T09:17:06.746Z"
   },
   {
    "duration": 4,
    "start_time": "2022-12-07T09:17:06.915Z"
   },
   {
    "duration": 203,
    "start_time": "2022-12-07T09:17:06.921Z"
   },
   {
    "duration": 5,
    "start_time": "2022-12-07T09:17:07.126Z"
   },
   {
    "duration": 204,
    "start_time": "2022-12-07T09:17:07.133Z"
   },
   {
    "duration": 5,
    "start_time": "2022-12-07T09:17:07.339Z"
   },
   {
    "duration": 46,
    "start_time": "2022-12-07T09:17:07.346Z"
   },
   {
    "duration": 169,
    "start_time": "2022-12-07T09:17:07.394Z"
   },
   {
    "duration": 152,
    "start_time": "2022-12-07T09:17:07.565Z"
   },
   {
    "duration": 3,
    "start_time": "2022-12-07T09:17:07.719Z"
   },
   {
    "duration": 17,
    "start_time": "2022-12-07T09:17:07.724Z"
   },
   {
    "duration": 237,
    "start_time": "2022-12-07T09:17:07.742Z"
   },
   {
    "duration": 288,
    "start_time": "2022-12-07T09:17:07.982Z"
   },
   {
    "duration": 256,
    "start_time": "2022-12-07T09:17:08.272Z"
   },
   {
    "duration": 5,
    "start_time": "2022-12-07T09:17:08.530Z"
   },
   {
    "duration": 157,
    "start_time": "2022-12-07T09:17:08.536Z"
   },
   {
    "duration": 147,
    "start_time": "2022-12-07T09:17:08.698Z"
   },
   {
    "duration": 5,
    "start_time": "2022-12-07T09:17:08.847Z"
   },
   {
    "duration": 8,
    "start_time": "2022-12-07T09:17:08.853Z"
   },
   {
    "duration": 14,
    "start_time": "2022-12-07T09:17:08.863Z"
   },
   {
    "duration": 29,
    "start_time": "2022-12-07T09:17:08.879Z"
   },
   {
    "duration": 7,
    "start_time": "2022-12-07T09:17:08.910Z"
   },
   {
    "duration": 16,
    "start_time": "2022-12-07T09:17:08.919Z"
   },
   {
    "duration": 4,
    "start_time": "2022-12-07T09:17:08.937Z"
   },
   {
    "duration": 21,
    "start_time": "2022-12-07T09:17:08.943Z"
   },
   {
    "duration": 162,
    "start_time": "2022-12-07T09:17:08.966Z"
   },
   {
    "duration": 175,
    "start_time": "2022-12-07T09:17:09.130Z"
   },
   {
    "duration": 234,
    "start_time": "2022-12-07T09:17:09.307Z"
   },
   {
    "duration": 142,
    "start_time": "2022-12-07T09:17:09.543Z"
   },
   {
    "duration": 124,
    "start_time": "2022-12-07T09:17:09.687Z"
   },
   {
    "duration": 116,
    "start_time": "2022-12-07T09:17:09.812Z"
   },
   {
    "duration": 167,
    "start_time": "2022-12-07T09:17:09.930Z"
   },
   {
    "duration": 157,
    "start_time": "2022-12-07T09:17:10.099Z"
   },
   {
    "duration": 150,
    "start_time": "2022-12-07T09:17:10.257Z"
   },
   {
    "duration": 111,
    "start_time": "2022-12-07T09:17:10.408Z"
   },
   {
    "duration": 124,
    "start_time": "2022-12-07T09:17:10.520Z"
   },
   {
    "duration": 115,
    "start_time": "2022-12-07T09:17:10.646Z"
   },
   {
    "duration": 4,
    "start_time": "2022-12-07T09:17:10.762Z"
   },
   {
    "duration": 7,
    "start_time": "2022-12-07T09:17:10.768Z"
   },
   {
    "duration": 5,
    "start_time": "2022-12-07T09:17:10.777Z"
   },
   {
    "duration": 14,
    "start_time": "2022-12-07T09:17:10.784Z"
   },
   {
    "duration": 10,
    "start_time": "2022-12-07T09:17:10.799Z"
   },
   {
    "duration": 6,
    "start_time": "2022-12-07T09:17:10.811Z"
   },
   {
    "duration": 6,
    "start_time": "2022-12-07T09:17:10.819Z"
   },
   {
    "duration": 6,
    "start_time": "2022-12-07T09:17:10.827Z"
   },
   {
    "duration": 8,
    "start_time": "2022-12-07T09:17:10.835Z"
   },
   {
    "duration": 5,
    "start_time": "2022-12-07T09:17:10.844Z"
   },
   {
    "duration": 7,
    "start_time": "2022-12-07T09:17:10.850Z"
   },
   {
    "duration": 218,
    "start_time": "2022-12-07T09:20:26.983Z"
   },
   {
    "duration": 165,
    "start_time": "2022-12-07T09:20:30.656Z"
   },
   {
    "duration": 209,
    "start_time": "2022-12-07T09:20:40.880Z"
   },
   {
    "duration": 46,
    "start_time": "2022-12-07T09:37:10.305Z"
   },
   {
    "duration": 1167,
    "start_time": "2022-12-07T09:37:16.672Z"
   },
   {
    "duration": 198,
    "start_time": "2022-12-07T09:37:17.841Z"
   },
   {
    "duration": 17,
    "start_time": "2022-12-07T09:37:18.041Z"
   },
   {
    "duration": 23,
    "start_time": "2022-12-07T09:37:18.061Z"
   },
   {
    "duration": 10,
    "start_time": "2022-12-07T09:37:18.085Z"
   },
   {
    "duration": 4,
    "start_time": "2022-12-07T09:37:18.097Z"
   },
   {
    "duration": 40,
    "start_time": "2022-12-07T09:37:18.102Z"
   },
   {
    "duration": 4,
    "start_time": "2022-12-07T09:37:18.144Z"
   },
   {
    "duration": 14,
    "start_time": "2022-12-07T09:37:18.149Z"
   },
   {
    "duration": 24,
    "start_time": "2022-12-07T09:37:18.165Z"
   },
   {
    "duration": 6,
    "start_time": "2022-12-07T09:37:18.191Z"
   },
   {
    "duration": 20,
    "start_time": "2022-12-07T09:37:18.199Z"
   },
   {
    "duration": 28,
    "start_time": "2022-12-07T09:37:18.221Z"
   },
   {
    "duration": 22,
    "start_time": "2022-12-07T09:37:18.251Z"
   },
   {
    "duration": 10,
    "start_time": "2022-12-07T09:37:18.274Z"
   },
   {
    "duration": 28,
    "start_time": "2022-12-07T09:37:18.286Z"
   },
   {
    "duration": 13,
    "start_time": "2022-12-07T09:37:18.315Z"
   },
   {
    "duration": 310,
    "start_time": "2022-12-07T09:37:18.330Z"
   },
   {
    "duration": 280,
    "start_time": "2022-12-07T09:37:18.642Z"
   },
   {
    "duration": 11,
    "start_time": "2022-12-07T09:37:18.924Z"
   },
   {
    "duration": 185,
    "start_time": "2022-12-07T09:37:18.937Z"
   },
   {
    "duration": 11,
    "start_time": "2022-12-07T09:37:19.124Z"
   },
   {
    "duration": 180,
    "start_time": "2022-12-07T09:37:19.136Z"
   },
   {
    "duration": 5,
    "start_time": "2022-12-07T09:37:19.318Z"
   },
   {
    "duration": 170,
    "start_time": "2022-12-07T09:37:19.336Z"
   },
   {
    "duration": 5,
    "start_time": "2022-12-07T09:37:19.507Z"
   },
   {
    "duration": 179,
    "start_time": "2022-12-07T09:37:19.514Z"
   },
   {
    "duration": 6,
    "start_time": "2022-12-07T09:37:19.698Z"
   },
   {
    "duration": 190,
    "start_time": "2022-12-07T09:37:19.705Z"
   },
   {
    "duration": 6,
    "start_time": "2022-12-07T09:37:19.897Z"
   },
   {
    "duration": 183,
    "start_time": "2022-12-07T09:37:19.905Z"
   },
   {
    "duration": 5,
    "start_time": "2022-12-07T09:37:20.090Z"
   },
   {
    "duration": 22,
    "start_time": "2022-12-07T09:37:20.096Z"
   },
   {
    "duration": 196,
    "start_time": "2022-12-07T09:37:20.119Z"
   },
   {
    "duration": 165,
    "start_time": "2022-12-07T09:37:20.318Z"
   },
   {
    "duration": 3,
    "start_time": "2022-12-07T09:37:20.485Z"
   },
   {
    "duration": 19,
    "start_time": "2022-12-07T09:37:20.489Z"
   },
   {
    "duration": 197,
    "start_time": "2022-12-07T09:37:20.509Z"
   },
   {
    "duration": 309,
    "start_time": "2022-12-07T09:37:20.708Z"
   },
   {
    "duration": 290,
    "start_time": "2022-12-07T09:37:21.019Z"
   },
   {
    "duration": 5,
    "start_time": "2022-12-07T09:37:21.311Z"
   },
   {
    "duration": 180,
    "start_time": "2022-12-07T09:37:21.318Z"
   },
   {
    "duration": 156,
    "start_time": "2022-12-07T09:37:21.500Z"
   },
   {
    "duration": 5,
    "start_time": "2022-12-07T09:37:21.658Z"
   },
   {
    "duration": 21,
    "start_time": "2022-12-07T09:37:21.665Z"
   },
   {
    "duration": 22,
    "start_time": "2022-12-07T09:37:21.688Z"
   },
   {
    "duration": 13,
    "start_time": "2022-12-07T09:37:21.711Z"
   },
   {
    "duration": 29,
    "start_time": "2022-12-07T09:37:21.726Z"
   },
   {
    "duration": 33,
    "start_time": "2022-12-07T09:37:21.756Z"
   },
   {
    "duration": 12,
    "start_time": "2022-12-07T09:37:21.791Z"
   },
   {
    "duration": 24,
    "start_time": "2022-12-07T09:37:21.805Z"
   },
   {
    "duration": 180,
    "start_time": "2022-12-07T09:37:21.830Z"
   },
   {
    "duration": 171,
    "start_time": "2022-12-07T09:37:22.012Z"
   },
   {
    "duration": 162,
    "start_time": "2022-12-07T09:37:22.186Z"
   },
   {
    "duration": 247,
    "start_time": "2022-12-07T09:37:22.350Z"
   },
   {
    "duration": 138,
    "start_time": "2022-12-07T09:37:22.599Z"
   },
   {
    "duration": 126,
    "start_time": "2022-12-07T09:37:22.739Z"
   },
   {
    "duration": 151,
    "start_time": "2022-12-07T09:37:22.867Z"
   },
   {
    "duration": 151,
    "start_time": "2022-12-07T09:37:23.020Z"
   },
   {
    "duration": 156,
    "start_time": "2022-12-07T09:37:23.173Z"
   },
   {
    "duration": 123,
    "start_time": "2022-12-07T09:37:23.331Z"
   },
   {
    "duration": 131,
    "start_time": "2022-12-07T09:37:23.456Z"
   },
   {
    "duration": 117,
    "start_time": "2022-12-07T09:37:23.588Z"
   },
   {
    "duration": 4,
    "start_time": "2022-12-07T09:37:23.707Z"
   },
   {
    "duration": 17,
    "start_time": "2022-12-07T09:37:23.713Z"
   },
   {
    "duration": 20,
    "start_time": "2022-12-07T09:37:23.731Z"
   },
   {
    "duration": 10,
    "start_time": "2022-12-07T09:37:23.752Z"
   },
   {
    "duration": 16,
    "start_time": "2022-12-07T09:37:23.763Z"
   },
   {
    "duration": 17,
    "start_time": "2022-12-07T09:37:23.780Z"
   },
   {
    "duration": 37,
    "start_time": "2022-12-07T09:37:23.798Z"
   },
   {
    "duration": 9,
    "start_time": "2022-12-07T09:37:23.836Z"
   },
   {
    "duration": 38,
    "start_time": "2022-12-07T09:37:23.846Z"
   },
   {
    "duration": 29,
    "start_time": "2022-12-07T09:37:23.886Z"
   },
   {
    "duration": 35,
    "start_time": "2022-12-07T09:37:23.916Z"
   },
   {
    "duration": 231,
    "start_time": "2022-12-07T09:38:21.582Z"
   },
   {
    "duration": 151,
    "start_time": "2022-12-07T09:42:31.048Z"
   },
   {
    "duration": 148,
    "start_time": "2022-12-07T09:42:39.046Z"
   },
   {
    "duration": 137,
    "start_time": "2022-12-07T09:42:42.998Z"
   },
   {
    "duration": 185,
    "start_time": "2022-12-07T09:42:47.511Z"
   },
   {
    "duration": 230,
    "start_time": "2022-12-07T09:42:52.310Z"
   },
   {
    "duration": 283,
    "start_time": "2022-12-07T09:42:57.023Z"
   },
   {
    "duration": 5,
    "start_time": "2022-12-07T09:59:04.729Z"
   },
   {
    "duration": 5,
    "start_time": "2022-12-07T09:59:53.967Z"
   },
   {
    "duration": 6,
    "start_time": "2022-12-07T10:00:01.264Z"
   },
   {
    "duration": 381,
    "start_time": "2022-12-07T10:00:01.272Z"
   },
   {
    "duration": 142,
    "start_time": "2022-12-07T10:00:01.655Z"
   },
   {
    "duration": 4,
    "start_time": "2022-12-07T10:00:01.799Z"
   },
   {
    "duration": 35,
    "start_time": "2022-12-07T10:00:01.805Z"
   },
   {
    "duration": 29,
    "start_time": "2022-12-07T10:00:01.842Z"
   },
   {
    "duration": 34,
    "start_time": "2022-12-07T10:00:01.873Z"
   },
   {
    "duration": 30,
    "start_time": "2022-12-07T10:00:01.909Z"
   },
   {
    "duration": 64,
    "start_time": "2022-12-07T10:00:01.940Z"
   },
   {
    "duration": 31,
    "start_time": "2022-12-07T10:00:02.007Z"
   },
   {
    "duration": 81,
    "start_time": "2022-12-07T10:00:02.039Z"
   },
   {
    "duration": 283,
    "start_time": "2022-12-07T10:00:02.122Z"
   },
   {
    "duration": 213,
    "start_time": "2022-12-07T10:00:02.408Z"
   },
   {
    "duration": 176,
    "start_time": "2022-12-07T10:00:02.623Z"
   },
   {
    "duration": 162,
    "start_time": "2022-12-07T10:00:02.801Z"
   },
   {
    "duration": 159,
    "start_time": "2022-12-07T10:00:02.965Z"
   },
   {
    "duration": 161,
    "start_time": "2022-12-07T10:00:03.126Z"
   },
   {
    "duration": 194,
    "start_time": "2022-12-07T10:00:03.289Z"
   },
   {
    "duration": 199,
    "start_time": "2022-12-07T10:00:03.485Z"
   },
   {
    "duration": 181,
    "start_time": "2022-12-07T10:00:03.686Z"
   },
   {
    "duration": 115,
    "start_time": "2022-12-07T10:00:03.869Z"
   },
   {
    "duration": 133,
    "start_time": "2022-12-07T10:00:03.986Z"
   },
   {
    "duration": 127,
    "start_time": "2022-12-07T10:00:04.121Z"
   },
   {
    "duration": 5,
    "start_time": "2022-12-07T10:00:04.249Z"
   },
   {
    "duration": 13,
    "start_time": "2022-12-07T10:00:04.255Z"
   },
   {
    "duration": 16,
    "start_time": "2022-12-07T10:00:04.270Z"
   },
   {
    "duration": 13,
    "start_time": "2022-12-07T10:00:04.288Z"
   },
   {
    "duration": 15,
    "start_time": "2022-12-07T10:00:04.304Z"
   },
   {
    "duration": 16,
    "start_time": "2022-12-07T10:00:04.321Z"
   },
   {
    "duration": 14,
    "start_time": "2022-12-07T10:00:04.339Z"
   },
   {
    "duration": 19,
    "start_time": "2022-12-07T10:00:04.355Z"
   },
   {
    "duration": 24,
    "start_time": "2022-12-07T10:00:04.376Z"
   },
   {
    "duration": 21,
    "start_time": "2022-12-07T10:00:04.401Z"
   },
   {
    "duration": 20,
    "start_time": "2022-12-07T10:00:04.423Z"
   },
   {
    "duration": 3,
    "start_time": "2022-12-07T10:00:08.513Z"
   },
   {
    "duration": 116,
    "start_time": "2022-12-07T10:00:08.519Z"
   },
   {
    "duration": 14,
    "start_time": "2022-12-07T10:00:08.637Z"
   },
   {
    "duration": 46,
    "start_time": "2022-12-07T10:00:08.653Z"
   },
   {
    "duration": 39,
    "start_time": "2022-12-07T10:00:08.701Z"
   },
   {
    "duration": 46,
    "start_time": "2022-12-07T10:00:08.743Z"
   },
   {
    "duration": 59,
    "start_time": "2022-12-07T10:00:08.791Z"
   },
   {
    "duration": 27,
    "start_time": "2022-12-07T10:00:08.852Z"
   },
   {
    "duration": 32,
    "start_time": "2022-12-07T10:00:08.881Z"
   },
   {
    "duration": 40,
    "start_time": "2022-12-07T10:00:08.915Z"
   },
   {
    "duration": 17,
    "start_time": "2022-12-07T10:00:08.957Z"
   },
   {
    "duration": 48,
    "start_time": "2022-12-07T10:00:08.976Z"
   },
   {
    "duration": 36,
    "start_time": "2022-12-07T10:00:09.027Z"
   },
   {
    "duration": 11,
    "start_time": "2022-12-07T10:00:09.065Z"
   },
   {
    "duration": 20,
    "start_time": "2022-12-07T10:00:09.078Z"
   },
   {
    "duration": 32,
    "start_time": "2022-12-07T10:00:09.100Z"
   },
   {
    "duration": 11,
    "start_time": "2022-12-07T10:00:09.134Z"
   },
   {
    "duration": 458,
    "start_time": "2022-12-07T10:00:09.147Z"
   },
   {
    "duration": 250,
    "start_time": "2022-12-07T10:00:09.607Z"
   },
   {
    "duration": 5,
    "start_time": "2022-12-07T10:00:09.860Z"
   },
   {
    "duration": 166,
    "start_time": "2022-12-07T10:00:09.867Z"
   },
   {
    "duration": 7,
    "start_time": "2022-12-07T10:00:10.036Z"
   },
   {
    "duration": 163,
    "start_time": "2022-12-07T10:00:10.045Z"
   },
   {
    "duration": 5,
    "start_time": "2022-12-07T10:00:10.210Z"
   },
   {
    "duration": 173,
    "start_time": "2022-12-07T10:00:10.216Z"
   },
   {
    "duration": 5,
    "start_time": "2022-12-07T10:00:10.391Z"
   },
   {
    "duration": 170,
    "start_time": "2022-12-07T10:00:10.398Z"
   },
   {
    "duration": 5,
    "start_time": "2022-12-07T10:00:10.570Z"
   },
   {
    "duration": 190,
    "start_time": "2022-12-07T10:00:10.576Z"
   },
   {
    "duration": 5,
    "start_time": "2022-12-07T10:00:10.768Z"
   },
   {
    "duration": 173,
    "start_time": "2022-12-07T10:00:10.775Z"
   },
   {
    "duration": 5,
    "start_time": "2022-12-07T10:00:10.949Z"
   },
   {
    "duration": 12,
    "start_time": "2022-12-07T10:00:10.956Z"
   },
   {
    "duration": 128,
    "start_time": "2022-12-07T10:00:10.970Z"
   },
   {
    "duration": 160,
    "start_time": "2022-12-07T10:00:11.100Z"
   },
   {
    "duration": 3,
    "start_time": "2022-12-07T10:00:11.262Z"
   },
   {
    "duration": 58,
    "start_time": "2022-12-07T10:00:11.269Z"
   },
   {
    "duration": 285,
    "start_time": "2022-12-07T10:00:11.329Z"
   },
   {
    "duration": 299,
    "start_time": "2022-12-07T10:00:11.616Z"
   },
   {
    "duration": 280,
    "start_time": "2022-12-07T10:00:11.916Z"
   },
   {
    "duration": 4,
    "start_time": "2022-12-07T10:00:12.198Z"
   },
   {
    "duration": 32,
    "start_time": "2022-12-07T10:00:12.203Z"
   },
   {
    "duration": 169,
    "start_time": "2022-12-07T10:00:12.237Z"
   },
   {
    "duration": 184,
    "start_time": "2022-12-07T10:00:12.408Z"
   },
   {
    "duration": 7,
    "start_time": "2022-12-07T10:00:12.594Z"
   },
   {
    "duration": 34,
    "start_time": "2022-12-07T10:00:12.603Z"
   },
   {
    "duration": 54,
    "start_time": "2022-12-07T10:00:12.638Z"
   },
   {
    "duration": 39,
    "start_time": "2022-12-07T10:00:12.694Z"
   },
   {
    "duration": 33,
    "start_time": "2022-12-07T10:00:12.735Z"
   },
   {
    "duration": 50,
    "start_time": "2022-12-07T10:00:12.770Z"
   },
   {
    "duration": 17,
    "start_time": "2022-12-07T10:00:12.821Z"
   },
   {
    "duration": 65,
    "start_time": "2022-12-07T10:00:12.839Z"
   },
   {
    "duration": 199,
    "start_time": "2022-12-07T10:00:12.906Z"
   },
   {
    "duration": 156,
    "start_time": "2022-12-07T10:00:13.107Z"
   },
   {
    "duration": 308,
    "start_time": "2022-12-07T10:00:13.266Z"
   },
   {
    "duration": 165,
    "start_time": "2022-12-07T10:00:13.576Z"
   },
   {
    "duration": 146,
    "start_time": "2022-12-07T10:00:13.743Z"
   },
   {
    "duration": 150,
    "start_time": "2022-12-07T10:00:13.890Z"
   },
   {
    "duration": 181,
    "start_time": "2022-12-07T10:00:14.042Z"
   },
   {
    "duration": 177,
    "start_time": "2022-12-07T10:00:14.225Z"
   },
   {
    "duration": 173,
    "start_time": "2022-12-07T10:00:14.404Z"
   },
   {
    "duration": 112,
    "start_time": "2022-12-07T10:00:14.578Z"
   },
   {
    "duration": 125,
    "start_time": "2022-12-07T10:00:14.691Z"
   },
   {
    "duration": 121,
    "start_time": "2022-12-07T10:00:14.818Z"
   },
   {
    "duration": 6,
    "start_time": "2022-12-07T10:00:14.944Z"
   },
   {
    "duration": 17,
    "start_time": "2022-12-07T10:00:14.952Z"
   },
   {
    "duration": 11,
    "start_time": "2022-12-07T10:00:14.970Z"
   },
   {
    "duration": 25,
    "start_time": "2022-12-07T10:00:14.983Z"
   },
   {
    "duration": 39,
    "start_time": "2022-12-07T10:00:15.009Z"
   },
   {
    "duration": 23,
    "start_time": "2022-12-07T10:00:15.049Z"
   },
   {
    "duration": 25,
    "start_time": "2022-12-07T10:00:15.073Z"
   },
   {
    "duration": 17,
    "start_time": "2022-12-07T10:00:15.099Z"
   },
   {
    "duration": 22,
    "start_time": "2022-12-07T10:00:15.118Z"
   },
   {
    "duration": 10,
    "start_time": "2022-12-07T10:00:15.141Z"
   },
   {
    "duration": 10,
    "start_time": "2022-12-07T10:00:15.153Z"
   },
   {
    "duration": 1014,
    "start_time": "2022-12-07T20:36:56.660Z"
   },
   {
    "duration": 200,
    "start_time": "2022-12-07T20:36:57.676Z"
   },
   {
    "duration": 16,
    "start_time": "2022-12-07T20:36:57.878Z"
   },
   {
    "duration": 27,
    "start_time": "2022-12-07T20:36:57.895Z"
   },
   {
    "duration": 26,
    "start_time": "2022-12-07T20:36:57.924Z"
   },
   {
    "duration": 10,
    "start_time": "2022-12-07T20:36:57.951Z"
   },
   {
    "duration": 30,
    "start_time": "2022-12-07T20:36:57.962Z"
   },
   {
    "duration": 4,
    "start_time": "2022-12-07T20:36:57.993Z"
   },
   {
    "duration": 15,
    "start_time": "2022-12-07T20:36:57.998Z"
   },
   {
    "duration": 27,
    "start_time": "2022-12-07T20:36:58.015Z"
   },
   {
    "duration": 5,
    "start_time": "2022-12-07T20:36:58.043Z"
   },
   {
    "duration": 7,
    "start_time": "2022-12-07T20:36:58.050Z"
   },
   {
    "duration": 16,
    "start_time": "2022-12-07T20:36:58.059Z"
   },
   {
    "duration": 6,
    "start_time": "2022-12-07T20:36:58.078Z"
   },
   {
    "duration": 10,
    "start_time": "2022-12-07T20:36:58.085Z"
   },
   {
    "duration": 23,
    "start_time": "2022-12-07T20:36:58.097Z"
   },
   {
    "duration": 5,
    "start_time": "2022-12-07T20:36:58.122Z"
   },
   {
    "duration": 355,
    "start_time": "2022-12-07T20:36:58.129Z"
   },
   {
    "duration": 269,
    "start_time": "2022-12-07T20:36:58.485Z"
   },
   {
    "duration": 7,
    "start_time": "2022-12-07T20:36:58.756Z"
   },
   {
    "duration": 188,
    "start_time": "2022-12-07T20:36:58.764Z"
   },
   {
    "duration": 5,
    "start_time": "2022-12-07T20:36:58.954Z"
   },
   {
    "duration": 178,
    "start_time": "2022-12-07T20:36:58.961Z"
   },
   {
    "duration": 5,
    "start_time": "2022-12-07T20:36:59.141Z"
   },
   {
    "duration": 205,
    "start_time": "2022-12-07T20:36:59.147Z"
   },
   {
    "duration": 6,
    "start_time": "2022-12-07T20:36:59.354Z"
   },
   {
    "duration": 183,
    "start_time": "2022-12-07T20:36:59.361Z"
   },
   {
    "duration": 5,
    "start_time": "2022-12-07T20:36:59.546Z"
   },
   {
    "duration": 182,
    "start_time": "2022-12-07T20:36:59.552Z"
   },
   {
    "duration": 5,
    "start_time": "2022-12-07T20:36:59.736Z"
   },
   {
    "duration": 180,
    "start_time": "2022-12-07T20:36:59.743Z"
   },
   {
    "duration": 6,
    "start_time": "2022-12-07T20:36:59.924Z"
   },
   {
    "duration": 14,
    "start_time": "2022-12-07T20:36:59.932Z"
   },
   {
    "duration": 204,
    "start_time": "2022-12-07T20:36:59.948Z"
   },
   {
    "duration": 166,
    "start_time": "2022-12-07T20:37:00.154Z"
   },
   {
    "duration": 4,
    "start_time": "2022-12-07T20:37:00.322Z"
   },
   {
    "duration": 27,
    "start_time": "2022-12-07T20:37:00.327Z"
   },
   {
    "duration": 262,
    "start_time": "2022-12-07T20:37:00.356Z"
   },
   {
    "duration": 313,
    "start_time": "2022-12-07T20:37:00.619Z"
   },
   {
    "duration": 280,
    "start_time": "2022-12-07T20:37:00.933Z"
   },
   {
    "duration": 5,
    "start_time": "2022-12-07T20:37:01.218Z"
   },
   {
    "duration": 119,
    "start_time": "2022-12-07T20:37:01.224Z"
   },
   {
    "duration": 185,
    "start_time": "2022-12-07T20:37:01.344Z"
   },
   {
    "duration": 160,
    "start_time": "2022-12-07T20:37:01.532Z"
   },
   {
    "duration": 5,
    "start_time": "2022-12-07T20:37:01.694Z"
   },
   {
    "duration": 31,
    "start_time": "2022-12-07T20:37:01.701Z"
   },
   {
    "duration": 53,
    "start_time": "2022-12-07T20:37:01.734Z"
   },
   {
    "duration": 53,
    "start_time": "2022-12-07T20:37:01.788Z"
   },
   {
    "duration": 77,
    "start_time": "2022-12-07T20:37:01.842Z"
   },
   {
    "duration": 68,
    "start_time": "2022-12-07T20:37:01.921Z"
   },
   {
    "duration": 20,
    "start_time": "2022-12-07T20:37:01.991Z"
   },
   {
    "duration": 27,
    "start_time": "2022-12-07T20:37:02.013Z"
   },
   {
    "duration": 180,
    "start_time": "2022-12-07T20:37:02.042Z"
   },
   {
    "duration": 173,
    "start_time": "2022-12-07T20:37:02.224Z"
   },
   {
    "duration": 267,
    "start_time": "2022-12-07T20:37:02.399Z"
   },
   {
    "duration": 160,
    "start_time": "2022-12-07T20:37:02.667Z"
   },
   {
    "duration": 162,
    "start_time": "2022-12-07T20:37:02.828Z"
   },
   {
    "duration": 153,
    "start_time": "2022-12-07T20:37:02.992Z"
   },
   {
    "duration": 208,
    "start_time": "2022-12-07T20:37:03.147Z"
   },
   {
    "duration": 200,
    "start_time": "2022-12-07T20:37:03.356Z"
   },
   {
    "duration": 197,
    "start_time": "2022-12-07T20:37:03.557Z"
   },
   {
    "duration": 123,
    "start_time": "2022-12-07T20:37:03.756Z"
   },
   {
    "duration": 143,
    "start_time": "2022-12-07T20:37:03.881Z"
   },
   {
    "duration": 128,
    "start_time": "2022-12-07T20:37:04.027Z"
   },
   {
    "duration": 4,
    "start_time": "2022-12-07T20:37:04.156Z"
   },
   {
    "duration": 19,
    "start_time": "2022-12-07T20:37:04.162Z"
   },
   {
    "duration": 14,
    "start_time": "2022-12-07T20:37:04.183Z"
   },
   {
    "duration": 14,
    "start_time": "2022-12-07T20:37:04.200Z"
   },
   {
    "duration": 19,
    "start_time": "2022-12-07T20:37:04.216Z"
   },
   {
    "duration": 13,
    "start_time": "2022-12-07T20:37:04.237Z"
   },
   {
    "duration": 11,
    "start_time": "2022-12-07T20:37:04.251Z"
   },
   {
    "duration": 16,
    "start_time": "2022-12-07T20:37:04.264Z"
   },
   {
    "duration": 11,
    "start_time": "2022-12-07T20:37:04.282Z"
   },
   {
    "duration": 8,
    "start_time": "2022-12-07T20:37:04.295Z"
   },
   {
    "duration": 7,
    "start_time": "2022-12-07T20:37:04.304Z"
   },
   {
    "duration": 47,
    "start_time": "2022-12-07T21:03:01.242Z"
   },
   {
    "duration": 1208,
    "start_time": "2022-12-07T21:03:11.667Z"
   },
   {
    "duration": 193,
    "start_time": "2022-12-07T21:03:12.877Z"
   },
   {
    "duration": 18,
    "start_time": "2022-12-07T21:03:13.072Z"
   },
   {
    "duration": 22,
    "start_time": "2022-12-07T21:03:13.093Z"
   },
   {
    "duration": 10,
    "start_time": "2022-12-07T21:03:13.116Z"
   },
   {
    "duration": 15,
    "start_time": "2022-12-07T21:03:13.132Z"
   },
   {
    "duration": 24,
    "start_time": "2022-12-07T21:03:13.149Z"
   },
   {
    "duration": 5,
    "start_time": "2022-12-07T21:03:13.175Z"
   },
   {
    "duration": 6,
    "start_time": "2022-12-07T21:03:13.182Z"
   },
   {
    "duration": 32,
    "start_time": "2022-12-07T21:03:13.190Z"
   },
   {
    "duration": 5,
    "start_time": "2022-12-07T21:03:13.224Z"
   },
   {
    "duration": 7,
    "start_time": "2022-12-07T21:03:13.231Z"
   },
   {
    "duration": 8,
    "start_time": "2022-12-07T21:03:13.240Z"
   },
   {
    "duration": 7,
    "start_time": "2022-12-07T21:03:13.250Z"
   },
   {
    "duration": 10,
    "start_time": "2022-12-07T21:03:13.259Z"
   },
   {
    "duration": 13,
    "start_time": "2022-12-07T21:03:13.272Z"
   },
   {
    "duration": 31,
    "start_time": "2022-12-07T21:03:13.287Z"
   },
   {
    "duration": 299,
    "start_time": "2022-12-07T21:03:13.319Z"
   },
   {
    "duration": 265,
    "start_time": "2022-12-07T21:03:13.620Z"
   },
   {
    "duration": 7,
    "start_time": "2022-12-07T21:03:13.887Z"
   },
   {
    "duration": 172,
    "start_time": "2022-12-07T21:03:13.895Z"
   },
   {
    "duration": 5,
    "start_time": "2022-12-07T21:03:14.069Z"
   },
   {
    "duration": 197,
    "start_time": "2022-12-07T21:03:14.076Z"
   },
   {
    "duration": 6,
    "start_time": "2022-12-07T21:03:14.275Z"
   },
   {
    "duration": 176,
    "start_time": "2022-12-07T21:03:14.283Z"
   },
   {
    "duration": 5,
    "start_time": "2022-12-07T21:03:14.460Z"
   },
   {
    "duration": 170,
    "start_time": "2022-12-07T21:03:14.466Z"
   },
   {
    "duration": 5,
    "start_time": "2022-12-07T21:03:14.641Z"
   },
   {
    "duration": 174,
    "start_time": "2022-12-07T21:03:14.647Z"
   },
   {
    "duration": 6,
    "start_time": "2022-12-07T21:03:14.823Z"
   },
   {
    "duration": 184,
    "start_time": "2022-12-07T21:03:14.832Z"
   },
   {
    "duration": 5,
    "start_time": "2022-12-07T21:03:15.017Z"
   },
   {
    "duration": 20,
    "start_time": "2022-12-07T21:03:15.024Z"
   },
   {
    "duration": 188,
    "start_time": "2022-12-07T21:03:15.046Z"
   },
   {
    "duration": 192,
    "start_time": "2022-12-07T21:03:15.236Z"
   },
   {
    "duration": 3,
    "start_time": "2022-12-07T21:03:15.430Z"
   },
   {
    "duration": 11,
    "start_time": "2022-12-07T21:03:15.435Z"
   },
   {
    "duration": 247,
    "start_time": "2022-12-07T21:03:15.448Z"
   },
   {
    "duration": 306,
    "start_time": "2022-12-07T21:03:15.697Z"
   },
   {
    "duration": 268,
    "start_time": "2022-12-07T21:03:16.005Z"
   },
   {
    "duration": 5,
    "start_time": "2022-12-07T21:03:16.275Z"
   },
   {
    "duration": 8,
    "start_time": "2022-12-07T21:03:16.281Z"
   },
   {
    "duration": 214,
    "start_time": "2022-12-07T21:03:16.290Z"
   },
   {
    "duration": 149,
    "start_time": "2022-12-07T21:03:16.506Z"
   },
   {
    "duration": 6,
    "start_time": "2022-12-07T21:03:16.656Z"
   },
   {
    "duration": 12,
    "start_time": "2022-12-07T21:03:16.664Z"
   },
   {
    "duration": 16,
    "start_time": "2022-12-07T21:03:16.677Z"
   },
   {
    "duration": 30,
    "start_time": "2022-12-07T21:03:16.694Z"
   },
   {
    "duration": 8,
    "start_time": "2022-12-07T21:03:16.725Z"
   },
   {
    "duration": 16,
    "start_time": "2022-12-07T21:03:16.735Z"
   },
   {
    "duration": 4,
    "start_time": "2022-12-07T21:03:16.753Z"
   },
   {
    "duration": 14,
    "start_time": "2022-12-07T21:03:16.758Z"
   },
   {
    "duration": 178,
    "start_time": "2022-12-07T21:03:16.773Z"
   },
   {
    "duration": 162,
    "start_time": "2022-12-07T21:03:16.953Z"
   },
   {
    "duration": 237,
    "start_time": "2022-12-07T21:03:17.117Z"
   },
   {
    "duration": 148,
    "start_time": "2022-12-07T21:03:17.356Z"
   },
   {
    "duration": 161,
    "start_time": "2022-12-07T21:03:17.505Z"
   },
   {
    "duration": 149,
    "start_time": "2022-12-07T21:03:17.668Z"
   },
   {
    "duration": 194,
    "start_time": "2022-12-07T21:03:17.818Z"
   },
   {
    "duration": 198,
    "start_time": "2022-12-07T21:03:18.016Z"
   },
   {
    "duration": 193,
    "start_time": "2022-12-07T21:03:18.216Z"
   },
   {
    "duration": 118,
    "start_time": "2022-12-07T21:03:18.411Z"
   },
   {
    "duration": 141,
    "start_time": "2022-12-07T21:03:18.531Z"
   },
   {
    "duration": 121,
    "start_time": "2022-12-07T21:03:18.674Z"
   },
   {
    "duration": 5,
    "start_time": "2022-12-07T21:03:18.796Z"
   },
   {
    "duration": 15,
    "start_time": "2022-12-07T21:03:18.802Z"
   },
   {
    "duration": 4,
    "start_time": "2022-12-07T21:03:18.819Z"
   },
   {
    "duration": 7,
    "start_time": "2022-12-07T21:03:18.825Z"
   },
   {
    "duration": 10,
    "start_time": "2022-12-07T21:03:18.833Z"
   },
   {
    "duration": 9,
    "start_time": "2022-12-07T21:03:18.844Z"
   },
   {
    "duration": 6,
    "start_time": "2022-12-07T21:03:18.854Z"
   },
   {
    "duration": 7,
    "start_time": "2022-12-07T21:03:18.862Z"
   },
   {
    "duration": 9,
    "start_time": "2022-12-07T21:03:18.871Z"
   },
   {
    "duration": 42,
    "start_time": "2022-12-07T21:03:18.882Z"
   },
   {
    "duration": 17,
    "start_time": "2022-12-07T21:03:18.926Z"
   },
   {
    "duration": 5,
    "start_time": "2022-12-07T21:07:04.236Z"
   },
   {
    "duration": 1356,
    "start_time": "2023-05-06T16:10:02.210Z"
   },
   {
    "duration": 377,
    "start_time": "2023-05-06T16:10:03.569Z"
   },
   {
    "duration": 186,
    "start_time": "2023-05-06T16:10:03.948Z"
   },
   {
    "duration": 79,
    "start_time": "2023-05-06T16:10:04.137Z"
   },
   {
    "duration": 22,
    "start_time": "2023-05-06T16:10:04.218Z"
   },
   {
    "duration": 15,
    "start_time": "2023-05-06T16:10:04.242Z"
   },
   {
    "duration": 25,
    "start_time": "2023-05-06T16:10:04.259Z"
   },
   {
    "duration": 4,
    "start_time": "2023-05-06T16:10:04.286Z"
   },
   {
    "duration": 7,
    "start_time": "2023-05-06T16:10:04.292Z"
   },
   {
    "duration": 23,
    "start_time": "2023-05-06T16:10:04.301Z"
   },
   {
    "duration": 32,
    "start_time": "2023-05-06T16:10:04.326Z"
   },
   {
    "duration": 11,
    "start_time": "2023-05-06T16:10:04.359Z"
   },
   {
    "duration": 9,
    "start_time": "2023-05-06T16:10:04.372Z"
   },
   {
    "duration": 13,
    "start_time": "2023-05-06T16:10:04.383Z"
   },
   {
    "duration": 6,
    "start_time": "2023-05-06T16:10:04.398Z"
   },
   {
    "duration": 17,
    "start_time": "2023-05-06T16:10:04.405Z"
   },
   {
    "duration": 8,
    "start_time": "2023-05-06T16:10:04.424Z"
   },
   {
    "duration": 336,
    "start_time": "2023-05-06T16:10:04.440Z"
   },
   {
    "duration": 283,
    "start_time": "2023-05-06T16:10:04.778Z"
   },
   {
    "duration": 7,
    "start_time": "2023-05-06T16:10:05.063Z"
   },
   {
    "duration": 181,
    "start_time": "2023-05-06T16:10:05.072Z"
   },
   {
    "duration": 5,
    "start_time": "2023-05-06T16:10:05.255Z"
   },
   {
    "duration": 195,
    "start_time": "2023-05-06T16:10:05.262Z"
   },
   {
    "duration": 6,
    "start_time": "2023-05-06T16:10:05.459Z"
   },
   {
    "duration": 205,
    "start_time": "2023-05-06T16:10:05.467Z"
   },
   {
    "duration": 6,
    "start_time": "2023-05-06T16:10:05.675Z"
   },
   {
    "duration": 235,
    "start_time": "2023-05-06T16:10:05.683Z"
   },
   {
    "duration": 17,
    "start_time": "2023-05-06T16:10:05.924Z"
   },
   {
    "duration": 215,
    "start_time": "2023-05-06T16:10:05.944Z"
   },
   {
    "duration": 6,
    "start_time": "2023-05-06T16:10:06.160Z"
   },
   {
    "duration": 193,
    "start_time": "2023-05-06T16:10:06.168Z"
   },
   {
    "duration": 6,
    "start_time": "2023-05-06T16:10:06.362Z"
   },
   {
    "duration": 7,
    "start_time": "2023-05-06T16:10:06.370Z"
   },
   {
    "duration": 241,
    "start_time": "2023-05-06T16:10:06.379Z"
   },
   {
    "duration": 206,
    "start_time": "2023-05-06T16:10:06.622Z"
   },
   {
    "duration": 4,
    "start_time": "2023-05-06T16:10:06.830Z"
   },
   {
    "duration": 26,
    "start_time": "2023-05-06T16:10:06.841Z"
   },
   {
    "duration": 295,
    "start_time": "2023-05-06T16:10:06.869Z"
   },
   {
    "duration": 353,
    "start_time": "2023-05-06T16:10:07.166Z"
   },
   {
    "duration": 304,
    "start_time": "2023-05-06T16:10:07.521Z"
   },
   {
    "duration": 14,
    "start_time": "2023-05-06T16:10:07.827Z"
   },
   {
    "duration": 26,
    "start_time": "2023-05-06T16:10:07.843Z"
   },
   {
    "duration": 175,
    "start_time": "2023-05-06T16:10:07.871Z"
   },
   {
    "duration": 176,
    "start_time": "2023-05-06T16:10:08.048Z"
   },
   {
    "duration": 6,
    "start_time": "2023-05-06T16:10:08.226Z"
   },
   {
    "duration": 20,
    "start_time": "2023-05-06T16:10:08.233Z"
   },
   {
    "duration": 25,
    "start_time": "2023-05-06T16:10:08.256Z"
   },
   {
    "duration": 24,
    "start_time": "2023-05-06T16:10:08.283Z"
   },
   {
    "duration": 6,
    "start_time": "2023-05-06T16:10:08.310Z"
   },
   {
    "duration": 41,
    "start_time": "2023-05-06T16:10:08.319Z"
   },
   {
    "duration": 12,
    "start_time": "2023-05-06T16:10:08.361Z"
   },
   {
    "duration": 28,
    "start_time": "2023-05-06T16:10:08.375Z"
   },
   {
    "duration": 225,
    "start_time": "2023-05-06T16:10:08.405Z"
   },
   {
    "duration": 188,
    "start_time": "2023-05-06T16:10:08.632Z"
   },
   {
    "duration": 299,
    "start_time": "2023-05-06T16:10:08.822Z"
   },
   {
    "duration": 169,
    "start_time": "2023-05-06T16:10:09.123Z"
   },
   {
    "duration": 174,
    "start_time": "2023-05-06T16:10:09.295Z"
   },
   {
    "duration": 164,
    "start_time": "2023-05-06T16:10:09.471Z"
   },
   {
    "duration": 205,
    "start_time": "2023-05-06T16:10:09.641Z"
   },
   {
    "duration": 204,
    "start_time": "2023-05-06T16:10:09.848Z"
   },
   {
    "duration": 205,
    "start_time": "2023-05-06T16:10:10.054Z"
   },
   {
    "duration": 128,
    "start_time": "2023-05-06T16:10:10.261Z"
   },
   {
    "duration": 199,
    "start_time": "2023-05-06T16:10:10.391Z"
   },
   {
    "duration": 129,
    "start_time": "2023-05-06T16:10:10.591Z"
   },
   {
    "duration": 4,
    "start_time": "2023-05-06T16:10:10.722Z"
   },
   {
    "duration": 119,
    "start_time": "2023-05-06T16:10:10.742Z"
   },
   {
    "duration": 70,
    "start_time": "2023-05-06T16:10:10.863Z"
   },
   {
    "duration": 47,
    "start_time": "2023-05-06T16:10:10.935Z"
   },
   {
    "duration": 41,
    "start_time": "2023-05-06T16:10:10.987Z"
   },
   {
    "duration": 51,
    "start_time": "2023-05-06T16:10:11.030Z"
   },
   {
    "duration": 25,
    "start_time": "2023-05-06T16:10:11.082Z"
   },
   {
    "duration": 11,
    "start_time": "2023-05-06T16:10:11.109Z"
   },
   {
    "duration": 20,
    "start_time": "2023-05-06T16:10:11.122Z"
   },
   {
    "duration": 26,
    "start_time": "2023-05-06T16:10:11.144Z"
   },
   {
    "duration": 13,
    "start_time": "2023-05-06T16:10:11.171Z"
   },
   {
    "duration": 63,
    "start_time": "2023-05-18T11:19:26.046Z"
   },
   {
    "duration": 1236,
    "start_time": "2023-05-18T11:19:36.273Z"
   },
   {
    "duration": 303,
    "start_time": "2023-05-18T11:19:37.511Z"
   },
   {
    "duration": 16,
    "start_time": "2023-05-18T11:19:37.816Z"
   },
   {
    "duration": 29,
    "start_time": "2023-05-18T11:19:37.834Z"
   },
   {
    "duration": 11,
    "start_time": "2023-05-18T11:19:37.865Z"
   },
   {
    "duration": 4,
    "start_time": "2023-05-18T11:19:37.878Z"
   },
   {
    "duration": 30,
    "start_time": "2023-05-18T11:19:37.885Z"
   },
   {
    "duration": 4,
    "start_time": "2023-05-18T11:19:37.917Z"
   },
   {
    "duration": 7,
    "start_time": "2023-05-18T11:19:37.923Z"
   },
   {
    "duration": 50,
    "start_time": "2023-05-18T11:19:37.934Z"
   },
   {
    "duration": 5,
    "start_time": "2023-05-18T11:19:37.986Z"
   },
   {
    "duration": 16,
    "start_time": "2023-05-18T11:19:37.993Z"
   },
   {
    "duration": 16,
    "start_time": "2023-05-18T11:19:38.012Z"
   },
   {
    "duration": 16,
    "start_time": "2023-05-18T11:19:38.031Z"
   },
   {
    "duration": 30,
    "start_time": "2023-05-18T11:19:38.049Z"
   },
   {
    "duration": 41,
    "start_time": "2023-05-18T11:19:38.081Z"
   },
   {
    "duration": 6,
    "start_time": "2023-05-18T11:19:38.124Z"
   },
   {
    "duration": 364,
    "start_time": "2023-05-18T11:19:38.132Z"
   },
   {
    "duration": 304,
    "start_time": "2023-05-18T11:19:38.498Z"
   },
   {
    "duration": 7,
    "start_time": "2023-05-18T11:19:38.803Z"
   },
   {
    "duration": 242,
    "start_time": "2023-05-18T11:19:38.812Z"
   },
   {
    "duration": 9,
    "start_time": "2023-05-18T11:19:39.065Z"
   },
   {
    "duration": 249,
    "start_time": "2023-05-18T11:19:39.077Z"
   },
   {
    "duration": 5,
    "start_time": "2023-05-18T11:19:39.328Z"
   },
   {
    "duration": 198,
    "start_time": "2023-05-18T11:19:39.334Z"
   },
   {
    "duration": 6,
    "start_time": "2023-05-18T11:19:39.534Z"
   },
   {
    "duration": 204,
    "start_time": "2023-05-18T11:19:39.542Z"
   },
   {
    "duration": 8,
    "start_time": "2023-05-18T11:19:39.763Z"
   },
   {
    "duration": 205,
    "start_time": "2023-05-18T11:19:39.774Z"
   },
   {
    "duration": 6,
    "start_time": "2023-05-18T11:19:39.981Z"
   },
   {
    "duration": 236,
    "start_time": "2023-05-18T11:19:39.989Z"
   },
   {
    "duration": 6,
    "start_time": "2023-05-18T11:19:40.227Z"
   },
   {
    "duration": 14,
    "start_time": "2023-05-18T11:19:40.236Z"
   },
   {
    "duration": 235,
    "start_time": "2023-05-18T11:19:40.257Z"
   },
   {
    "duration": 166,
    "start_time": "2023-05-18T11:19:40.494Z"
   },
   {
    "duration": 6,
    "start_time": "2023-05-18T11:19:40.666Z"
   },
   {
    "duration": 9,
    "start_time": "2023-05-18T11:19:40.677Z"
   },
   {
    "duration": 262,
    "start_time": "2023-05-18T11:19:40.687Z"
   },
   {
    "duration": 356,
    "start_time": "2023-05-18T11:19:40.951Z"
   },
   {
    "duration": 319,
    "start_time": "2023-05-18T11:19:41.310Z"
   },
   {
    "duration": 5,
    "start_time": "2023-05-18T11:19:41.631Z"
   },
   {
    "duration": 21,
    "start_time": "2023-05-18T11:19:41.638Z"
   },
   {
    "duration": 205,
    "start_time": "2023-05-18T11:19:41.662Z"
   },
   {
    "duration": 158,
    "start_time": "2023-05-18T11:19:41.870Z"
   },
   {
    "duration": 6,
    "start_time": "2023-05-18T11:19:42.031Z"
   },
   {
    "duration": 34,
    "start_time": "2023-05-18T11:19:42.039Z"
   },
   {
    "duration": 21,
    "start_time": "2023-05-18T11:19:42.075Z"
   },
   {
    "duration": 14,
    "start_time": "2023-05-18T11:19:42.098Z"
   },
   {
    "duration": 13,
    "start_time": "2023-05-18T11:19:42.114Z"
   },
   {
    "duration": 24,
    "start_time": "2023-05-18T11:19:42.129Z"
   },
   {
    "duration": 7,
    "start_time": "2023-05-18T11:19:42.173Z"
   },
   {
    "duration": 30,
    "start_time": "2023-05-18T11:19:42.182Z"
   },
   {
    "duration": 193,
    "start_time": "2023-05-18T11:19:42.214Z"
   },
   {
    "duration": 192,
    "start_time": "2023-05-18T11:19:42.409Z"
   },
   {
    "duration": 300,
    "start_time": "2023-05-18T11:19:42.603Z"
   },
   {
    "duration": 170,
    "start_time": "2023-05-18T11:19:42.905Z"
   },
   {
    "duration": 202,
    "start_time": "2023-05-18T11:19:43.077Z"
   },
   {
    "duration": 171,
    "start_time": "2023-05-18T11:19:43.281Z"
   },
   {
    "duration": 220,
    "start_time": "2023-05-18T11:19:43.453Z"
   },
   {
    "duration": 224,
    "start_time": "2023-05-18T11:19:43.676Z"
   },
   {
    "duration": 210,
    "start_time": "2023-05-18T11:19:43.902Z"
   },
   {
    "duration": 153,
    "start_time": "2023-05-18T11:19:44.114Z"
   },
   {
    "duration": 132,
    "start_time": "2023-05-18T11:19:44.276Z"
   },
   {
    "duration": 139,
    "start_time": "2023-05-18T11:19:44.409Z"
   },
   {
    "duration": 12,
    "start_time": "2023-05-18T11:19:44.549Z"
   },
   {
    "duration": 21,
    "start_time": "2023-05-18T11:19:44.563Z"
   },
   {
    "duration": 21,
    "start_time": "2023-05-18T11:19:44.586Z"
   },
   {
    "duration": 10,
    "start_time": "2023-05-18T11:19:44.609Z"
   },
   {
    "duration": 27,
    "start_time": "2023-05-18T11:19:44.621Z"
   },
   {
    "duration": 19,
    "start_time": "2023-05-18T11:19:44.649Z"
   },
   {
    "duration": 12,
    "start_time": "2023-05-18T11:19:44.672Z"
   },
   {
    "duration": 14,
    "start_time": "2023-05-18T11:19:44.686Z"
   },
   {
    "duration": 19,
    "start_time": "2023-05-18T11:19:44.701Z"
   },
   {
    "duration": 13,
    "start_time": "2023-05-18T11:19:44.722Z"
   },
   {
    "duration": 9,
    "start_time": "2023-05-18T11:19:44.737Z"
   },
   {
    "duration": 320,
    "start_time": "2023-05-18T11:32:41.476Z"
   },
   {
    "duration": 150,
    "start_time": "2023-05-18T11:33:36.867Z"
   },
   {
    "duration": 225,
    "start_time": "2023-05-18T11:33:41.474Z"
   },
   {
    "duration": 637,
    "start_time": "2023-05-18T11:33:50.790Z"
   },
   {
    "duration": 350,
    "start_time": "2023-05-18T11:34:18.324Z"
   },
   {
    "duration": 358,
    "start_time": "2023-05-18T11:34:22.450Z"
   },
   {
    "duration": 365,
    "start_time": "2023-05-18T11:34:35.235Z"
   },
   {
    "duration": 320,
    "start_time": "2023-05-18T11:34:39.774Z"
   },
   {
    "duration": 346,
    "start_time": "2023-05-18T11:34:54.783Z"
   },
   {
    "duration": 379,
    "start_time": "2023-05-18T11:35:25.310Z"
   },
   {
    "duration": 293,
    "start_time": "2023-05-18T11:35:43.398Z"
   },
   {
    "duration": 332,
    "start_time": "2023-05-18T11:36:04.295Z"
   },
   {
    "duration": 198,
    "start_time": "2023-05-18T11:36:12.711Z"
   },
   {
    "duration": 186,
    "start_time": "2023-05-18T11:36:44.207Z"
   },
   {
    "duration": 204,
    "start_time": "2023-05-18T11:36:57.094Z"
   },
   {
    "duration": 176,
    "start_time": "2023-05-18T11:37:10.977Z"
   },
   {
    "duration": 190,
    "start_time": "2023-05-18T11:37:23.856Z"
   },
   {
    "duration": 186,
    "start_time": "2023-05-18T11:37:32.460Z"
   },
   {
    "duration": 206,
    "start_time": "2023-05-18T11:37:45.607Z"
   },
   {
    "duration": 190,
    "start_time": "2023-05-18T11:38:17.800Z"
   },
   {
    "duration": 192,
    "start_time": "2023-05-18T11:38:29.183Z"
   },
   {
    "duration": 183,
    "start_time": "2023-05-18T11:38:43.192Z"
   },
   {
    "duration": 197,
    "start_time": "2023-05-18T11:38:56.659Z"
   },
   {
    "duration": 177,
    "start_time": "2023-05-18T11:39:12.659Z"
   },
   {
    "duration": 197,
    "start_time": "2023-05-18T11:39:18.764Z"
   },
   {
    "duration": 274,
    "start_time": "2023-05-18T11:39:45.792Z"
   },
   {
    "duration": 499,
    "start_time": "2023-05-18T11:39:57.392Z"
   },
   {
    "duration": 176,
    "start_time": "2023-05-18T11:40:13.688Z"
   },
   {
    "duration": 96,
    "start_time": "2023-05-18T11:42:13.847Z"
   },
   {
    "duration": 134,
    "start_time": "2023-05-18T11:42:21.160Z"
   },
   {
    "duration": 138,
    "start_time": "2023-05-18T11:42:31.147Z"
   },
   {
    "duration": 121,
    "start_time": "2023-05-18T11:42:38.567Z"
   },
   {
    "duration": 165,
    "start_time": "2023-05-18T11:43:55.552Z"
   },
   {
    "duration": 256,
    "start_time": "2023-05-18T11:45:33.394Z"
   },
   {
    "duration": 295,
    "start_time": "2023-05-18T11:46:08.884Z"
   },
   {
    "duration": 339,
    "start_time": "2023-05-18T11:46:18.604Z"
   },
   {
    "duration": 319,
    "start_time": "2023-05-18T11:46:21.605Z"
   },
   {
    "duration": 307,
    "start_time": "2023-05-18T11:47:06.063Z"
   },
   {
    "duration": 522,
    "start_time": "2023-05-18T11:48:12.252Z"
   },
   {
    "duration": 308,
    "start_time": "2023-05-18T11:48:30.048Z"
   },
   {
    "duration": 173,
    "start_time": "2023-05-18T11:49:07.797Z"
   },
   {
    "duration": 182,
    "start_time": "2023-05-18T11:49:24.340Z"
   },
   {
    "duration": 153,
    "start_time": "2023-05-18T11:49:50.150Z"
   },
   {
    "duration": 192,
    "start_time": "2023-05-18T11:50:57.060Z"
   },
   {
    "duration": 178,
    "start_time": "2023-05-18T11:51:04.251Z"
   },
   {
    "duration": 173,
    "start_time": "2023-05-18T11:51:52.873Z"
   },
   {
    "duration": 181,
    "start_time": "2023-05-18T11:51:57.748Z"
   },
   {
    "duration": 172,
    "start_time": "2023-05-18T11:52:01.447Z"
   },
   {
    "duration": 170,
    "start_time": "2023-05-18T11:52:31.505Z"
   },
   {
    "duration": 167,
    "start_time": "2023-05-18T11:53:19.585Z"
   },
   {
    "duration": 152,
    "start_time": "2023-05-18T11:53:23.800Z"
   },
   {
    "duration": 197,
    "start_time": "2023-05-18T11:53:48.888Z"
   },
   {
    "duration": 174,
    "start_time": "2023-05-18T11:53:56.888Z"
   },
   {
    "duration": 190,
    "start_time": "2023-05-18T11:54:11.775Z"
   },
   {
    "duration": 416,
    "start_time": "2023-05-18T11:54:48.090Z"
   },
   {
    "duration": 196,
    "start_time": "2023-05-18T11:55:00.776Z"
   },
   {
    "duration": 193,
    "start_time": "2023-05-18T11:55:08.105Z"
   },
   {
    "duration": 121,
    "start_time": "2023-05-18T11:55:47.835Z"
   },
   {
    "duration": 125,
    "start_time": "2023-05-18T11:55:56.851Z"
   },
   {
    "duration": 140,
    "start_time": "2023-05-18T11:56:04.092Z"
   },
   {
    "duration": 131,
    "start_time": "2023-05-18T11:56:13.697Z"
   }
  ],
  "kernelspec": {
   "display_name": "Python 3 (ipykernel)",
   "language": "python",
   "name": "python3"
  },
  "language_info": {
   "codemirror_mode": {
    "name": "ipython",
    "version": 3
   },
   "file_extension": ".py",
   "mimetype": "text/x-python",
   "name": "python",
   "nbconvert_exporter": "python",
   "pygments_lexer": "ipython3",
   "version": "3.9.5"
  },
  "toc": {
   "base_numbering": 1,
   "nav_menu": {},
   "number_sections": true,
   "sideBar": true,
   "skip_h1_title": true,
   "title_cell": "Table of Contents",
   "title_sidebar": "Contents",
   "toc_cell": false,
   "toc_position": {},
   "toc_section_display": true,
   "toc_window_display": false
  }
 },
 "nbformat": 4,
 "nbformat_minor": 5
}
